{
 "cells": [
  {
   "attachments": {},
   "cell_type": "markdown",
   "metadata": {},
   "source": [
    "## Introduction"
   ]
  },
  {
   "attachments": {},
   "cell_type": "markdown",
   "metadata": {},
   "source": [
    "The United Nations (UN) has declared eight Millennium Development Goals (MDG) namely to eradicate extreme poverty and hunger, achieve universal primary education, promote gender equality and empower women, reduce child mortality, improve maternal health, combat HIV/AIDS, malaria, and other diseases, ensure environmental sustainability, and build a global partnership for development. A primary focus of this report will be to determine if one of the UN's goals to ensure environmental sustainability is being achieved, by examining carbon dioxide (CO2) emissions, protected land and sea areas, and forests. Various Python modules will be used to process and visualize the data."
   ]
  },
  {
   "attachments": {},
   "cell_type": "markdown",
   "metadata": {},
   "source": [
    "## Statistical Thinking "
   ]
  },
  {
   "attachments": {},
   "cell_type": "markdown",
   "metadata": {},
   "source": [
    "#### Importing packages and opening the dataset"
   ]
  },
  {
   "cell_type": "code",
   "execution_count": 1,
   "metadata": {},
   "outputs": [],
   "source": [
    "import numpy as np\n",
    "import matplotlib.pyplot as plt\n",
    "import pandas as pd\n",
    "import seaborn as sns\n",
    "import scipy.stats as sp\n",
    "import plotly.express as px\n",
    "\n",
    "plt.rcParams[\"figure.figsize\"] = (10, 5)\n",
    "plt.rcParams[\"axes.labelweight\"] = \"bold\"\n",
    "plt.rcParams[\"axes.titleweight\"] = \"bold\""
   ]
  },
  {
   "attachments": {},
   "cell_type": "markdown",
   "metadata": {},
   "source": [
    "<strong>Opening the dataset we will be working with.</strong>"
   ]
  },
  {
   "cell_type": "code",
   "execution_count": 2,
   "metadata": {},
   "outputs": [
    {
     "data": {
      "text/html": [
       "<div>\n",
       "<style scoped>\n",
       "    .dataframe tbody tr th:only-of-type {\n",
       "        vertical-align: middle;\n",
       "    }\n",
       "\n",
       "    .dataframe tbody tr th {\n",
       "        vertical-align: top;\n",
       "    }\n",
       "\n",
       "    .dataframe thead th {\n",
       "        text-align: right;\n",
       "    }\n",
       "</style>\n",
       "<table border=\"1\" class=\"dataframe\">\n",
       "  <thead>\n",
       "    <tr style=\"text-align: right;\">\n",
       "      <th></th>\n",
       "      <th>CountryCode</th>\n",
       "      <th>Country</th>\n",
       "      <th>SeriesCode</th>\n",
       "      <th>MDG</th>\n",
       "      <th>Series</th>\n",
       "      <th>1990</th>\n",
       "      <th>Footnotes</th>\n",
       "      <th>Type</th>\n",
       "      <th>1991</th>\n",
       "      <th>Footnotes.1</th>\n",
       "      <th>...</th>\n",
       "      <th>Type.26</th>\n",
       "      <th>2017</th>\n",
       "      <th>Footnotes.27</th>\n",
       "      <th>Type.27</th>\n",
       "      <th>2018</th>\n",
       "      <th>Footnotes.28</th>\n",
       "      <th>Type.28</th>\n",
       "      <th>2019</th>\n",
       "      <th>Footnotes.29</th>\n",
       "      <th>Type.29</th>\n",
       "    </tr>\n",
       "  </thead>\n",
       "  <tbody>\n",
       "    <tr>\n",
       "      <th>0</th>\n",
       "      <td>4</td>\n",
       "      <td>Afghanistan</td>\n",
       "      <td>567</td>\n",
       "      <td>Y</td>\n",
       "      <td>Proportion of land area covered by forest, per...</td>\n",
       "      <td>2.10</td>\n",
       "      <td>NaN</td>\n",
       "      <td>E</td>\n",
       "      <td>NaN</td>\n",
       "      <td>NaN</td>\n",
       "      <td>...</td>\n",
       "      <td>NaN</td>\n",
       "      <td>NaN</td>\n",
       "      <td>NaN</td>\n",
       "      <td>NaN</td>\n",
       "      <td>NaN</td>\n",
       "      <td>NaN</td>\n",
       "      <td>NaN</td>\n",
       "      <td>NaN</td>\n",
       "      <td>NaN</td>\n",
       "      <td>NaN</td>\n",
       "    </tr>\n",
       "    <tr>\n",
       "      <th>1</th>\n",
       "      <td>4</td>\n",
       "      <td>Afghanistan</td>\n",
       "      <td>749</td>\n",
       "      <td>Y</td>\n",
       "      <td>Carbon dioxide emissions (CO2), thousand metri...</td>\n",
       "      <td>2676.90</td>\n",
       "      <td>NaN</td>\n",
       "      <td>G</td>\n",
       "      <td>2493.6</td>\n",
       "      <td>NaN</td>\n",
       "      <td>...</td>\n",
       "      <td>NaN</td>\n",
       "      <td>NaN</td>\n",
       "      <td>NaN</td>\n",
       "      <td>NaN</td>\n",
       "      <td>NaN</td>\n",
       "      <td>NaN</td>\n",
       "      <td>NaN</td>\n",
       "      <td>NaN</td>\n",
       "      <td>NaN</td>\n",
       "      <td>NaN</td>\n",
       "    </tr>\n",
       "    <tr>\n",
       "      <th>2</th>\n",
       "      <td>4</td>\n",
       "      <td>Afghanistan</td>\n",
       "      <td>616</td>\n",
       "      <td>Y</td>\n",
       "      <td>Terrestrial and marine areas protected to tota...</td>\n",
       "      <td>0.36</td>\n",
       "      <td>NaN</td>\n",
       "      <td>C</td>\n",
       "      <td>NaN</td>\n",
       "      <td>NaN</td>\n",
       "      <td>...</td>\n",
       "      <td>NaN</td>\n",
       "      <td>NaN</td>\n",
       "      <td>NaN</td>\n",
       "      <td>NaN</td>\n",
       "      <td>NaN</td>\n",
       "      <td>NaN</td>\n",
       "      <td>NaN</td>\n",
       "      <td>NaN</td>\n",
       "      <td>NaN</td>\n",
       "      <td>NaN</td>\n",
       "    </tr>\n",
       "  </tbody>\n",
       "</table>\n",
       "<p>3 rows × 95 columns</p>\n",
       "</div>"
      ],
      "text/plain": [
       "   CountryCode      Country  SeriesCode MDG  \\\n",
       "0            4  Afghanistan         567   Y   \n",
       "1            4  Afghanistan         749   Y   \n",
       "2            4  Afghanistan         616   Y   \n",
       "\n",
       "                                              Series     1990  Footnotes Type  \\\n",
       "0  Proportion of land area covered by forest, per...     2.10        NaN    E   \n",
       "1  Carbon dioxide emissions (CO2), thousand metri...  2676.90        NaN    G   \n",
       "2  Terrestrial and marine areas protected to tota...     0.36        NaN    C   \n",
       "\n",
       "     1991  Footnotes.1  ... Type.26  2017  Footnotes.27 Type.27  2018  \\\n",
       "0     NaN          NaN  ...     NaN   NaN           NaN     NaN   NaN   \n",
       "1  2493.6          NaN  ...     NaN   NaN           NaN     NaN   NaN   \n",
       "2     NaN          NaN  ...     NaN   NaN           NaN     NaN   NaN   \n",
       "\n",
       "   Footnotes.28 Type.28  2019  Footnotes.29 Type.29  \n",
       "0           NaN     NaN   NaN           NaN     NaN  \n",
       "1           NaN     NaN   NaN           NaN     NaN  \n",
       "2           NaN     NaN   NaN           NaN     NaN  \n",
       "\n",
       "[3 rows x 95 columns]"
      ]
     },
     "execution_count": 2,
     "metadata": {},
     "output_type": "execute_result"
    }
   ],
   "source": [
    "data_frame = pd.read_csv(\"../data/data.csv\", na_values=[\" \", \"\"])\n",
    "data_frame.head(3)"
   ]
  },
  {
   "attachments": {},
   "cell_type": "markdown",
   "metadata": {},
   "source": [
    "#### Data cleaning"
   ]
  },
  {
   "attachments": {},
   "cell_type": "markdown",
   "metadata": {},
   "source": [
    "If there any duplicates of countries, they are dropped. This is so that we have an accurate reading of countries represented in the dataset."
   ]
  },
  {
   "cell_type": "code",
   "execution_count": 3,
   "metadata": {},
   "outputs": [
    {
     "name": "stdout",
     "output_type": "stream",
     "text": [
      "<class 'pandas.core.frame.DataFrame'>\n",
      "Index: 230 entries, 0 to 687\n",
      "Data columns (total 95 columns):\n",
      " #   Column        Non-Null Count  Dtype  \n",
      "---  ------        --------------  -----  \n",
      " 0   CountryCode   230 non-null    int64  \n",
      " 1   Country       230 non-null    object \n",
      " 2   SeriesCode    230 non-null    int64  \n",
      " 3   MDG           230 non-null    object \n",
      " 4   Series        230 non-null    object \n",
      " 5   1990          223 non-null    float64\n",
      " 6   Footnotes     5 non-null      float64\n",
      " 7   Type          224 non-null    object \n",
      " 8   1991          0 non-null      float64\n",
      " 9   Footnotes.1   0 non-null      float64\n",
      " 10  Type.1        0 non-null      object \n",
      " 11  1992          0 non-null      float64\n",
      " 12  Footnotes.2   0 non-null      float64\n",
      " 13  Type.2        0 non-null      object \n",
      " 14  1993          0 non-null      float64\n",
      " 15  Footnotes.3   0 non-null      float64\n",
      " 16  Type.3        0 non-null      object \n",
      " 17  1994          0 non-null      float64\n",
      " 18  Footnotes.4   0 non-null      float64\n",
      " 19  Type.4        0 non-null      object \n",
      " 20  1995          0 non-null      float64\n",
      " 21  Footnotes.5   0 non-null      float64\n",
      " 22  Type.5        0 non-null      object \n",
      " 23  1996          0 non-null      float64\n",
      " 24  Footnotes.6   0 non-null      float64\n",
      " 25  Type.6        0 non-null      object \n",
      " 26  1997          0 non-null      float64\n",
      " 27  Footnotes.7   0 non-null      float64\n",
      " 28  Type.7        0 non-null      object \n",
      " 29  1998          0 non-null      float64\n",
      " 30  Footnotes.8   0 non-null      float64\n",
      " 31  Type.8        0 non-null      object \n",
      " 32  1999          0 non-null      float64\n",
      " 33  Footnotes.9   0 non-null      float64\n",
      " 34  Type.9        0 non-null      object \n",
      " 35  2000          223 non-null    float64\n",
      " 36  Footnotes.10  5 non-null      float64\n",
      " 37  Type.10       224 non-null    object \n",
      " 38  2001          0 non-null      float64\n",
      " 39  Footnotes.11  0 non-null      float64\n",
      " 40  Type.11       0 non-null      object \n",
      " 41  2002          0 non-null      float64\n",
      " 42  Footnotes.12  0 non-null      float64\n",
      " 43  Type.12       0 non-null      object \n",
      " 44  2003          0 non-null      float64\n",
      " 45  Footnotes.13  0 non-null      float64\n",
      " 46  Type.13       0 non-null      object \n",
      " 47  2004          0 non-null      float64\n",
      " 48  Footnotes.14  0 non-null      float64\n",
      " 49  Type.14       0 non-null      object \n",
      " 50  2005          223 non-null    float64\n",
      " 51  Footnotes.15  5 non-null      float64\n",
      " 52  Type.15       224 non-null    object \n",
      " 53  2006          0 non-null      float64\n",
      " 54  Footnotes.16  0 non-null      float64\n",
      " 55  Type.16       0 non-null      object \n",
      " 56  2007          0 non-null      float64\n",
      " 57  Footnotes.17  0 non-null      float64\n",
      " 58  Type.17       0 non-null      object \n",
      " 59  2008          0 non-null      float64\n",
      " 60  Footnotes.18  0 non-null      float64\n",
      " 61  Type.18       0 non-null      object \n",
      " 62  2009          0 non-null      float64\n",
      " 63  Footnotes.19  0 non-null      float64\n",
      " 64  Type.19       0 non-null      object \n",
      " 65  2010          223 non-null    float64\n",
      " 66  Footnotes.20  5 non-null      float64\n",
      " 67  Type.20       224 non-null    object \n",
      " 68  2011          0 non-null      float64\n",
      " 69  Footnotes.21  0 non-null      float64\n",
      " 70  Type.21       0 non-null      object \n",
      " 71  2012          0 non-null      float64\n",
      " 72  Footnotes.22  0 non-null      float64\n",
      " 73  Type.22       0 non-null      float64\n",
      " 74  2013          0 non-null      float64\n",
      " 75  Footnotes.23  0 non-null      float64\n",
      " 76  Type.23       0 non-null      float64\n",
      " 77  2014          0 non-null      float64\n",
      " 78  Footnotes.24  0 non-null      float64\n",
      " 79  Type.24       0 non-null      object \n",
      " 80  2015          0 non-null      float64\n",
      " 81  Footnotes.25  0 non-null      float64\n",
      " 82  Type.25       0 non-null      float64\n",
      " 83  2016          0 non-null      float64\n",
      " 84  Footnotes.26  0 non-null      float64\n",
      " 85  Type.26       0 non-null      float64\n",
      " 86  2017          0 non-null      float64\n",
      " 87  Footnotes.27  0 non-null      float64\n",
      " 88  Type.27       0 non-null      float64\n",
      " 89  2018          0 non-null      float64\n",
      " 90  Footnotes.28  0 non-null      float64\n",
      " 91  Type.28       0 non-null      float64\n",
      " 92  2019          0 non-null      float64\n",
      " 93  Footnotes.29  0 non-null      float64\n",
      " 94  Type.29       0 non-null      float64\n",
      "dtypes: float64(67), int64(2), object(26)\n",
      "memory usage: 172.5+ KB\n"
     ]
    }
   ],
   "source": [
    "data_frame.drop_duplicates(\"Country\").info()"
   ]
  },
  {
   "attachments": {},
   "cell_type": "markdown",
   "metadata": {},
   "source": [
    "By inspection, there are 230 countries represented in the dataset. "
   ]
  },
  {
   "attachments": {},
   "cell_type": "markdown",
   "metadata": {},
   "source": [
    "\"Footnotes\" and \"Type\" are renamed to give these columns two general names. These changes are made because there are different types of Footnotes and Types, so they are renamed to make the process of dropping them easier. We drop them because they are irrelevant and unused in this project."
   ]
  },
  {
   "cell_type": "code",
   "execution_count": 4,
   "metadata": {},
   "outputs": [],
   "source": [
    "data_frame.columns = data_frame.columns.str.replace(\n",
    "    \"^Footnotes.+\", \"Footnotes\", regex=True\n",
    ")\n",
    "data_frame.columns = data_frame.columns.str.replace(\"^Type.+\", \"Type\", regex=True)"
   ]
  },
  {
   "cell_type": "code",
   "execution_count": 5,
   "metadata": {},
   "outputs": [],
   "source": [
    "data_frame = data_frame.drop(\"Footnotes\", axis=\"columns\")"
   ]
  },
  {
   "cell_type": "code",
   "execution_count": 6,
   "metadata": {},
   "outputs": [],
   "source": [
    "data_frame = data_frame.drop(\"Type\", axis=\"columns\")"
   ]
  },
  {
   "attachments": {},
   "cell_type": "markdown",
   "metadata": {},
   "source": [
    "<strong>A function to find missing values by Country and Series</strong>"
   ]
  },
  {
   "cell_type": "code",
   "execution_count": 7,
   "metadata": {},
   "outputs": [],
   "source": [
    "def find_nan_values_for_group(dataframe, columns):\n",
    "    for groups in columns:\n",
    "        print(\n",
    "            f\"{groups}: {dataframe.get_group(groups).isna().sum().sum()} missing values\"\n",
    "        )"
   ]
  },
  {
   "attachments": {},
   "cell_type": "markdown",
   "metadata": {},
   "source": [
    "<strong>Finding missing values by Country</strong>"
   ]
  },
  {
   "cell_type": "code",
   "execution_count": 8,
   "metadata": {},
   "outputs": [
    {
     "name": "stdout",
     "output_type": "stream",
     "text": [
      "Afghanistan: 61 missing values\n",
      "Albania: 61 missing values\n",
      "Algeria: 61 missing values\n",
      "American Samoa: 83 missing values\n",
      "Andorra: 66 missing values\n",
      "Angola: 61 missing values\n",
      "Anguilla: 68 missing values\n",
      "Antigua and Barbuda: 61 missing values\n",
      "Argentina: 61 missing values\n",
      "Armenia: 63 missing values\n",
      "Aruba: 61 missing values\n",
      "Australia: 61 missing values\n",
      "Austria: 61 missing values\n",
      "Azerbaijan: 63 missing values\n",
      "Bahamas: 61 missing values\n",
      "Bahrain: 61 missing values\n",
      "Bangladesh: 61 missing values\n",
      "Barbados: 61 missing values\n",
      "Belarus: 63 missing values\n",
      "Belgium: 61 missing values\n",
      "Belize: 61 missing values\n",
      "Benin: 61 missing values\n",
      "Bermuda: 61 missing values\n",
      "Bhutan: 61 missing values\n",
      "Bolivia: 61 missing values\n",
      "Bosnia and Herzegovina: 63 missing values\n",
      "Botswana: 61 missing values\n",
      "Brazil: 61 missing values\n",
      "British Virgin Islands: 61 missing values\n",
      "Brunei Darussalam: 61 missing values\n",
      "Bulgaria: 61 missing values\n",
      "Burkina Faso: 61 missing values\n",
      "Burundi: 61 missing values\n",
      "Cambodia: 61 missing values\n",
      "Cameroon: 61 missing values\n",
      "Canada: 61 missing values\n",
      "Cape Verde: 61 missing values\n",
      "Cayman Islands: 61 missing values\n",
      "Central African Republic: 61 missing values\n",
      "Chad: 61 missing values\n",
      "Chile: 61 missing values\n",
      "China: 61 missing values\n",
      "China, Hong Kong Special Administrative Region: 65 missing values\n",
      "China, Macao Special Administrative Region: 65 missing values\n",
      "Colombia: 61 missing values\n",
      "Comoros: 61 missing values\n",
      "Congo: 61 missing values\n",
      "Cook Islands: 61 missing values\n",
      "Costa Rica: 61 missing values\n",
      "Cote d'Ivoire: 61 missing values\n",
      "Croatia: 63 missing values\n",
      "Cuba: 61 missing values\n",
      "Cyprus: 61 missing values\n",
      "Czech Republic: 63 missing values\n",
      "Democratic Republic of the Congo: 61 missing values\n",
      "Denmark: 61 missing values\n",
      "Djibouti: 61 missing values\n",
      "Dominica: 61 missing values\n",
      "Dominican Republic: 61 missing values\n",
      "Ecuador: 61 missing values\n",
      "Egypt: 61 missing values\n",
      "El Salvador: 61 missing values\n",
      "Equatorial Guinea: 61 missing values\n",
      "Eritrea: 65 missing values\n",
      "Estonia: 63 missing values\n",
      "Ethiopia: 61 missing values\n",
      "Faeroe Islands: 61 missing values\n",
      "Falkland Islands (Malvinas): 61 missing values\n",
      "Fiji: 61 missing values\n",
      "Finland: 61 missing values\n",
      "France: 61 missing values\n",
      "French Guiana: 61 missing values\n",
      "French Polynesia: 61 missing values\n",
      "Gabon: 61 missing values\n",
      "Gambia: 61 missing values\n",
      "Georgia: 63 missing values\n",
      "Germany: 62 missing values\n",
      "Ghana: 61 missing values\n",
      "Gibraltar: 64 missing values\n",
      "Greece: 61 missing values\n",
      "Greenland: 61 missing values\n",
      "Grenada: 61 missing values\n",
      "Guadeloupe: 61 missing values\n",
      "Guam: 83 missing values\n",
      "Guatemala: 61 missing values\n",
      "Guinea: 61 missing values\n",
      "Guinea-Bissau: 61 missing values\n",
      "Guyana: 61 missing values\n",
      "Haiti: 61 missing values\n",
      "Honduras: 61 missing values\n",
      "Hungary: 61 missing values\n",
      "Iceland: 61 missing values\n",
      "India: 61 missing values\n",
      "Indonesia: 61 missing values\n",
      "Iran (Islamic Republic of): 61 missing values\n",
      "Iraq: 61 missing values\n",
      "Ireland: 61 missing values\n",
      "Israel: 61 missing values\n",
      "Italy: 61 missing values\n",
      "Jamaica: 61 missing values\n",
      "Japan: 61 missing values\n",
      "Jordan: 61 missing values\n",
      "Kazakhstan: 63 missing values\n",
      "Kenya: 61 missing values\n",
      "Kiribati: 61 missing values\n",
      "Korea, Democratic People's Republic of: 61 missing values\n",
      "Korea, Republic of: 61 missing values\n",
      "Kuwait: 61 missing values\n",
      "Kyrgyzstan: 63 missing values\n",
      "Lao People's Democratic Republic: 61 missing values\n",
      "Latvia: 63 missing values\n",
      "Lebanon: 61 missing values\n",
      "Lesotho: 76 missing values\n",
      "Liberia: 61 missing values\n",
      "Libyan Arab Jamahiriya: 61 missing values\n",
      "Liechtenstein: 78 missing values\n",
      "Lithuania: 63 missing values\n",
      "Luxembourg: 61 missing values\n",
      "Madagascar: 61 missing values\n",
      "Malawi: 61 missing values\n",
      "Malaysia: 61 missing values\n",
      "Maldives: 61 missing values\n",
      "Mali: 61 missing values\n",
      "Malta: 61 missing values\n",
      "Marshall Islands: 61 missing values\n",
      "Martinique: 61 missing values\n",
      "Mauritania: 61 missing values\n",
      "Mauritius: 61 missing values\n",
      "Mayotte: 83 missing values\n",
      "Mexico: 61 missing values\n",
      "Micronesia, Federated States of: 68 missing values\n",
      "Monaco: 87 missing values\n",
      "Mongolia: 61 missing values\n",
      "Montenegro: 77 missing values\n",
      "Montserrat: 61 missing values\n",
      "Morocco: 61 missing values\n",
      "Mozambique: 61 missing values\n",
      "Myanmar: 61 missing values\n",
      "Namibia: 61 missing values\n",
      "Nauru: 61 missing values\n",
      "Nepal: 61 missing values\n",
      "Netherlands: 61 missing values\n",
      "Netherlands Antilles: 61 missing values\n",
      "New Caledonia: 61 missing values\n",
      "New Zealand: 61 missing values\n",
      "Nicaragua: 61 missing values\n",
      "Niger: 61 missing values\n",
      "Nigeria: 61 missing values\n",
      "Niue: 61 missing values\n",
      "Northern Mariana Islands: 83 missing values\n",
      "Norway: 61 missing values\n",
      "Oman: 61 missing values\n",
      "Pakistan: 61 missing values\n",
      "Palau: 63 missing values\n",
      "Panama: 61 missing values\n",
      "Papua New Guinea: 61 missing values\n",
      "Paraguay: 61 missing values\n",
      "Peru: 61 missing values\n",
      "Philippines: 61 missing values\n",
      "Poland: 61 missing values\n",
      "Portugal: 61 missing values\n",
      "Puerto Rico: 83 missing values\n",
      "Qatar: 61 missing values\n",
      "Republic of Moldova: 63 missing values\n",
      "Reunion: 61 missing values\n",
      "Romania: 61 missing values\n",
      "Russian Federation: 63 missing values\n",
      "Rwanda: 61 missing values\n",
      "Saint Helena: 64 missing values\n",
      "Saint Kitts and Nevis: 61 missing values\n",
      "Saint Lucia: 61 missing values\n",
      "Saint Pierre and Miquelon: 64 missing values\n",
      "Saint Vincent and the Grenadines: 61 missing values\n",
      "Samoa: 61 missing values\n",
      "San Marino: 83 missing values\n",
      "Sao Tome and Principe: 61 missing values\n",
      "Saudi Arabia: 61 missing values\n",
      "Senegal: 61 missing values\n",
      "Serbia: 77 missing values\n",
      "Serbia and Montenegro: 76 missing values\n",
      "Seychelles: 61 missing values\n",
      "Sierra Leone: 61 missing values\n",
      "Singapore: 61 missing values\n",
      "Slovakia: 63 missing values\n",
      "Slovenia: 63 missing values\n",
      "Solomon Islands: 61 missing values\n",
      "Somalia: 65 missing values\n",
      "South Africa: 61 missing values\n",
      "South Sudan: 87 missing values\n",
      "Spain: 61 missing values\n",
      "Sri Lanka: 61 missing values\n",
      "State of Palestine: 68 missing values\n",
      "Sudan: 87 missing values\n",
      "Sudan (former): 64 missing values\n",
      "Suriname: 61 missing values\n",
      "Swaziland: 61 missing values\n",
      "Sweden: 61 missing values\n",
      "Switzerland: 61 missing values\n",
      "Syrian Arab Republic: 61 missing values\n",
      "Tajikistan: 63 missing values\n",
      "Thailand: 61 missing values\n",
      "The former Yugoslav Republic of Macedonia: 63 missing values\n",
      "Timor-Leste: 73 missing values\n",
      "Togo: 61 missing values\n",
      "Tokelau: 83 missing values\n",
      "Tonga: 61 missing values\n",
      "Trinidad and Tobago: 61 missing values\n",
      "Tunisia: 61 missing values\n",
      "Turkey: 61 missing values\n",
      "Turkmenistan: 63 missing values\n",
      "Turks and Caicos Islands: 66 missing values\n",
      "Tuvalu: 83 missing values\n",
      "Uganda: 61 missing values\n",
      "Ukraine: 63 missing values\n",
      "United Arab Emirates: 61 missing values\n",
      "United Kingdom: 61 missing values\n",
      "United Republic of Tanzania: 61 missing values\n",
      "United States: 61 missing values\n",
      "United States Virgin Islands: 83 missing values\n",
      "Uruguay: 61 missing values\n",
      "Uzbekistan: 63 missing values\n",
      "Vanuatu: 61 missing values\n",
      "Venezuela: 61 missing values\n",
      "Viet Nam: 61 missing values\n",
      "Wallis and Futuna Islands: 75 missing values\n",
      "Western Sahara: 83 missing values\n",
      "Yemen: 61 missing values\n",
      "Yugoslavia [former Socialist Federal Republic]: 88 missing values\n",
      "Zambia: 61 missing values\n",
      "Zimbabwe: 61 missing values\n"
     ]
    }
   ],
   "source": [
    "def find_nan_values_for(dataframe, columns):\n",
    "    for groups in columns:\n",
    "        groups_key = (groups, )\n",
    "        print(\n",
    "            f\"{groups}: {dataframe.get_group(groups_key).isna().sum().sum()} missing values\"\n",
    "        )\n",
    "\n",
    "df_by_countr = data_frame.groupby([\"Country\"])\n",
    "\n",
    "find_nan_values_for(df_by_countr, data_frame[\"Country\"].unique())"
   ]
  },
  {
   "attachments": {},
   "cell_type": "markdown",
   "metadata": {},
   "source": [
    "<strong>Finding missing values by Series</strong>"
   ]
  },
  {
   "cell_type": "code",
   "execution_count": 11,
   "metadata": {},
   "outputs": [
    {
     "name": "stdout",
     "output_type": "stream",
     "text": [
      "Proportion of land area covered by forest, percentage: 6008 missing values\n",
      "Carbon dioxide emissions (CO2), thousand metric tons of CO2 (CDIAC): 2325 missing values\n",
      "Terrestrial and marine areas protected to total territorial area, percentage: 6231 missing values\n"
     ]
    }
   ],
   "source": [
    "df_by_series = data_frame.groupby(\"Series\")\n",
    "\n",
    "find_nan_values_for_group(df_by_series, data_frame[\"Series\"].unique())"
   ]
  },
  {
   "attachments": {},
   "cell_type": "markdown",
   "metadata": {},
   "source": [
    "<strong>Finding missing values by Years</strong>"
   ]
  },
  {
   "cell_type": "code",
   "execution_count": 12,
   "metadata": {},
   "outputs": [
    {
     "name": "stdout",
     "output_type": "stream",
     "text": [
      "1990: 63 missing values\n",
      "1991: 508 missing values\n",
      "1992: 486 missing values\n",
      "1993: 486 missing values\n",
      "1994: 485 missing values\n",
      "1995: 483 missing values\n",
      "1996: 484 missing values\n",
      "1997: 481 missing values\n",
      "1998: 481 missing values\n",
      "1999: 481 missing values\n",
      "2000: 34 missing values\n",
      "2001: 479 missing values\n",
      "2002: 478 missing values\n",
      "2003: 478 missing values\n",
      "2004: 478 missing values\n",
      "2005: 254 missing values\n",
      "2006: 476 missing values\n",
      "2007: 475 missing values\n",
      "2008: 475 missing values\n",
      "2009: 475 missing values\n",
      "2010: 252 missing values\n",
      "2011: 475 missing values\n",
      "2012: 690 missing values\n",
      "2013: 690 missing values\n",
      "2014: 467 missing values\n",
      "2015: 690 missing values\n",
      "2016: 690 missing values\n",
      "2017: 690 missing values\n",
      "2018: 690 missing values\n",
      "2019: 690 missing values\n"
     ]
    }
   ],
   "source": [
    "for year in data_frame.columns[5:]:\n",
    "    print(f\"{year}: {data_frame[year].isnull().sum()} missing values\")"
   ]
  },
  {
   "attachments": {},
   "cell_type": "markdown",
   "metadata": {},
   "source": [
    "Looking at the missing values by years, it shows that some of the years do not have any data collected and will therefore be dropped."
   ]
  },
  {
   "cell_type": "code",
   "execution_count": 13,
   "metadata": {},
   "outputs": [],
   "source": [
    "data_frame = data_frame.dropna(axis=1, how=\"all\")"
   ]
  },
  {
   "attachments": {},
   "cell_type": "markdown",
   "metadata": {},
   "source": [
    "<strong>The data frame is made up of three types of series, therefore there will be three sections focusing on these subsets.</strong>"
   ]
  },
  {
   "attachments": {},
   "cell_type": "markdown",
   "metadata": {},
   "source": [
    "#### Findings of Carbon emissions"
   ]
  },
  {
   "attachments": {},
   "cell_type": "markdown",
   "metadata": {},
   "source": [
    "A subset of carbon emissions is created."
   ]
  },
  {
   "cell_type": "code",
   "execution_count": 14,
   "metadata": {},
   "outputs": [
    {
     "data": {
      "text/html": [
       "<div>\n",
       "<style scoped>\n",
       "    .dataframe tbody tr th:only-of-type {\n",
       "        vertical-align: middle;\n",
       "    }\n",
       "\n",
       "    .dataframe tbody tr th {\n",
       "        vertical-align: top;\n",
       "    }\n",
       "\n",
       "    .dataframe thead th {\n",
       "        text-align: right;\n",
       "    }\n",
       "</style>\n",
       "<table border=\"1\" class=\"dataframe\">\n",
       "  <thead>\n",
       "    <tr style=\"text-align: right;\">\n",
       "      <th></th>\n",
       "      <th>CountryCode</th>\n",
       "      <th>Country</th>\n",
       "      <th>SeriesCode</th>\n",
       "      <th>MDG</th>\n",
       "      <th>Series</th>\n",
       "      <th>1990</th>\n",
       "      <th>1991</th>\n",
       "      <th>1992</th>\n",
       "      <th>1993</th>\n",
       "      <th>1994</th>\n",
       "      <th>...</th>\n",
       "      <th>2003</th>\n",
       "      <th>2004</th>\n",
       "      <th>2005</th>\n",
       "      <th>2006</th>\n",
       "      <th>2007</th>\n",
       "      <th>2008</th>\n",
       "      <th>2009</th>\n",
       "      <th>2010</th>\n",
       "      <th>2011</th>\n",
       "      <th>2014</th>\n",
       "    </tr>\n",
       "  </thead>\n",
       "  <tbody>\n",
       "    <tr>\n",
       "      <th>1</th>\n",
       "      <td>4</td>\n",
       "      <td>Afghanistan</td>\n",
       "      <td>749</td>\n",
       "      <td>Y</td>\n",
       "      <td>Carbon dioxide emissions (CO2), thousand metri...</td>\n",
       "      <td>2676.9</td>\n",
       "      <td>2493.6</td>\n",
       "      <td>1426.5</td>\n",
       "      <td>1375.1</td>\n",
       "      <td>1320.1</td>\n",
       "      <td>...</td>\n",
       "      <td>1037.8</td>\n",
       "      <td>957.1</td>\n",
       "      <td>1338.5</td>\n",
       "      <td>1657.5</td>\n",
       "      <td>2280.9</td>\n",
       "      <td>4217.1</td>\n",
       "      <td>6776.6</td>\n",
       "      <td>8470.8</td>\n",
       "      <td>12251.4</td>\n",
       "      <td>NaN</td>\n",
       "    </tr>\n",
       "    <tr>\n",
       "      <th>4</th>\n",
       "      <td>8</td>\n",
       "      <td>Albania</td>\n",
       "      <td>749</td>\n",
       "      <td>Y</td>\n",
       "      <td>Carbon dioxide emissions (CO2), thousand metri...</td>\n",
       "      <td>7488.0</td>\n",
       "      <td>3971.4</td>\n",
       "      <td>2387.2</td>\n",
       "      <td>2343.2</td>\n",
       "      <td>1928.8</td>\n",
       "      <td>...</td>\n",
       "      <td>4294.1</td>\n",
       "      <td>4165.7</td>\n",
       "      <td>4253.7</td>\n",
       "      <td>3865.0</td>\n",
       "      <td>4477.4</td>\n",
       "      <td>4657.1</td>\n",
       "      <td>4488.4</td>\n",
       "      <td>4415.1</td>\n",
       "      <td>4668.1</td>\n",
       "      <td>NaN</td>\n",
       "    </tr>\n",
       "    <tr>\n",
       "      <th>7</th>\n",
       "      <td>12</td>\n",
       "      <td>Algeria</td>\n",
       "      <td>749</td>\n",
       "      <td>Y</td>\n",
       "      <td>Carbon dioxide emissions (CO2), thousand metri...</td>\n",
       "      <td>78924.8</td>\n",
       "      <td>81220.4</td>\n",
       "      <td>81935.4</td>\n",
       "      <td>82294.8</td>\n",
       "      <td>86500.9</td>\n",
       "      <td>...</td>\n",
       "      <td>92533.1</td>\n",
       "      <td>89493.1</td>\n",
       "      <td>107127.7</td>\n",
       "      <td>100919.5</td>\n",
       "      <td>109294.9</td>\n",
       "      <td>111575.8</td>\n",
       "      <td>121374.0</td>\n",
       "      <td>119276.5</td>\n",
       "      <td>121755.4</td>\n",
       "      <td>NaN</td>\n",
       "    </tr>\n",
       "    <tr>\n",
       "      <th>10</th>\n",
       "      <td>16</td>\n",
       "      <td>American Samoa</td>\n",
       "      <td>749</td>\n",
       "      <td>Y</td>\n",
       "      <td>Carbon dioxide emissions (CO2), thousand metri...</td>\n",
       "      <td>NaN</td>\n",
       "      <td>NaN</td>\n",
       "      <td>NaN</td>\n",
       "      <td>NaN</td>\n",
       "      <td>NaN</td>\n",
       "      <td>...</td>\n",
       "      <td>NaN</td>\n",
       "      <td>NaN</td>\n",
       "      <td>NaN</td>\n",
       "      <td>NaN</td>\n",
       "      <td>NaN</td>\n",
       "      <td>NaN</td>\n",
       "      <td>NaN</td>\n",
       "      <td>NaN</td>\n",
       "      <td>NaN</td>\n",
       "      <td>NaN</td>\n",
       "    </tr>\n",
       "    <tr>\n",
       "      <th>13</th>\n",
       "      <td>20</td>\n",
       "      <td>Andorra</td>\n",
       "      <td>749</td>\n",
       "      <td>Y</td>\n",
       "      <td>Carbon dioxide emissions (CO2), thousand metri...</td>\n",
       "      <td>NaN</td>\n",
       "      <td>NaN</td>\n",
       "      <td>NaN</td>\n",
       "      <td>NaN</td>\n",
       "      <td>NaN</td>\n",
       "      <td>...</td>\n",
       "      <td>535.4</td>\n",
       "      <td>564.7</td>\n",
       "      <td>575.7</td>\n",
       "      <td>546.4</td>\n",
       "      <td>539.0</td>\n",
       "      <td>539.0</td>\n",
       "      <td>517.0</td>\n",
       "      <td>517.0</td>\n",
       "      <td>491.4</td>\n",
       "      <td>NaN</td>\n",
       "    </tr>\n",
       "  </tbody>\n",
       "</table>\n",
       "<p>5 rows × 28 columns</p>\n",
       "</div>"
      ],
      "text/plain": [
       "    CountryCode         Country  SeriesCode MDG  \\\n",
       "1             4     Afghanistan         749   Y   \n",
       "4             8         Albania         749   Y   \n",
       "7            12         Algeria         749   Y   \n",
       "10           16  American Samoa         749   Y   \n",
       "13           20         Andorra         749   Y   \n",
       "\n",
       "                                               Series     1990     1991  \\\n",
       "1   Carbon dioxide emissions (CO2), thousand metri...   2676.9   2493.6   \n",
       "4   Carbon dioxide emissions (CO2), thousand metri...   7488.0   3971.4   \n",
       "7   Carbon dioxide emissions (CO2), thousand metri...  78924.8  81220.4   \n",
       "10  Carbon dioxide emissions (CO2), thousand metri...      NaN      NaN   \n",
       "13  Carbon dioxide emissions (CO2), thousand metri...      NaN      NaN   \n",
       "\n",
       "       1992     1993     1994  ...     2003     2004      2005      2006  \\\n",
       "1    1426.5   1375.1   1320.1  ...   1037.8    957.1    1338.5    1657.5   \n",
       "4    2387.2   2343.2   1928.8  ...   4294.1   4165.7    4253.7    3865.0   \n",
       "7   81935.4  82294.8  86500.9  ...  92533.1  89493.1  107127.7  100919.5   \n",
       "10      NaN      NaN      NaN  ...      NaN      NaN       NaN       NaN   \n",
       "13      NaN      NaN      NaN  ...    535.4    564.7     575.7     546.4   \n",
       "\n",
       "        2007      2008      2009      2010      2011  2014  \n",
       "1     2280.9    4217.1    6776.6    8470.8   12251.4   NaN  \n",
       "4     4477.4    4657.1    4488.4    4415.1    4668.1   NaN  \n",
       "7   109294.9  111575.8  121374.0  119276.5  121755.4   NaN  \n",
       "10       NaN       NaN       NaN       NaN       NaN   NaN  \n",
       "13     539.0     539.0     517.0     517.0     491.4   NaN  \n",
       "\n",
       "[5 rows x 28 columns]"
      ]
     },
     "execution_count": 14,
     "metadata": {},
     "output_type": "execute_result"
    }
   ],
   "source": [
    "carbon_emissions_df = data_frame.loc[\n",
    "    data_frame[\"Series\"]\n",
    "    == \"Carbon dioxide emissions (CO2), thousand metric tons of CO2 (CDIAC)\"\n",
    "]\n",
    "carbon_emissions_df.head()"
   ]
  },
  {
   "attachments": {},
   "cell_type": "markdown",
   "metadata": {},
   "source": [
    "<strong> Dropping countries that have missing values throughout all the years </strong> "
   ]
  },
  {
   "attachments": {},
   "cell_type": "markdown",
   "metadata": {},
   "source": [
    "Thresh=6 means that a row must have at least 6 columns that do not have nan values to not be dropped. CountryCode, Country, Seriescode, MDG, and Series columns do not have any missing values, the sixth column will be one of the year columns. There has to be at least one data point to be able to successfully interpolate."
   ]
  },
  {
   "cell_type": "code",
   "execution_count": 15,
   "metadata": {},
   "outputs": [],
   "source": [
    "carbon_emissions_df = carbon_emissions_df.dropna(axis=0, thresh=6)"
   ]
  },
  {
   "cell_type": "code",
   "execution_count": 16,
   "metadata": {},
   "outputs": [
    {
     "name": "stdout",
     "output_type": "stream",
     "text": [
      "<class 'pandas.core.frame.DataFrame'>\n",
      "Index: 217 entries, 1 to 688\n",
      "Data columns (total 28 columns):\n",
      " #   Column       Non-Null Count  Dtype  \n",
      "---  ------       --------------  -----  \n",
      " 0   CountryCode  217 non-null    int64  \n",
      " 1   Country      217 non-null    object \n",
      " 2   SeriesCode   217 non-null    int64  \n",
      " 3   MDG          217 non-null    object \n",
      " 4   Series       217 non-null    object \n",
      " 5   1990         181 non-null    float64\n",
      " 6   1991         182 non-null    float64\n",
      " 7   1992         204 non-null    float64\n",
      " 8   1993         204 non-null    float64\n",
      " 9   1994         205 non-null    float64\n",
      " 10  1995         207 non-null    float64\n",
      " 11  1996         206 non-null    float64\n",
      " 12  1997         209 non-null    float64\n",
      " 13  1998         209 non-null    float64\n",
      " 14  1999         209 non-null    float64\n",
      " 15  2000         210 non-null    float64\n",
      " 16  2001         211 non-null    float64\n",
      " 17  2002         212 non-null    float64\n",
      " 18  2003         212 non-null    float64\n",
      " 19  2004         212 non-null    float64\n",
      " 20  2005         213 non-null    float64\n",
      " 21  2006         214 non-null    float64\n",
      " 22  2007         215 non-null    float64\n",
      " 23  2008         215 non-null    float64\n",
      " 24  2009         215 non-null    float64\n",
      " 25  2010         215 non-null    float64\n",
      " 26  2011         215 non-null    float64\n",
      " 27  2014         0 non-null      float64\n",
      "dtypes: float64(23), int64(2), object(3)\n",
      "memory usage: 49.2+ KB\n"
     ]
    }
   ],
   "source": [
    "carbon_emissions_df.info()"
   ]
  },
  {
   "attachments": {},
   "cell_type": "markdown",
   "metadata": {},
   "source": [
    "The info() shows that in 2014 there were no recorded carbon emissions, so that column will be dropped."
   ]
  },
  {
   "cell_type": "code",
   "execution_count": 17,
   "metadata": {},
   "outputs": [],
   "source": [
    "carbon_emissions_df = carbon_emissions_df.dropna(axis=1, how=\"all\")"
   ]
  },
  {
   "attachments": {},
   "cell_type": "markdown",
   "metadata": {},
   "source": [
    "<strong>Creating a subset of only numerical values to be able to do interpolation </strong>"
   ]
  },
  {
   "cell_type": "code",
   "execution_count": 18,
   "metadata": {},
   "outputs": [
    {
     "name": "stdout",
     "output_type": "stream",
     "text": [
      "<class 'pandas.core.frame.DataFrame'>\n",
      "Index: 217 entries, 1 to 688\n",
      "Data columns (total 22 columns):\n",
      " #   Column  Non-Null Count  Dtype  \n",
      "---  ------  --------------  -----  \n",
      " 0   1990    181 non-null    float64\n",
      " 1   1991    182 non-null    float64\n",
      " 2   1992    204 non-null    float64\n",
      " 3   1993    204 non-null    float64\n",
      " 4   1994    205 non-null    float64\n",
      " 5   1995    207 non-null    float64\n",
      " 6   1996    206 non-null    float64\n",
      " 7   1997    209 non-null    float64\n",
      " 8   1998    209 non-null    float64\n",
      " 9   1999    209 non-null    float64\n",
      " 10  2000    210 non-null    float64\n",
      " 11  2001    211 non-null    float64\n",
      " 12  2002    212 non-null    float64\n",
      " 13  2003    212 non-null    float64\n",
      " 14  2004    212 non-null    float64\n",
      " 15  2005    213 non-null    float64\n",
      " 16  2006    214 non-null    float64\n",
      " 17  2007    215 non-null    float64\n",
      " 18  2008    215 non-null    float64\n",
      " 19  2009    215 non-null    float64\n",
      " 20  2010    215 non-null    float64\n",
      " 21  2011    215 non-null    float64\n",
      "dtypes: float64(22)\n",
      "memory usage: 39.0 KB\n"
     ]
    }
   ],
   "source": [
    "carbon_emissions_subset = carbon_emissions_df.iloc[:, 5:]\n",
    "carbon_emissions_subset.info()"
   ]
  },
  {
   "cell_type": "code",
   "execution_count": 19,
   "metadata": {},
   "outputs": [
    {
     "data": {
      "text/html": [
       "<div>\n",
       "<style scoped>\n",
       "    .dataframe tbody tr th:only-of-type {\n",
       "        vertical-align: middle;\n",
       "    }\n",
       "\n",
       "    .dataframe tbody tr th {\n",
       "        vertical-align: top;\n",
       "    }\n",
       "\n",
       "    .dataframe thead th {\n",
       "        text-align: right;\n",
       "    }\n",
       "</style>\n",
       "<table border=\"1\" class=\"dataframe\">\n",
       "  <thead>\n",
       "    <tr style=\"text-align: right;\">\n",
       "      <th></th>\n",
       "      <th>1990</th>\n",
       "      <th>1991</th>\n",
       "      <th>1992</th>\n",
       "      <th>1993</th>\n",
       "      <th>1994</th>\n",
       "      <th>1995</th>\n",
       "      <th>1996</th>\n",
       "      <th>1997</th>\n",
       "      <th>1998</th>\n",
       "      <th>1999</th>\n",
       "      <th>...</th>\n",
       "      <th>2002</th>\n",
       "      <th>2003</th>\n",
       "      <th>2004</th>\n",
       "      <th>2005</th>\n",
       "      <th>2006</th>\n",
       "      <th>2007</th>\n",
       "      <th>2008</th>\n",
       "      <th>2009</th>\n",
       "      <th>2010</th>\n",
       "      <th>2011</th>\n",
       "    </tr>\n",
       "  </thead>\n",
       "  <tbody>\n",
       "    <tr>\n",
       "      <th>1</th>\n",
       "      <td>2676.9</td>\n",
       "      <td>2493.6</td>\n",
       "      <td>1426.5</td>\n",
       "      <td>1375.1</td>\n",
       "      <td>1320.1</td>\n",
       "      <td>1268.8</td>\n",
       "      <td>1199.1</td>\n",
       "      <td>1114.8</td>\n",
       "      <td>1056.1</td>\n",
       "      <td>832.4</td>\n",
       "      <td>...</td>\n",
       "      <td>894.7</td>\n",
       "      <td>1037.8</td>\n",
       "      <td>957.1</td>\n",
       "      <td>1338.5</td>\n",
       "      <td>1657.5</td>\n",
       "      <td>2280.9</td>\n",
       "      <td>4217.1</td>\n",
       "      <td>6776.6</td>\n",
       "      <td>8470.8</td>\n",
       "      <td>12251.4</td>\n",
       "    </tr>\n",
       "    <tr>\n",
       "      <th>4</th>\n",
       "      <td>7488.0</td>\n",
       "      <td>3971.4</td>\n",
       "      <td>2387.2</td>\n",
       "      <td>2343.2</td>\n",
       "      <td>1928.8</td>\n",
       "      <td>2086.5</td>\n",
       "      <td>2016.9</td>\n",
       "      <td>1543.8</td>\n",
       "      <td>1752.8</td>\n",
       "      <td>2984.9</td>\n",
       "      <td>...</td>\n",
       "      <td>3751.3</td>\n",
       "      <td>4294.1</td>\n",
       "      <td>4165.7</td>\n",
       "      <td>4253.7</td>\n",
       "      <td>3865.0</td>\n",
       "      <td>4477.4</td>\n",
       "      <td>4657.1</td>\n",
       "      <td>4488.4</td>\n",
       "      <td>4415.1</td>\n",
       "      <td>4668.1</td>\n",
       "    </tr>\n",
       "    <tr>\n",
       "      <th>7</th>\n",
       "      <td>78924.8</td>\n",
       "      <td>81220.4</td>\n",
       "      <td>81935.4</td>\n",
       "      <td>82294.8</td>\n",
       "      <td>86500.9</td>\n",
       "      <td>95345.7</td>\n",
       "      <td>97131.5</td>\n",
       "      <td>88195.0</td>\n",
       "      <td>107080.1</td>\n",
       "      <td>92118.7</td>\n",
       "      <td>...</td>\n",
       "      <td>90853.6</td>\n",
       "      <td>92533.1</td>\n",
       "      <td>89493.1</td>\n",
       "      <td>107127.7</td>\n",
       "      <td>100919.5</td>\n",
       "      <td>109294.9</td>\n",
       "      <td>111575.8</td>\n",
       "      <td>121374.0</td>\n",
       "      <td>119276.5</td>\n",
       "      <td>121755.4</td>\n",
       "    </tr>\n",
       "    <tr>\n",
       "      <th>13</th>\n",
       "      <td>NaN</td>\n",
       "      <td>NaN</td>\n",
       "      <td>NaN</td>\n",
       "      <td>NaN</td>\n",
       "      <td>NaN</td>\n",
       "      <td>407.0</td>\n",
       "      <td>425.4</td>\n",
       "      <td>458.4</td>\n",
       "      <td>484.0</td>\n",
       "      <td>513.4</td>\n",
       "      <td>...</td>\n",
       "      <td>531.7</td>\n",
       "      <td>535.4</td>\n",
       "      <td>564.7</td>\n",
       "      <td>575.7</td>\n",
       "      <td>546.4</td>\n",
       "      <td>539.0</td>\n",
       "      <td>539.0</td>\n",
       "      <td>517.0</td>\n",
       "      <td>517.0</td>\n",
       "      <td>491.4</td>\n",
       "    </tr>\n",
       "    <tr>\n",
       "      <th>16</th>\n",
       "      <td>4429.7</td>\n",
       "      <td>4367.4</td>\n",
       "      <td>4418.7</td>\n",
       "      <td>5801.2</td>\n",
       "      <td>3890.7</td>\n",
       "      <td>11012.0</td>\n",
       "      <td>10491.3</td>\n",
       "      <td>7381.7</td>\n",
       "      <td>7308.3</td>\n",
       "      <td>9156.5</td>\n",
       "      <td>...</td>\n",
       "      <td>12665.8</td>\n",
       "      <td>9064.8</td>\n",
       "      <td>18793.4</td>\n",
       "      <td>19156.4</td>\n",
       "      <td>22266.0</td>\n",
       "      <td>25152.0</td>\n",
       "      <td>27172.5</td>\n",
       "      <td>29361.7</td>\n",
       "      <td>29743.0</td>\n",
       "      <td>29710.0</td>\n",
       "    </tr>\n",
       "    <tr>\n",
       "      <th>...</th>\n",
       "      <td>...</td>\n",
       "      <td>...</td>\n",
       "      <td>...</td>\n",
       "      <td>...</td>\n",
       "      <td>...</td>\n",
       "      <td>...</td>\n",
       "      <td>...</td>\n",
       "      <td>...</td>\n",
       "      <td>...</td>\n",
       "      <td>...</td>\n",
       "      <td>...</td>\n",
       "      <td>...</td>\n",
       "      <td>...</td>\n",
       "      <td>...</td>\n",
       "      <td>...</td>\n",
       "      <td>...</td>\n",
       "      <td>...</td>\n",
       "      <td>...</td>\n",
       "      <td>...</td>\n",
       "      <td>...</td>\n",
       "      <td>...</td>\n",
       "    </tr>\n",
       "    <tr>\n",
       "      <th>673</th>\n",
       "      <td>NaN</td>\n",
       "      <td>NaN</td>\n",
       "      <td>NaN</td>\n",
       "      <td>NaN</td>\n",
       "      <td>NaN</td>\n",
       "      <td>NaN</td>\n",
       "      <td>NaN</td>\n",
       "      <td>NaN</td>\n",
       "      <td>NaN</td>\n",
       "      <td>NaN</td>\n",
       "      <td>...</td>\n",
       "      <td>25.7</td>\n",
       "      <td>25.7</td>\n",
       "      <td>25.7</td>\n",
       "      <td>29.3</td>\n",
       "      <td>29.3</td>\n",
       "      <td>29.3</td>\n",
       "      <td>22.0</td>\n",
       "      <td>29.3</td>\n",
       "      <td>29.3</td>\n",
       "      <td>25.7</td>\n",
       "    </tr>\n",
       "    <tr>\n",
       "      <th>679</th>\n",
       "      <td>-2999.6</td>\n",
       "      <td>10109.9</td>\n",
       "      <td>14382.0</td>\n",
       "      <td>9431.5</td>\n",
       "      <td>11367.7</td>\n",
       "      <td>11250.4</td>\n",
       "      <td>14935.7</td>\n",
       "      <td>15474.7</td>\n",
       "      <td>12200.1</td>\n",
       "      <td>13894.3</td>\n",
       "      <td>...</td>\n",
       "      <td>15764.4</td>\n",
       "      <td>17304.6</td>\n",
       "      <td>18881.4</td>\n",
       "      <td>20043.8</td>\n",
       "      <td>20795.6</td>\n",
       "      <td>21297.9</td>\n",
       "      <td>22097.3</td>\n",
       "      <td>23556.8</td>\n",
       "      <td>25716.7</td>\n",
       "      <td>22295.4</td>\n",
       "    </tr>\n",
       "    <tr>\n",
       "      <th>682</th>\n",
       "      <td>133288.1</td>\n",
       "      <td>94278.6</td>\n",
       "      <td>NaN</td>\n",
       "      <td>NaN</td>\n",
       "      <td>NaN</td>\n",
       "      <td>NaN</td>\n",
       "      <td>NaN</td>\n",
       "      <td>NaN</td>\n",
       "      <td>NaN</td>\n",
       "      <td>NaN</td>\n",
       "      <td>...</td>\n",
       "      <td>NaN</td>\n",
       "      <td>NaN</td>\n",
       "      <td>NaN</td>\n",
       "      <td>NaN</td>\n",
       "      <td>NaN</td>\n",
       "      <td>NaN</td>\n",
       "      <td>NaN</td>\n",
       "      <td>NaN</td>\n",
       "      <td>NaN</td>\n",
       "      <td>NaN</td>\n",
       "    </tr>\n",
       "    <tr>\n",
       "      <th>685</th>\n",
       "      <td>2445.9</td>\n",
       "      <td>2416.6</td>\n",
       "      <td>2456.9</td>\n",
       "      <td>2500.9</td>\n",
       "      <td>2420.2</td>\n",
       "      <td>2170.9</td>\n",
       "      <td>1870.2</td>\n",
       "      <td>2390.9</td>\n",
       "      <td>2313.9</td>\n",
       "      <td>1807.8</td>\n",
       "      <td>...</td>\n",
       "      <td>1969.2</td>\n",
       "      <td>2101.2</td>\n",
       "      <td>2126.9</td>\n",
       "      <td>2277.2</td>\n",
       "      <td>2225.9</td>\n",
       "      <td>1914.2</td>\n",
       "      <td>2159.9</td>\n",
       "      <td>2486.2</td>\n",
       "      <td>2673.2</td>\n",
       "      <td>3047.3</td>\n",
       "    </tr>\n",
       "    <tr>\n",
       "      <th>688</th>\n",
       "      <td>15504.1</td>\n",
       "      <td>15823.1</td>\n",
       "      <td>16901.2</td>\n",
       "      <td>16208.1</td>\n",
       "      <td>17645.6</td>\n",
       "      <td>15130.0</td>\n",
       "      <td>14994.4</td>\n",
       "      <td>14407.6</td>\n",
       "      <td>14253.6</td>\n",
       "      <td>15834.1</td>\n",
       "      <td>...</td>\n",
       "      <td>11932.4</td>\n",
       "      <td>10627.0</td>\n",
       "      <td>9864.2</td>\n",
       "      <td>10715.0</td>\n",
       "      <td>10249.3</td>\n",
       "      <td>9732.2</td>\n",
       "      <td>7682.4</td>\n",
       "      <td>8239.7</td>\n",
       "      <td>9028.2</td>\n",
       "      <td>9860.6</td>\n",
       "    </tr>\n",
       "  </tbody>\n",
       "</table>\n",
       "<p>217 rows × 22 columns</p>\n",
       "</div>"
      ],
      "text/plain": [
       "         1990     1991     1992     1993     1994     1995     1996     1997  \\\n",
       "1      2676.9   2493.6   1426.5   1375.1   1320.1   1268.8   1199.1   1114.8   \n",
       "4      7488.0   3971.4   2387.2   2343.2   1928.8   2086.5   2016.9   1543.8   \n",
       "7     78924.8  81220.4  81935.4  82294.8  86500.9  95345.7  97131.5  88195.0   \n",
       "13        NaN      NaN      NaN      NaN      NaN    407.0    425.4    458.4   \n",
       "16     4429.7   4367.4   4418.7   5801.2   3890.7  11012.0  10491.3   7381.7   \n",
       "..        ...      ...      ...      ...      ...      ...      ...      ...   \n",
       "673       NaN      NaN      NaN      NaN      NaN      NaN      NaN      NaN   \n",
       "679   -2999.6  10109.9  14382.0   9431.5  11367.7  11250.4  14935.7  15474.7   \n",
       "682  133288.1  94278.6      NaN      NaN      NaN      NaN      NaN      NaN   \n",
       "685    2445.9   2416.6   2456.9   2500.9   2420.2   2170.9   1870.2   2390.9   \n",
       "688   15504.1  15823.1  16901.2  16208.1  17645.6  15130.0  14994.4  14407.6   \n",
       "\n",
       "         1998     1999  ...     2002     2003     2004      2005      2006  \\\n",
       "1      1056.1    832.4  ...    894.7   1037.8    957.1    1338.5    1657.5   \n",
       "4      1752.8   2984.9  ...   3751.3   4294.1   4165.7    4253.7    3865.0   \n",
       "7    107080.1  92118.7  ...  90853.6  92533.1  89493.1  107127.7  100919.5   \n",
       "13      484.0    513.4  ...    531.7    535.4    564.7     575.7     546.4   \n",
       "16     7308.3   9156.5  ...  12665.8   9064.8  18793.4   19156.4   22266.0   \n",
       "..        ...      ...  ...      ...      ...      ...       ...       ...   \n",
       "673       NaN      NaN  ...     25.7     25.7     25.7      29.3      29.3   \n",
       "679   12200.1  13894.3  ...  15764.4  17304.6  18881.4   20043.8   20795.6   \n",
       "682       NaN      NaN  ...      NaN      NaN      NaN       NaN       NaN   \n",
       "685    2313.9   1807.8  ...   1969.2   2101.2   2126.9    2277.2    2225.9   \n",
       "688   14253.6  15834.1  ...  11932.4  10627.0   9864.2   10715.0   10249.3   \n",
       "\n",
       "         2007      2008      2009      2010      2011  \n",
       "1      2280.9    4217.1    6776.6    8470.8   12251.4  \n",
       "4      4477.4    4657.1    4488.4    4415.1    4668.1  \n",
       "7    109294.9  111575.8  121374.0  119276.5  121755.4  \n",
       "13      539.0     539.0     517.0     517.0     491.4  \n",
       "16    25152.0   27172.5   29361.7   29743.0   29710.0  \n",
       "..        ...       ...       ...       ...       ...  \n",
       "673      29.3      22.0      29.3      29.3      25.7  \n",
       "679   21297.9   22097.3   23556.8   25716.7   22295.4  \n",
       "682       NaN       NaN       NaN       NaN       NaN  \n",
       "685    1914.2    2159.9    2486.2    2673.2    3047.3  \n",
       "688    9732.2    7682.4    8239.7    9028.2    9860.6  \n",
       "\n",
       "[217 rows x 22 columns]"
      ]
     },
     "execution_count": 19,
     "metadata": {},
     "output_type": "execute_result"
    }
   ],
   "source": [
    "carbon_emissions_subset"
   ]
  },
  {
   "attachments": {},
   "cell_type": "markdown",
   "metadata": {},
   "source": [
    "<strong>Fill nan values using an interpolation method</strong>"
   ]
  },
  {
   "cell_type": "code",
   "execution_count": 20,
   "metadata": {},
   "outputs": [
    {
     "data": {
      "text/html": [
       "<div>\n",
       "<style scoped>\n",
       "    .dataframe tbody tr th:only-of-type {\n",
       "        vertical-align: middle;\n",
       "    }\n",
       "\n",
       "    .dataframe tbody tr th {\n",
       "        vertical-align: top;\n",
       "    }\n",
       "\n",
       "    .dataframe thead th {\n",
       "        text-align: right;\n",
       "    }\n",
       "</style>\n",
       "<table border=\"1\" class=\"dataframe\">\n",
       "  <thead>\n",
       "    <tr style=\"text-align: right;\">\n",
       "      <th></th>\n",
       "      <th>1990</th>\n",
       "      <th>1991</th>\n",
       "      <th>1992</th>\n",
       "      <th>1993</th>\n",
       "      <th>1994</th>\n",
       "      <th>1995</th>\n",
       "      <th>1996</th>\n",
       "      <th>1997</th>\n",
       "      <th>1998</th>\n",
       "      <th>1999</th>\n",
       "      <th>...</th>\n",
       "      <th>2002</th>\n",
       "      <th>2003</th>\n",
       "      <th>2004</th>\n",
       "      <th>2005</th>\n",
       "      <th>2006</th>\n",
       "      <th>2007</th>\n",
       "      <th>2008</th>\n",
       "      <th>2009</th>\n",
       "      <th>2010</th>\n",
       "      <th>2011</th>\n",
       "    </tr>\n",
       "  </thead>\n",
       "  <tbody>\n",
       "    <tr>\n",
       "      <th>1</th>\n",
       "      <td>2676.9</td>\n",
       "      <td>2493.6</td>\n",
       "      <td>1426.5</td>\n",
       "      <td>1375.1</td>\n",
       "      <td>1320.1</td>\n",
       "      <td>1268.8</td>\n",
       "      <td>1199.1</td>\n",
       "      <td>1114.8</td>\n",
       "      <td>1056.1</td>\n",
       "      <td>832.4</td>\n",
       "      <td>...</td>\n",
       "      <td>894.7</td>\n",
       "      <td>1037.8</td>\n",
       "      <td>957.1</td>\n",
       "      <td>1338.5</td>\n",
       "      <td>1657.5</td>\n",
       "      <td>2280.9</td>\n",
       "      <td>4217.1</td>\n",
       "      <td>6776.6</td>\n",
       "      <td>8470.8</td>\n",
       "      <td>12251.4</td>\n",
       "    </tr>\n",
       "    <tr>\n",
       "      <th>4</th>\n",
       "      <td>7488.0</td>\n",
       "      <td>3971.4</td>\n",
       "      <td>2387.2</td>\n",
       "      <td>2343.2</td>\n",
       "      <td>1928.8</td>\n",
       "      <td>2086.5</td>\n",
       "      <td>2016.9</td>\n",
       "      <td>1543.8</td>\n",
       "      <td>1752.8</td>\n",
       "      <td>2984.9</td>\n",
       "      <td>...</td>\n",
       "      <td>3751.3</td>\n",
       "      <td>4294.1</td>\n",
       "      <td>4165.7</td>\n",
       "      <td>4253.7</td>\n",
       "      <td>3865.0</td>\n",
       "      <td>4477.4</td>\n",
       "      <td>4657.1</td>\n",
       "      <td>4488.4</td>\n",
       "      <td>4415.1</td>\n",
       "      <td>4668.1</td>\n",
       "    </tr>\n",
       "    <tr>\n",
       "      <th>7</th>\n",
       "      <td>78924.8</td>\n",
       "      <td>81220.4</td>\n",
       "      <td>81935.4</td>\n",
       "      <td>82294.8</td>\n",
       "      <td>86500.9</td>\n",
       "      <td>95345.7</td>\n",
       "      <td>97131.5</td>\n",
       "      <td>88195.0</td>\n",
       "      <td>107080.1</td>\n",
       "      <td>92118.7</td>\n",
       "      <td>...</td>\n",
       "      <td>90853.6</td>\n",
       "      <td>92533.1</td>\n",
       "      <td>89493.1</td>\n",
       "      <td>107127.7</td>\n",
       "      <td>100919.5</td>\n",
       "      <td>109294.9</td>\n",
       "      <td>111575.8</td>\n",
       "      <td>121374.0</td>\n",
       "      <td>119276.5</td>\n",
       "      <td>121755.4</td>\n",
       "    </tr>\n",
       "    <tr>\n",
       "      <th>13</th>\n",
       "      <td>407.0</td>\n",
       "      <td>407.0</td>\n",
       "      <td>407.0</td>\n",
       "      <td>407.0</td>\n",
       "      <td>407.0</td>\n",
       "      <td>407.0</td>\n",
       "      <td>425.4</td>\n",
       "      <td>458.4</td>\n",
       "      <td>484.0</td>\n",
       "      <td>513.4</td>\n",
       "      <td>...</td>\n",
       "      <td>531.7</td>\n",
       "      <td>535.4</td>\n",
       "      <td>564.7</td>\n",
       "      <td>575.7</td>\n",
       "      <td>546.4</td>\n",
       "      <td>539.0</td>\n",
       "      <td>539.0</td>\n",
       "      <td>517.0</td>\n",
       "      <td>517.0</td>\n",
       "      <td>491.4</td>\n",
       "    </tr>\n",
       "    <tr>\n",
       "      <th>16</th>\n",
       "      <td>4429.7</td>\n",
       "      <td>4367.4</td>\n",
       "      <td>4418.7</td>\n",
       "      <td>5801.2</td>\n",
       "      <td>3890.7</td>\n",
       "      <td>11012.0</td>\n",
       "      <td>10491.3</td>\n",
       "      <td>7381.7</td>\n",
       "      <td>7308.3</td>\n",
       "      <td>9156.5</td>\n",
       "      <td>...</td>\n",
       "      <td>12665.8</td>\n",
       "      <td>9064.8</td>\n",
       "      <td>18793.4</td>\n",
       "      <td>19156.4</td>\n",
       "      <td>22266.0</td>\n",
       "      <td>25152.0</td>\n",
       "      <td>27172.5</td>\n",
       "      <td>29361.7</td>\n",
       "      <td>29743.0</td>\n",
       "      <td>29710.0</td>\n",
       "    </tr>\n",
       "  </tbody>\n",
       "</table>\n",
       "<p>5 rows × 22 columns</p>\n",
       "</div>"
      ],
      "text/plain": [
       "       1990     1991     1992     1993     1994     1995     1996     1997  \\\n",
       "1    2676.9   2493.6   1426.5   1375.1   1320.1   1268.8   1199.1   1114.8   \n",
       "4    7488.0   3971.4   2387.2   2343.2   1928.8   2086.5   2016.9   1543.8   \n",
       "7   78924.8  81220.4  81935.4  82294.8  86500.9  95345.7  97131.5  88195.0   \n",
       "13    407.0    407.0    407.0    407.0    407.0    407.0    425.4    458.4   \n",
       "16   4429.7   4367.4   4418.7   5801.2   3890.7  11012.0  10491.3   7381.7   \n",
       "\n",
       "        1998     1999  ...     2002     2003     2004      2005      2006  \\\n",
       "1     1056.1    832.4  ...    894.7   1037.8    957.1    1338.5    1657.5   \n",
       "4     1752.8   2984.9  ...   3751.3   4294.1   4165.7    4253.7    3865.0   \n",
       "7   107080.1  92118.7  ...  90853.6  92533.1  89493.1  107127.7  100919.5   \n",
       "13     484.0    513.4  ...    531.7    535.4    564.7     575.7     546.4   \n",
       "16    7308.3   9156.5  ...  12665.8   9064.8  18793.4   19156.4   22266.0   \n",
       "\n",
       "        2007      2008      2009      2010      2011  \n",
       "1     2280.9    4217.1    6776.6    8470.8   12251.4  \n",
       "4     4477.4    4657.1    4488.4    4415.1    4668.1  \n",
       "7   109294.9  111575.8  121374.0  119276.5  121755.4  \n",
       "13     539.0     539.0     517.0     517.0     491.4  \n",
       "16   25152.0   27172.5   29361.7   29743.0   29710.0  \n",
       "\n",
       "[5 rows x 22 columns]"
      ]
     },
     "execution_count": 20,
     "metadata": {},
     "output_type": "execute_result"
    }
   ],
   "source": [
    "carbon_emissions_subset.interpolate(\n",
    "    method=\"linear\", limit_direction=\"both\", axis=1, inplace=True\n",
    ")\n",
    "carbon_emissions_subset.head()"
   ]
  },
  {
   "attachments": {},
   "cell_type": "markdown",
   "metadata": {},
   "source": [
    "Other methods would have been better suited to deal with the missing values, however, since we do not know much about our data - for example, the rate of change of emissions over time - interpolating with a known value is the best option for now."
   ]
  },
  {
   "attachments": {},
   "cell_type": "markdown",
   "metadata": {},
   "source": [
    "<strong>Merge the carbon emissions subset with the carbon emissions data frame <strong>"
   ]
  },
  {
   "cell_type": "code",
   "execution_count": 21,
   "metadata": {},
   "outputs": [
    {
     "data": {
      "text/html": [
       "<div>\n",
       "<style scoped>\n",
       "    .dataframe tbody tr th:only-of-type {\n",
       "        vertical-align: middle;\n",
       "    }\n",
       "\n",
       "    .dataframe tbody tr th {\n",
       "        vertical-align: top;\n",
       "    }\n",
       "\n",
       "    .dataframe thead th {\n",
       "        text-align: right;\n",
       "    }\n",
       "</style>\n",
       "<table border=\"1\" class=\"dataframe\">\n",
       "  <thead>\n",
       "    <tr style=\"text-align: right;\">\n",
       "      <th></th>\n",
       "      <th>CountryCode</th>\n",
       "      <th>Country</th>\n",
       "      <th>SeriesCode</th>\n",
       "      <th>MDG</th>\n",
       "      <th>Series</th>\n",
       "      <th>1990</th>\n",
       "      <th>1991</th>\n",
       "      <th>1992</th>\n",
       "      <th>1993</th>\n",
       "      <th>1994</th>\n",
       "      <th>...</th>\n",
       "      <th>2002</th>\n",
       "      <th>2003</th>\n",
       "      <th>2004</th>\n",
       "      <th>2005</th>\n",
       "      <th>2006</th>\n",
       "      <th>2007</th>\n",
       "      <th>2008</th>\n",
       "      <th>2009</th>\n",
       "      <th>2010</th>\n",
       "      <th>2011</th>\n",
       "    </tr>\n",
       "  </thead>\n",
       "  <tbody>\n",
       "    <tr>\n",
       "      <th>1</th>\n",
       "      <td>4</td>\n",
       "      <td>Afghanistan</td>\n",
       "      <td>749</td>\n",
       "      <td>Y</td>\n",
       "      <td>Carbon dioxide emissions (CO2), thousand metri...</td>\n",
       "      <td>2676.9</td>\n",
       "      <td>2493.6</td>\n",
       "      <td>1426.5</td>\n",
       "      <td>1375.1</td>\n",
       "      <td>1320.1</td>\n",
       "      <td>...</td>\n",
       "      <td>894.7</td>\n",
       "      <td>1037.8</td>\n",
       "      <td>957.1</td>\n",
       "      <td>1338.5</td>\n",
       "      <td>1657.5</td>\n",
       "      <td>2280.9</td>\n",
       "      <td>4217.1</td>\n",
       "      <td>6776.6</td>\n",
       "      <td>8470.8</td>\n",
       "      <td>12251.4</td>\n",
       "    </tr>\n",
       "    <tr>\n",
       "      <th>4</th>\n",
       "      <td>8</td>\n",
       "      <td>Albania</td>\n",
       "      <td>749</td>\n",
       "      <td>Y</td>\n",
       "      <td>Carbon dioxide emissions (CO2), thousand metri...</td>\n",
       "      <td>7488.0</td>\n",
       "      <td>3971.4</td>\n",
       "      <td>2387.2</td>\n",
       "      <td>2343.2</td>\n",
       "      <td>1928.8</td>\n",
       "      <td>...</td>\n",
       "      <td>3751.3</td>\n",
       "      <td>4294.1</td>\n",
       "      <td>4165.7</td>\n",
       "      <td>4253.7</td>\n",
       "      <td>3865.0</td>\n",
       "      <td>4477.4</td>\n",
       "      <td>4657.1</td>\n",
       "      <td>4488.4</td>\n",
       "      <td>4415.1</td>\n",
       "      <td>4668.1</td>\n",
       "    </tr>\n",
       "    <tr>\n",
       "      <th>7</th>\n",
       "      <td>12</td>\n",
       "      <td>Algeria</td>\n",
       "      <td>749</td>\n",
       "      <td>Y</td>\n",
       "      <td>Carbon dioxide emissions (CO2), thousand metri...</td>\n",
       "      <td>78924.8</td>\n",
       "      <td>81220.4</td>\n",
       "      <td>81935.4</td>\n",
       "      <td>82294.8</td>\n",
       "      <td>86500.9</td>\n",
       "      <td>...</td>\n",
       "      <td>90853.6</td>\n",
       "      <td>92533.1</td>\n",
       "      <td>89493.1</td>\n",
       "      <td>107127.7</td>\n",
       "      <td>100919.5</td>\n",
       "      <td>109294.9</td>\n",
       "      <td>111575.8</td>\n",
       "      <td>121374.0</td>\n",
       "      <td>119276.5</td>\n",
       "      <td>121755.4</td>\n",
       "    </tr>\n",
       "    <tr>\n",
       "      <th>13</th>\n",
       "      <td>20</td>\n",
       "      <td>Andorra</td>\n",
       "      <td>749</td>\n",
       "      <td>Y</td>\n",
       "      <td>Carbon dioxide emissions (CO2), thousand metri...</td>\n",
       "      <td>407.0</td>\n",
       "      <td>407.0</td>\n",
       "      <td>407.0</td>\n",
       "      <td>407.0</td>\n",
       "      <td>407.0</td>\n",
       "      <td>...</td>\n",
       "      <td>531.7</td>\n",
       "      <td>535.4</td>\n",
       "      <td>564.7</td>\n",
       "      <td>575.7</td>\n",
       "      <td>546.4</td>\n",
       "      <td>539.0</td>\n",
       "      <td>539.0</td>\n",
       "      <td>517.0</td>\n",
       "      <td>517.0</td>\n",
       "      <td>491.4</td>\n",
       "    </tr>\n",
       "    <tr>\n",
       "      <th>16</th>\n",
       "      <td>24</td>\n",
       "      <td>Angola</td>\n",
       "      <td>749</td>\n",
       "      <td>Y</td>\n",
       "      <td>Carbon dioxide emissions (CO2), thousand metri...</td>\n",
       "      <td>4429.7</td>\n",
       "      <td>4367.4</td>\n",
       "      <td>4418.7</td>\n",
       "      <td>5801.2</td>\n",
       "      <td>3890.7</td>\n",
       "      <td>...</td>\n",
       "      <td>12665.8</td>\n",
       "      <td>9064.8</td>\n",
       "      <td>18793.4</td>\n",
       "      <td>19156.4</td>\n",
       "      <td>22266.0</td>\n",
       "      <td>25152.0</td>\n",
       "      <td>27172.5</td>\n",
       "      <td>29361.7</td>\n",
       "      <td>29743.0</td>\n",
       "      <td>29710.0</td>\n",
       "    </tr>\n",
       "  </tbody>\n",
       "</table>\n",
       "<p>5 rows × 27 columns</p>\n",
       "</div>"
      ],
      "text/plain": [
       "    CountryCode      Country  SeriesCode MDG  \\\n",
       "1             4  Afghanistan         749   Y   \n",
       "4             8      Albania         749   Y   \n",
       "7            12      Algeria         749   Y   \n",
       "13           20      Andorra         749   Y   \n",
       "16           24       Angola         749   Y   \n",
       "\n",
       "                                               Series     1990     1991  \\\n",
       "1   Carbon dioxide emissions (CO2), thousand metri...   2676.9   2493.6   \n",
       "4   Carbon dioxide emissions (CO2), thousand metri...   7488.0   3971.4   \n",
       "7   Carbon dioxide emissions (CO2), thousand metri...  78924.8  81220.4   \n",
       "13  Carbon dioxide emissions (CO2), thousand metri...    407.0    407.0   \n",
       "16  Carbon dioxide emissions (CO2), thousand metri...   4429.7   4367.4   \n",
       "\n",
       "       1992     1993     1994  ...     2002     2003     2004      2005  \\\n",
       "1    1426.5   1375.1   1320.1  ...    894.7   1037.8    957.1    1338.5   \n",
       "4    2387.2   2343.2   1928.8  ...   3751.3   4294.1   4165.7    4253.7   \n",
       "7   81935.4  82294.8  86500.9  ...  90853.6  92533.1  89493.1  107127.7   \n",
       "13    407.0    407.0    407.0  ...    531.7    535.4    564.7     575.7   \n",
       "16   4418.7   5801.2   3890.7  ...  12665.8   9064.8  18793.4   19156.4   \n",
       "\n",
       "        2006      2007      2008      2009      2010      2011  \n",
       "1     1657.5    2280.9    4217.1    6776.6    8470.8   12251.4  \n",
       "4     3865.0    4477.4    4657.1    4488.4    4415.1    4668.1  \n",
       "7   100919.5  109294.9  111575.8  121374.0  119276.5  121755.4  \n",
       "13     546.4     539.0     539.0     517.0     517.0     491.4  \n",
       "16   22266.0   25152.0   27172.5   29361.7   29743.0   29710.0  \n",
       "\n",
       "[5 rows x 27 columns]"
      ]
     },
     "execution_count": 21,
     "metadata": {},
     "output_type": "execute_result"
    }
   ],
   "source": [
    "df1 = carbon_emissions_df.iloc[:, :5]\n",
    "carbon_emissions_df = df1.join(carbon_emissions_subset)\n",
    "carbon_emissions_df.head()"
   ]
  },
  {
   "attachments": {},
   "cell_type": "markdown",
   "metadata": {},
   "source": [
    "<strong>Carbon emissions in 1990</strong>"
   ]
  },
  {
   "attachments": {},
   "cell_type": "markdown",
   "metadata": {},
   "source": [
    "<strong>The bottom five countries.</strong>"
   ]
  },
  {
   "cell_type": "code",
   "execution_count": 22,
   "metadata": {},
   "outputs": [
    {
     "data": {
      "text/html": [
       "<div>\n",
       "<style scoped>\n",
       "    .dataframe tbody tr th:only-of-type {\n",
       "        vertical-align: middle;\n",
       "    }\n",
       "\n",
       "    .dataframe tbody tr th {\n",
       "        vertical-align: top;\n",
       "    }\n",
       "\n",
       "    .dataframe thead th {\n",
       "        text-align: right;\n",
       "    }\n",
       "</style>\n",
       "<table border=\"1\" class=\"dataframe\">\n",
       "  <thead>\n",
       "    <tr style=\"text-align: right;\">\n",
       "      <th></th>\n",
       "      <th>Country</th>\n",
       "      <th>1990</th>\n",
       "    </tr>\n",
       "  </thead>\n",
       "  <tbody>\n",
       "    <tr>\n",
       "      <th>679</th>\n",
       "      <td>Yemen</td>\n",
       "      <td>-2999.6</td>\n",
       "    </tr>\n",
       "    <tr>\n",
       "      <th>445</th>\n",
       "      <td>Niue</td>\n",
       "      <td>3.7</td>\n",
       "    </tr>\n",
       "    <tr>\n",
       "      <th>505</th>\n",
       "      <td>Saint Helena</td>\n",
       "      <td>7.3</td>\n",
       "    </tr>\n",
       "    <tr>\n",
       "      <th>631</th>\n",
       "      <td>Turks and Caicos Islands</td>\n",
       "      <td>11.0</td>\n",
       "    </tr>\n",
       "    <tr>\n",
       "      <th>673</th>\n",
       "      <td>Wallis and Futuna Islands</td>\n",
       "      <td>14.7</td>\n",
       "    </tr>\n",
       "  </tbody>\n",
       "</table>\n",
       "</div>"
      ],
      "text/plain": [
       "                       Country    1990\n",
       "679                      Yemen -2999.6\n",
       "445                       Niue     3.7\n",
       "505               Saint Helena     7.3\n",
       "631   Turks and Caicos Islands    11.0\n",
       "673  Wallis and Futuna Islands    14.7"
      ]
     },
     "execution_count": 22,
     "metadata": {},
     "output_type": "execute_result"
    }
   ],
   "source": [
    "carbon_emissions_df.loc[:, [\"Country\", \"1990\"]].sort_values(\"1990\").head()"
   ]
  },
  {
   "attachments": {},
   "cell_type": "markdown",
   "metadata": {},
   "source": [
    "Yemen has a negative number amount of carbon emissions. The amount of carbon emissions can't be negative, this means that it is a faulty entry. It's important to check if there are any other negative entries so that they are dealt with."
   ]
  },
  {
   "cell_type": "code",
   "execution_count": 23,
   "metadata": {},
   "outputs": [
    {
     "data": {
      "text/plain": [
       "1"
      ]
     },
     "execution_count": 23,
     "metadata": {},
     "output_type": "execute_result"
    }
   ],
   "source": [
    "(carbon_emissions_df.iloc[:, 5:] < 0).any().sum()"
   ]
  },
  {
   "attachments": {},
   "cell_type": "markdown",
   "metadata": {},
   "source": [
    "It looks like Yemen is the only country with negative emissions. The negative entry will be replaced with the next valid observation. This will be done in two steps:\n",
    "1. Replacing the negative number with a nan value.\n",
    "2. Using the fillna() function to replace it with the next valid observation."
   ]
  },
  {
   "cell_type": "code",
   "execution_count": 24,
   "metadata": {},
   "outputs": [],
   "source": [
    "carbon_emissions_df.replace(-2999.6, np.nan, inplace=True)"
   ]
  },
  {
   "cell_type": "code",
   "execution_count": 25,
   "metadata": {},
   "outputs": [],
   "source": [
    "carbon_emissions_df = carbon_emissions_df.bfill(axis=1)   \n"
   ]
  },
  {
   "attachments": {},
   "cell_type": "markdown",
   "metadata": {},
   "source": [
    "<strong>The bottom five countries.</strong>"
   ]
  },
  {
   "cell_type": "code",
   "execution_count": 26,
   "metadata": {},
   "outputs": [
    {
     "data": {
      "text/html": [
       "<div>\n",
       "<style scoped>\n",
       "    .dataframe tbody tr th:only-of-type {\n",
       "        vertical-align: middle;\n",
       "    }\n",
       "\n",
       "    .dataframe tbody tr th {\n",
       "        vertical-align: top;\n",
       "    }\n",
       "\n",
       "    .dataframe thead th {\n",
       "        text-align: right;\n",
       "    }\n",
       "</style>\n",
       "<table border=\"1\" class=\"dataframe\">\n",
       "  <thead>\n",
       "    <tr style=\"text-align: right;\">\n",
       "      <th></th>\n",
       "      <th>Country</th>\n",
       "      <th>1990</th>\n",
       "    </tr>\n",
       "  </thead>\n",
       "  <tbody>\n",
       "    <tr>\n",
       "      <th>445</th>\n",
       "      <td>Niue</td>\n",
       "      <td>3.7</td>\n",
       "    </tr>\n",
       "    <tr>\n",
       "      <th>505</th>\n",
       "      <td>Saint Helena</td>\n",
       "      <td>7.3</td>\n",
       "    </tr>\n",
       "    <tr>\n",
       "      <th>631</th>\n",
       "      <td>Turks and Caicos Islands</td>\n",
       "      <td>11.0</td>\n",
       "    </tr>\n",
       "    <tr>\n",
       "      <th>673</th>\n",
       "      <td>Wallis and Futuna Islands</td>\n",
       "      <td>14.7</td>\n",
       "    </tr>\n",
       "    <tr>\n",
       "      <th>559</th>\n",
       "      <td>Somalia</td>\n",
       "      <td>18.3</td>\n",
       "    </tr>\n",
       "  </tbody>\n",
       "</table>\n",
       "</div>"
      ],
      "text/plain": [
       "                       Country  1990\n",
       "445                       Niue   3.7\n",
       "505               Saint Helena   7.3\n",
       "631   Turks and Caicos Islands  11.0\n",
       "673  Wallis and Futuna Islands  14.7\n",
       "559                    Somalia  18.3"
      ]
     },
     "execution_count": 26,
     "metadata": {},
     "output_type": "execute_result"
    }
   ],
   "source": [
    "carbon_emissions_df.loc[:, [\"Country\", \"1990\"]].sort_values(\"1990\").head()"
   ]
  },
  {
   "attachments": {},
   "cell_type": "markdown",
   "metadata": {},
   "source": [
    "<strong>The top five countries.</strong>"
   ]
  },
  {
   "cell_type": "code",
   "execution_count": 27,
   "metadata": {},
   "outputs": [
    {
     "data": {
      "text/html": [
       "<div>\n",
       "<style scoped>\n",
       "    .dataframe tbody tr th:only-of-type {\n",
       "        vertical-align: middle;\n",
       "    }\n",
       "\n",
       "    .dataframe tbody tr th {\n",
       "        vertical-align: top;\n",
       "    }\n",
       "\n",
       "    .dataframe thead th {\n",
       "        text-align: right;\n",
       "    }\n",
       "</style>\n",
       "<table border=\"1\" class=\"dataframe\">\n",
       "  <thead>\n",
       "    <tr style=\"text-align: right;\">\n",
       "      <th></th>\n",
       "      <th>Country</th>\n",
       "      <th>1990</th>\n",
       "    </tr>\n",
       "  </thead>\n",
       "  <tbody>\n",
       "    <tr>\n",
       "      <th>652</th>\n",
       "      <td>United States</td>\n",
       "      <td>4823557.1</td>\n",
       "    </tr>\n",
       "    <tr>\n",
       "      <th>124</th>\n",
       "      <td>China</td>\n",
       "      <td>2460744.0</td>\n",
       "    </tr>\n",
       "    <tr>\n",
       "      <th>499</th>\n",
       "      <td>Russian Federation</td>\n",
       "      <td>2081840.2</td>\n",
       "    </tr>\n",
       "    <tr>\n",
       "      <th>301</th>\n",
       "      <td>Japan</td>\n",
       "      <td>1094287.8</td>\n",
       "    </tr>\n",
       "    <tr>\n",
       "      <th>229</th>\n",
       "      <td>Germany</td>\n",
       "      <td>929973.2</td>\n",
       "    </tr>\n",
       "  </tbody>\n",
       "</table>\n",
       "</div>"
      ],
      "text/plain": [
       "                Country       1990\n",
       "652       United States  4823557.1\n",
       "124               China  2460744.0\n",
       "499  Russian Federation  2081840.2\n",
       "301               Japan  1094287.8\n",
       "229             Germany   929973.2"
      ]
     },
     "execution_count": 27,
     "metadata": {},
     "output_type": "execute_result"
    }
   ],
   "source": [
    "carbon_emissions_df.loc[:, [\"Country\", \"1990\"]].sort_values(\n",
    "    \"1990\", ascending=False\n",
    ").head()"
   ]
  },
  {
   "attachments": {},
   "cell_type": "markdown",
   "metadata": {},
   "source": [
    "<strong>Carbon emissions in 2011</strong>"
   ]
  },
  {
   "attachments": {},
   "cell_type": "markdown",
   "metadata": {},
   "source": [
    "<strong>The bottom five countries </strong>"
   ]
  },
  {
   "cell_type": "code",
   "execution_count": 28,
   "metadata": {},
   "outputs": [
    {
     "data": {
      "text/html": [
       "<div>\n",
       "<style scoped>\n",
       "    .dataframe tbody tr th:only-of-type {\n",
       "        vertical-align: middle;\n",
       "    }\n",
       "\n",
       "    .dataframe tbody tr th {\n",
       "        vertical-align: top;\n",
       "    }\n",
       "\n",
       "    .dataframe thead th {\n",
       "        text-align: right;\n",
       "    }\n",
       "</style>\n",
       "<table border=\"1\" class=\"dataframe\">\n",
       "  <thead>\n",
       "    <tr style=\"text-align: right;\">\n",
       "      <th></th>\n",
       "      <th>Country</th>\n",
       "      <th>2011</th>\n",
       "    </tr>\n",
       "  </thead>\n",
       "  <tbody>\n",
       "    <tr>\n",
       "      <th>445</th>\n",
       "      <td>Niue</td>\n",
       "      <td>11.0</td>\n",
       "    </tr>\n",
       "    <tr>\n",
       "      <th>505</th>\n",
       "      <td>Saint Helena</td>\n",
       "      <td>11.0</td>\n",
       "    </tr>\n",
       "    <tr>\n",
       "      <th>673</th>\n",
       "      <td>Wallis and Futuna Islands</td>\n",
       "      <td>25.7</td>\n",
       "    </tr>\n",
       "    <tr>\n",
       "      <th>418</th>\n",
       "      <td>Nauru</td>\n",
       "      <td>51.3</td>\n",
       "    </tr>\n",
       "    <tr>\n",
       "      <th>346</th>\n",
       "      <td>Liechtenstein</td>\n",
       "      <td>51.3</td>\n",
       "    </tr>\n",
       "  </tbody>\n",
       "</table>\n",
       "</div>"
      ],
      "text/plain": [
       "                       Country  2011\n",
       "445                       Niue  11.0\n",
       "505               Saint Helena  11.0\n",
       "673  Wallis and Futuna Islands  25.7\n",
       "418                      Nauru  51.3\n",
       "346              Liechtenstein  51.3"
      ]
     },
     "execution_count": 28,
     "metadata": {},
     "output_type": "execute_result"
    }
   ],
   "source": [
    "carbon_emissions_df.loc[:, [\"Country\", \"2011\"]].sort_values(\"2011\").head()"
   ]
  },
  {
   "attachments": {},
   "cell_type": "markdown",
   "metadata": {},
   "source": [
    "<strong>The top five countries </strong>"
   ]
  },
  {
   "cell_type": "code",
   "execution_count": 29,
   "metadata": {},
   "outputs": [
    {
     "data": {
      "text/html": [
       "<div>\n",
       "<style scoped>\n",
       "    .dataframe tbody tr th:only-of-type {\n",
       "        vertical-align: middle;\n",
       "    }\n",
       "\n",
       "    .dataframe tbody tr th {\n",
       "        vertical-align: top;\n",
       "    }\n",
       "\n",
       "    .dataframe thead th {\n",
       "        text-align: right;\n",
       "    }\n",
       "</style>\n",
       "<table border=\"1\" class=\"dataframe\">\n",
       "  <thead>\n",
       "    <tr style=\"text-align: right;\">\n",
       "      <th></th>\n",
       "      <th>Country</th>\n",
       "      <th>2011</th>\n",
       "    </tr>\n",
       "  </thead>\n",
       "  <tbody>\n",
       "    <tr>\n",
       "      <th>124</th>\n",
       "      <td>China</td>\n",
       "      <td>9019518.2</td>\n",
       "    </tr>\n",
       "    <tr>\n",
       "      <th>652</th>\n",
       "      <td>United States</td>\n",
       "      <td>5305569.6</td>\n",
       "    </tr>\n",
       "    <tr>\n",
       "      <th>277</th>\n",
       "      <td>India</td>\n",
       "      <td>2074344.9</td>\n",
       "    </tr>\n",
       "    <tr>\n",
       "      <th>499</th>\n",
       "      <td>Russian Federation</td>\n",
       "      <td>1808073.0</td>\n",
       "    </tr>\n",
       "    <tr>\n",
       "      <th>301</th>\n",
       "      <td>Japan</td>\n",
       "      <td>1187657.0</td>\n",
       "    </tr>\n",
       "  </tbody>\n",
       "</table>\n",
       "</div>"
      ],
      "text/plain": [
       "                Country       2011\n",
       "124               China  9019518.2\n",
       "652       United States  5305569.6\n",
       "277               India  2074344.9\n",
       "499  Russian Federation  1808073.0\n",
       "301               Japan  1187657.0"
      ]
     },
     "execution_count": 29,
     "metadata": {},
     "output_type": "execute_result"
    }
   ],
   "source": [
    "carbon_emissions_df.loc[:, [\"Country\", \"2011\"]].sort_values(\n",
    "    \"2011\", ascending=False\n",
    ").head()"
   ]
  },
  {
   "attachments": {},
   "cell_type": "markdown",
   "metadata": {},
   "source": [
    "The smallest amount of carbon emissions in 1990 was 3.7 thousand metric tons, while the smallest amount of carbon emissions \n",
    "in 2011 is 11 thousand metric tons. The highest amount of carbon emissions in 1990 is 4,823,557.1 thousand metric tons, while in 2011 it more than doubled and was 9,019,518.2 thousand metric tons. Throughout the years, carbon emissions have \n",
    "increased."
   ]
  },
  {
   "cell_type": "code",
   "execution_count": 30,
   "metadata": {},
   "outputs": [
    {
     "data": {
      "text/html": [
       "<div>\n",
       "<style scoped>\n",
       "    .dataframe tbody tr th:only-of-type {\n",
       "        vertical-align: middle;\n",
       "    }\n",
       "\n",
       "    .dataframe tbody tr th {\n",
       "        vertical-align: top;\n",
       "    }\n",
       "\n",
       "    .dataframe thead th {\n",
       "        text-align: right;\n",
       "    }\n",
       "</style>\n",
       "<table border=\"1\" class=\"dataframe\">\n",
       "  <thead>\n",
       "    <tr style=\"text-align: right;\">\n",
       "      <th></th>\n",
       "      <th>count</th>\n",
       "      <th>unique</th>\n",
       "      <th>top</th>\n",
       "      <th>freq</th>\n",
       "    </tr>\n",
       "  </thead>\n",
       "  <tbody>\n",
       "    <tr>\n",
       "      <th>CountryCode</th>\n",
       "      <td>217</td>\n",
       "      <td>217</td>\n",
       "      <td>4</td>\n",
       "      <td>1</td>\n",
       "    </tr>\n",
       "    <tr>\n",
       "      <th>Country</th>\n",
       "      <td>217</td>\n",
       "      <td>217</td>\n",
       "      <td>Afghanistan</td>\n",
       "      <td>1</td>\n",
       "    </tr>\n",
       "    <tr>\n",
       "      <th>SeriesCode</th>\n",
       "      <td>217</td>\n",
       "      <td>1</td>\n",
       "      <td>749</td>\n",
       "      <td>217</td>\n",
       "    </tr>\n",
       "    <tr>\n",
       "      <th>MDG</th>\n",
       "      <td>217</td>\n",
       "      <td>1</td>\n",
       "      <td>Y</td>\n",
       "      <td>217</td>\n",
       "    </tr>\n",
       "    <tr>\n",
       "      <th>Series</th>\n",
       "      <td>217</td>\n",
       "      <td>1</td>\n",
       "      <td>Carbon dioxide emissions (CO2), thousand metri...</td>\n",
       "      <td>217</td>\n",
       "    </tr>\n",
       "    <tr>\n",
       "      <th>1990</th>\n",
       "      <td>217.0</td>\n",
       "      <td>207.0</td>\n",
       "      <td>77.0</td>\n",
       "      <td>3.0</td>\n",
       "    </tr>\n",
       "    <tr>\n",
       "      <th>1991</th>\n",
       "      <td>217.0</td>\n",
       "      <td>205.0</td>\n",
       "      <td>77.0</td>\n",
       "      <td>3.0</td>\n",
       "    </tr>\n",
       "    <tr>\n",
       "      <th>1992</th>\n",
       "      <td>217.0</td>\n",
       "      <td>206.0</td>\n",
       "      <td>69.7</td>\n",
       "      <td>3.0</td>\n",
       "    </tr>\n",
       "    <tr>\n",
       "      <th>1993</th>\n",
       "      <td>217.0</td>\n",
       "      <td>202.0</td>\n",
       "      <td>11.0</td>\n",
       "      <td>3.0</td>\n",
       "    </tr>\n",
       "    <tr>\n",
       "      <th>1994</th>\n",
       "      <td>217.0</td>\n",
       "      <td>202.0</td>\n",
       "      <td>11.0</td>\n",
       "      <td>3.0</td>\n",
       "    </tr>\n",
       "    <tr>\n",
       "      <th>1995</th>\n",
       "      <td>217.0</td>\n",
       "      <td>201.0</td>\n",
       "      <td>11.0</td>\n",
       "      <td>3.0</td>\n",
       "    </tr>\n",
       "    <tr>\n",
       "      <th>1996</th>\n",
       "      <td>217.0</td>\n",
       "      <td>205.0</td>\n",
       "      <td>319.0</td>\n",
       "      <td>2.0</td>\n",
       "    </tr>\n",
       "    <tr>\n",
       "      <th>1997</th>\n",
       "      <td>217.0</td>\n",
       "      <td>204.0</td>\n",
       "      <td>47.7</td>\n",
       "      <td>3.0</td>\n",
       "    </tr>\n",
       "    <tr>\n",
       "      <th>1998</th>\n",
       "      <td>217.0</td>\n",
       "      <td>208.0</td>\n",
       "      <td>161.3</td>\n",
       "      <td>3.0</td>\n",
       "    </tr>\n",
       "    <tr>\n",
       "      <th>1999</th>\n",
       "      <td>217.0</td>\n",
       "      <td>206.0</td>\n",
       "      <td>102.7</td>\n",
       "      <td>2.0</td>\n",
       "    </tr>\n",
       "    <tr>\n",
       "      <th>2000</th>\n",
       "      <td>217.0</td>\n",
       "      <td>208.0</td>\n",
       "      <td>102.7</td>\n",
       "      <td>4.0</td>\n",
       "    </tr>\n",
       "    <tr>\n",
       "      <th>2001</th>\n",
       "      <td>217.0</td>\n",
       "      <td>205.0</td>\n",
       "      <td>88.0</td>\n",
       "      <td>3.0</td>\n",
       "    </tr>\n",
       "    <tr>\n",
       "      <th>2002</th>\n",
       "      <td>217.0</td>\n",
       "      <td>209.0</td>\n",
       "      <td>102.7</td>\n",
       "      <td>2.0</td>\n",
       "    </tr>\n",
       "    <tr>\n",
       "      <th>2003</th>\n",
       "      <td>217.0</td>\n",
       "      <td>210.0</td>\n",
       "      <td>531.7</td>\n",
       "      <td>2.0</td>\n",
       "    </tr>\n",
       "    <tr>\n",
       "      <th>2004</th>\n",
       "      <td>217.0</td>\n",
       "      <td>211.0</td>\n",
       "      <td>110.0</td>\n",
       "      <td>2.0</td>\n",
       "    </tr>\n",
       "    <tr>\n",
       "      <th>2005</th>\n",
       "      <td>217.0</td>\n",
       "      <td>210.0</td>\n",
       "      <td>1338.5</td>\n",
       "      <td>2.0</td>\n",
       "    </tr>\n",
       "    <tr>\n",
       "      <th>2006</th>\n",
       "      <td>217.0</td>\n",
       "      <td>209.0</td>\n",
       "      <td>143.0</td>\n",
       "      <td>3.0</td>\n",
       "    </tr>\n",
       "    <tr>\n",
       "      <th>2007</th>\n",
       "      <td>217.0</td>\n",
       "      <td>207.0</td>\n",
       "      <td>150.3</td>\n",
       "      <td>3.0</td>\n",
       "    </tr>\n",
       "    <tr>\n",
       "      <th>2008</th>\n",
       "      <td>217.0</td>\n",
       "      <td>207.0</td>\n",
       "      <td>190.7</td>\n",
       "      <td>4.0</td>\n",
       "    </tr>\n",
       "    <tr>\n",
       "      <th>2009</th>\n",
       "      <td>217.0</td>\n",
       "      <td>212.0</td>\n",
       "      <td>575.7</td>\n",
       "      <td>3.0</td>\n",
       "    </tr>\n",
       "    <tr>\n",
       "      <th>2010</th>\n",
       "      <td>217.0</td>\n",
       "      <td>207.0</td>\n",
       "      <td>517.0</td>\n",
       "      <td>3.0</td>\n",
       "    </tr>\n",
       "    <tr>\n",
       "      <th>2011</th>\n",
       "      <td>217.0</td>\n",
       "      <td>209.0</td>\n",
       "      <td>102.7</td>\n",
       "      <td>3.0</td>\n",
       "    </tr>\n",
       "  </tbody>\n",
       "</table>\n",
       "</div>"
      ],
      "text/plain": [
       "             count unique                                                top  \\\n",
       "CountryCode    217    217                                                  4   \n",
       "Country        217    217                                        Afghanistan   \n",
       "SeriesCode     217      1                                                749   \n",
       "MDG            217      1                                                  Y   \n",
       "Series         217      1  Carbon dioxide emissions (CO2), thousand metri...   \n",
       "1990         217.0  207.0                                               77.0   \n",
       "1991         217.0  205.0                                               77.0   \n",
       "1992         217.0  206.0                                               69.7   \n",
       "1993         217.0  202.0                                               11.0   \n",
       "1994         217.0  202.0                                               11.0   \n",
       "1995         217.0  201.0                                               11.0   \n",
       "1996         217.0  205.0                                              319.0   \n",
       "1997         217.0  204.0                                               47.7   \n",
       "1998         217.0  208.0                                              161.3   \n",
       "1999         217.0  206.0                                              102.7   \n",
       "2000         217.0  208.0                                              102.7   \n",
       "2001         217.0  205.0                                               88.0   \n",
       "2002         217.0  209.0                                              102.7   \n",
       "2003         217.0  210.0                                              531.7   \n",
       "2004         217.0  211.0                                              110.0   \n",
       "2005         217.0  210.0                                             1338.5   \n",
       "2006         217.0  209.0                                              143.0   \n",
       "2007         217.0  207.0                                              150.3   \n",
       "2008         217.0  207.0                                              190.7   \n",
       "2009         217.0  212.0                                              575.7   \n",
       "2010         217.0  207.0                                              517.0   \n",
       "2011         217.0  209.0                                              102.7   \n",
       "\n",
       "            freq  \n",
       "CountryCode    1  \n",
       "Country        1  \n",
       "SeriesCode   217  \n",
       "MDG          217  \n",
       "Series       217  \n",
       "1990         3.0  \n",
       "1991         3.0  \n",
       "1992         3.0  \n",
       "1993         3.0  \n",
       "1994         3.0  \n",
       "1995         3.0  \n",
       "1996         2.0  \n",
       "1997         3.0  \n",
       "1998         3.0  \n",
       "1999         2.0  \n",
       "2000         4.0  \n",
       "2001         3.0  \n",
       "2002         2.0  \n",
       "2003         2.0  \n",
       "2004         2.0  \n",
       "2005         2.0  \n",
       "2006         3.0  \n",
       "2007         3.0  \n",
       "2008         4.0  \n",
       "2009         3.0  \n",
       "2010         3.0  \n",
       "2011         3.0  "
      ]
     },
     "execution_count": 30,
     "metadata": {},
     "output_type": "execute_result"
    }
   ],
   "source": [
    "carbon_emissions_df.describe().T"
   ]
  },
  {
   "attachments": {},
   "cell_type": "markdown",
   "metadata": {},
   "source": [
    "<strong>The median and mean of carbon emissions in 1990 are: </strong>"
   ]
  },
  {
   "cell_type": "code",
   "execution_count": 31,
   "metadata": {},
   "outputs": [
    {
     "name": "stdout",
     "output_type": "stream",
     "text": [
      "4136.4 thousand metric tons\n"
     ]
    }
   ],
   "source": [
    "print(carbon_emissions_df[\"1990\"].median(), \"thousand metric tons\")"
   ]
  },
  {
   "cell_type": "code",
   "execution_count": 32,
   "metadata": {},
   "outputs": [
    {
     "name": "stdout",
     "output_type": "stream",
     "text": [
      "97444.64331797224 thousand metric tons\n"
     ]
    }
   ],
   "source": [
    "print(carbon_emissions_df[\"1990\"].mean(), \"thousand metric tons\")"
   ]
  },
  {
   "attachments": {},
   "cell_type": "markdown",
   "metadata": {},
   "source": [
    "The mean is the average of the data set, and the median is the middle value of a sorted set of numbers, and both these parameters measure the central tendency (where the 'middle' of a data set is). The difference between the median and mean can be attributed to outliers. Outliers affect only the mean, and not the median - outliers are observations that differ significantly from other observations. This difference is also an indication of a skewed distribution. A skewed distribution is a distribution where the data is not symmetrical- most values fall on one tail of the distribution. Having a higher mean than median indicates that the distribution is skewed to the right."
   ]
  },
  {
   "attachments": {},
   "cell_type": "markdown",
   "metadata": {},
   "source": [
    "<strong>The minimum and maximum value of CO2 emissions in 1990 are: </strong>"
   ]
  },
  {
   "cell_type": "code",
   "execution_count": 33,
   "metadata": {},
   "outputs": [
    {
     "name": "stdout",
     "output_type": "stream",
     "text": [
      "min: 3.7 thousand metric tons\n"
     ]
    }
   ],
   "source": [
    "print(\"min:\", carbon_emissions_df[\"1990\"].min(), \"thousand metric tons\")"
   ]
  },
  {
   "cell_type": "code",
   "execution_count": 34,
   "metadata": {},
   "outputs": [
    {
     "name": "stdout",
     "output_type": "stream",
     "text": [
      "max: 4823557.1 thousand metric tons\n"
     ]
    }
   ],
   "source": [
    "print(\"max:\", carbon_emissions_df[\"1990\"].max(), \"thousand metric tons\")"
   ]
  },
  {
   "attachments": {},
   "cell_type": "markdown",
   "metadata": {},
   "source": [
    "<strong>Calculating the Interquartile range by first calculating the 75th and 25th percentiles.</strong>"
   ]
  },
  {
   "cell_type": "code",
   "execution_count": 35,
   "metadata": {},
   "outputs": [
    {
     "name": "stdout",
     "output_type": "stream",
     "text": [
      "Q1: 542.7 thousand metric tons\n",
      "Q3: 44183.7 thousand metric tons\n",
      "IQR: 43641.0 thousand metric tons\n"
     ]
    }
   ],
   "source": [
    "q3, q1 = np.nanquantile(carbon_emissions_df[\"1990\"], [0.75, 0.25])\n",
    "iqr = q3 - q1\n",
    "print(\"Q1:\", q1, \"thousand metric tons\")\n",
    "print(\"Q3:\", q3, \"thousand metric tons\")\n",
    "print(\"IQR:\", iqr, \"thousand metric tons\")"
   ]
  },
  {
   "attachments": {},
   "cell_type": "markdown",
   "metadata": {},
   "source": [
    "The middle 50% of the emissions are between 542.7 and 44183.7 thousand metric tons. The lowest amount of emission being 3.7 and the highest 4823557.1 thousand metric tons."
   ]
  },
  {
   "attachments": {},
   "cell_type": "markdown",
   "metadata": {},
   "source": [
    "<strong>A histogram of Carbon emissions distribution in 1990</strong>"
   ]
  },
  {
   "cell_type": "code",
   "execution_count": 36,
   "metadata": {},
   "outputs": [
    {
     "data": {
      "image/png": "[encoded data removed]",
      "text/plain": [
       "<Figure size 1000x500 with 1 Axes>"
      ]
     },
     "metadata": {},
     "output_type": "display_data"
    }
   ],
   "source": [
    "plt.hist(carbon_emissions_df[\"1990\"])\n",
    "plt.title(\"Distribution of C02 emissions in 1990\")\n",
    "plt.xlabel(\"thousand metric tons of CO2\")\n",
    "plt.ylabel(\"count of countries\")\n",
    "plt.ticklabel_format(style=\"plain\")\n",
    "plt.show()"
   ]
  },
  {
   "attachments": {},
   "cell_type": "markdown",
   "metadata": {},
   "source": [
    "This graph does not have a clear center, and has a tail to the right, therefore right skewed. Based on the above calculations, the skewness is expected."
   ]
  },
  {
   "attachments": {},
   "cell_type": "markdown",
   "metadata": {},
   "source": [
    "<strong>The standard deviation and standard error of the mean for 1990 CO2 emissions are shown below.</strong>"
   ]
  },
  {
   "cell_type": "code",
   "execution_count": 37,
   "metadata": {},
   "outputs": [
    {
     "name": "stdout",
     "output_type": "stream",
     "text": [
      "410707.6816203009 thousand metric tons\n"
     ]
    }
   ],
   "source": [
    "print(carbon_emissions_df[\"1990\"].std(), \"thousand metric tons\")"
   ]
  },
  {
   "cell_type": "code",
   "execution_count": 38,
   "metadata": {},
   "outputs": [
    {
     "name": "stdout",
     "output_type": "stream",
     "text": [
      "27880.654124082877 thousand metric tons\n"
     ]
    }
   ],
   "source": [
    "print(carbon_emissions_df[\"1990\"].sem(), \"thousand metric tons\")"
   ]
  },
  {
   "attachments": {},
   "cell_type": "markdown",
   "metadata": {},
   "source": [
    "The standard deviation is a statistic that measures the dispersion of a dataset relative to its mean, while the standard error estimates how accurate the mean of any given sample from that population is likely to be compared to the true population mean\n",
    "\n",
    "Because of the large standard deviation, this means that the amounts of carbon emitted by these countries were not consistent. Some countries emitted really high amounts of carbon, while other countries emitted little to none.\n",
    "\n",
    "Our data is not a sample, but a population because it investigates all the countries in the world so in this case the standard error cannot tell us much about our data. "
   ]
  },
  {
   "attachments": {},
   "cell_type": "markdown",
   "metadata": {},
   "source": [
    "<strong>Creating a subset of the BRICS countries and the United States.</strong>"
   ]
  },
  {
   "cell_type": "code",
   "execution_count": 39,
   "metadata": {},
   "outputs": [
    {
     "data": {
      "text/html": [
       "<div>\n",
       "<style scoped>\n",
       "    .dataframe tbody tr th:only-of-type {\n",
       "        vertical-align: middle;\n",
       "    }\n",
       "\n",
       "    .dataframe tbody tr th {\n",
       "        vertical-align: top;\n",
       "    }\n",
       "\n",
       "    .dataframe thead th {\n",
       "        text-align: right;\n",
       "    }\n",
       "</style>\n",
       "<table border=\"1\" class=\"dataframe\">\n",
       "  <thead>\n",
       "    <tr style=\"text-align: right;\">\n",
       "      <th></th>\n",
       "      <th>CountryCode</th>\n",
       "      <th>Country</th>\n",
       "      <th>SeriesCode</th>\n",
       "      <th>MDG</th>\n",
       "      <th>Series</th>\n",
       "      <th>1990</th>\n",
       "      <th>1991</th>\n",
       "      <th>1992</th>\n",
       "      <th>1993</th>\n",
       "      <th>1994</th>\n",
       "      <th>...</th>\n",
       "      <th>2002</th>\n",
       "      <th>2003</th>\n",
       "      <th>2004</th>\n",
       "      <th>2005</th>\n",
       "      <th>2006</th>\n",
       "      <th>2007</th>\n",
       "      <th>2008</th>\n",
       "      <th>2009</th>\n",
       "      <th>2010</th>\n",
       "      <th>2011</th>\n",
       "    </tr>\n",
       "  </thead>\n",
       "  <tbody>\n",
       "    <tr>\n",
       "      <th>82</th>\n",
       "      <td>76</td>\n",
       "      <td>Brazil</td>\n",
       "      <td>749</td>\n",
       "      <td>Y</td>\n",
       "      <td>Carbon dioxide emissions (CO2), thousand metri...</td>\n",
       "      <td>208887.0</td>\n",
       "      <td>219330.6</td>\n",
       "      <td>220705.7</td>\n",
       "      <td>230738.6</td>\n",
       "      <td>242154.0</td>\n",
       "      <td>...</td>\n",
       "      <td>332266.9</td>\n",
       "      <td>321621.6</td>\n",
       "      <td>337826.0</td>\n",
       "      <td>347308.9</td>\n",
       "      <td>347668.3</td>\n",
       "      <td>363212.7</td>\n",
       "      <td>387675.2</td>\n",
       "      <td>367147.4</td>\n",
       "      <td>419754.2</td>\n",
       "      <td>439412.9</td>\n",
       "    </tr>\n",
       "    <tr>\n",
       "      <th>124</th>\n",
       "      <td>156</td>\n",
       "      <td>China</td>\n",
       "      <td>749</td>\n",
       "      <td>Y</td>\n",
       "      <td>Carbon dioxide emissions (CO2), thousand metri...</td>\n",
       "      <td>2460744.0</td>\n",
       "      <td>2584538.3</td>\n",
       "      <td>2695982.1</td>\n",
       "      <td>2878694.0</td>\n",
       "      <td>3058241.3</td>\n",
       "      <td>...</td>\n",
       "      <td>3694242.1</td>\n",
       "      <td>4525177.0</td>\n",
       "      <td>5288166.0</td>\n",
       "      <td>5790017.0</td>\n",
       "      <td>6414463.1</td>\n",
       "      <td>6791804.7</td>\n",
       "      <td>7035443.9</td>\n",
       "      <td>7692210.9</td>\n",
       "      <td>8256969.2</td>\n",
       "      <td>9019518.2</td>\n",
       "    </tr>\n",
       "    <tr>\n",
       "      <th>277</th>\n",
       "      <td>356</td>\n",
       "      <td>India</td>\n",
       "      <td>749</td>\n",
       "      <td>Y</td>\n",
       "      <td>Carbon dioxide emissions (CO2), thousand metri...</td>\n",
       "      <td>690576.8</td>\n",
       "      <td>737851.7</td>\n",
       "      <td>783634.2</td>\n",
       "      <td>814297.7</td>\n",
       "      <td>864931.6</td>\n",
       "      <td>...</td>\n",
       "      <td>1226791.2</td>\n",
       "      <td>1281913.5</td>\n",
       "      <td>1348524.6</td>\n",
       "      <td>1411127.6</td>\n",
       "      <td>1504364.7</td>\n",
       "      <td>1611199.1</td>\n",
       "      <td>1793075.0</td>\n",
       "      <td>1965820.0</td>\n",
       "      <td>1950950.3</td>\n",
       "      <td>2074344.9</td>\n",
       "    </tr>\n",
       "    <tr>\n",
       "      <th>499</th>\n",
       "      <td>643</td>\n",
       "      <td>Russian Federation</td>\n",
       "      <td>749</td>\n",
       "      <td>Y</td>\n",
       "      <td>Carbon dioxide emissions (CO2), thousand metri...</td>\n",
       "      <td>2081840.2</td>\n",
       "      <td>2081840.2</td>\n",
       "      <td>2081840.2</td>\n",
       "      <td>1941203.5</td>\n",
       "      <td>1701132.3</td>\n",
       "      <td>...</td>\n",
       "      <td>1557660.9</td>\n",
       "      <td>1604968.9</td>\n",
       "      <td>1602955.7</td>\n",
       "      <td>1615687.5</td>\n",
       "      <td>1669618.1</td>\n",
       "      <td>1667597.6</td>\n",
       "      <td>1715639.0</td>\n",
       "      <td>1574367.8</td>\n",
       "      <td>1742540.1</td>\n",
       "      <td>1808073.0</td>\n",
       "    </tr>\n",
       "    <tr>\n",
       "      <th>562</th>\n",
       "      <td>710</td>\n",
       "      <td>South Africa</td>\n",
       "      <td>749</td>\n",
       "      <td>Y</td>\n",
       "      <td>Carbon dioxide emissions (CO2), thousand metri...</td>\n",
       "      <td>319795.4</td>\n",
       "      <td>332618.9</td>\n",
       "      <td>307822.6</td>\n",
       "      <td>321104.5</td>\n",
       "      <td>337576.7</td>\n",
       "      <td>...</td>\n",
       "      <td>347686.6</td>\n",
       "      <td>380810.6</td>\n",
       "      <td>424774.3</td>\n",
       "      <td>391819.0</td>\n",
       "      <td>422445.7</td>\n",
       "      <td>440989.8</td>\n",
       "      <td>469090.0</td>\n",
       "      <td>477806.4</td>\n",
       "      <td>454950.0</td>\n",
       "      <td>477241.7</td>\n",
       "    </tr>\n",
       "  </tbody>\n",
       "</table>\n",
       "<p>5 rows × 27 columns</p>\n",
       "</div>"
      ],
      "text/plain": [
       "    CountryCode             Country SeriesCode MDG  \\\n",
       "82           76              Brazil        749   Y   \n",
       "124         156               China        749   Y   \n",
       "277         356               India        749   Y   \n",
       "499         643  Russian Federation        749   Y   \n",
       "562         710        South Africa        749   Y   \n",
       "\n",
       "                                                Series       1990       1991  \\\n",
       "82   Carbon dioxide emissions (CO2), thousand metri...   208887.0   219330.6   \n",
       "124  Carbon dioxide emissions (CO2), thousand metri...  2460744.0  2584538.3   \n",
       "277  Carbon dioxide emissions (CO2), thousand metri...   690576.8   737851.7   \n",
       "499  Carbon dioxide emissions (CO2), thousand metri...  2081840.2  2081840.2   \n",
       "562  Carbon dioxide emissions (CO2), thousand metri...   319795.4   332618.9   \n",
       "\n",
       "          1992       1993       1994  ...       2002       2003       2004  \\\n",
       "82    220705.7   230738.6   242154.0  ...   332266.9   321621.6   337826.0   \n",
       "124  2695982.1  2878694.0  3058241.3  ...  3694242.1  4525177.0  5288166.0   \n",
       "277   783634.2   814297.7   864931.6  ...  1226791.2  1281913.5  1348524.6   \n",
       "499  2081840.2  1941203.5  1701132.3  ...  1557660.9  1604968.9  1602955.7   \n",
       "562   307822.6   321104.5   337576.7  ...   347686.6   380810.6   424774.3   \n",
       "\n",
       "          2005       2006       2007       2008       2009       2010  \\\n",
       "82    347308.9   347668.3   363212.7   387675.2   367147.4   419754.2   \n",
       "124  5790017.0  6414463.1  6791804.7  7035443.9  7692210.9  8256969.2   \n",
       "277  1411127.6  1504364.7  1611199.1  1793075.0  1965820.0  1950950.3   \n",
       "499  1615687.5  1669618.1  1667597.6  1715639.0  1574367.8  1742540.1   \n",
       "562   391819.0   422445.7   440989.8   469090.0   477806.4   454950.0   \n",
       "\n",
       "          2011  \n",
       "82    439412.9  \n",
       "124  9019518.2  \n",
       "277  2074344.9  \n",
       "499  1808073.0  \n",
       "562   477241.7  \n",
       "\n",
       "[5 rows x 27 columns]"
      ]
     },
     "execution_count": 39,
     "metadata": {},
     "output_type": "execute_result"
    }
   ],
   "source": [
    "brics_usa_countries = carbon_emissions_df.loc[\n",
    "    carbon_emissions_df[\"Country\"].isin(\n",
    "        [\n",
    "            \"Brazil\",\n",
    "            \"Russian Federation\",\n",
    "            \"China\",\n",
    "            \"India\",\n",
    "            \"United States\",\n",
    "            \"South Africa\",\n",
    "        ]\n",
    "    )\n",
    "]\n",
    "brics_usa_countries.head()"
   ]
  },
  {
   "cell_type": "code",
   "execution_count": 40,
   "metadata": {},
   "outputs": [
    {
     "data": {
      "text/html": [
       "<div>\n",
       "<style scoped>\n",
       "    .dataframe tbody tr th:only-of-type {\n",
       "        vertical-align: middle;\n",
       "    }\n",
       "\n",
       "    .dataframe tbody tr th {\n",
       "        vertical-align: top;\n",
       "    }\n",
       "\n",
       "    .dataframe thead th {\n",
       "        text-align: right;\n",
       "    }\n",
       "</style>\n",
       "<table border=\"1\" class=\"dataframe\">\n",
       "  <thead>\n",
       "    <tr style=\"text-align: right;\">\n",
       "      <th></th>\n",
       "      <th>CountryCode</th>\n",
       "      <th>Country</th>\n",
       "      <th>1990</th>\n",
       "      <th>1991</th>\n",
       "      <th>1992</th>\n",
       "      <th>1993</th>\n",
       "      <th>1994</th>\n",
       "      <th>1995</th>\n",
       "      <th>1996</th>\n",
       "      <th>1997</th>\n",
       "      <th>...</th>\n",
       "      <th>2002</th>\n",
       "      <th>2003</th>\n",
       "      <th>2004</th>\n",
       "      <th>2005</th>\n",
       "      <th>2006</th>\n",
       "      <th>2007</th>\n",
       "      <th>2008</th>\n",
       "      <th>2009</th>\n",
       "      <th>2010</th>\n",
       "      <th>2011</th>\n",
       "    </tr>\n",
       "  </thead>\n",
       "  <tbody>\n",
       "    <tr>\n",
       "      <th>82</th>\n",
       "      <td>76</td>\n",
       "      <td>Brazil</td>\n",
       "      <td>208887.0</td>\n",
       "      <td>219330.6</td>\n",
       "      <td>220705.7</td>\n",
       "      <td>230738.6</td>\n",
       "      <td>242154.0</td>\n",
       "      <td>258347.5</td>\n",
       "      <td>284782.9</td>\n",
       "      <td>300547.3</td>\n",
       "      <td>...</td>\n",
       "      <td>332266.9</td>\n",
       "      <td>321621.6</td>\n",
       "      <td>337826.0</td>\n",
       "      <td>347308.9</td>\n",
       "      <td>347668.3</td>\n",
       "      <td>363212.7</td>\n",
       "      <td>387675.2</td>\n",
       "      <td>367147.4</td>\n",
       "      <td>419754.2</td>\n",
       "      <td>439412.9</td>\n",
       "    </tr>\n",
       "    <tr>\n",
       "      <th>124</th>\n",
       "      <td>156</td>\n",
       "      <td>China</td>\n",
       "      <td>2460744.0</td>\n",
       "      <td>2584538.3</td>\n",
       "      <td>2695982.1</td>\n",
       "      <td>2878694.0</td>\n",
       "      <td>3058241.3</td>\n",
       "      <td>3320285.2</td>\n",
       "      <td>3463089.1</td>\n",
       "      <td>3469510.0</td>\n",
       "      <td>...</td>\n",
       "      <td>3694242.1</td>\n",
       "      <td>4525177.0</td>\n",
       "      <td>5288166.0</td>\n",
       "      <td>5790017.0</td>\n",
       "      <td>6414463.1</td>\n",
       "      <td>6791804.7</td>\n",
       "      <td>7035443.9</td>\n",
       "      <td>7692210.9</td>\n",
       "      <td>8256969.2</td>\n",
       "      <td>9019518.2</td>\n",
       "    </tr>\n",
       "    <tr>\n",
       "      <th>277</th>\n",
       "      <td>356</td>\n",
       "      <td>India</td>\n",
       "      <td>690576.8</td>\n",
       "      <td>737851.7</td>\n",
       "      <td>783634.2</td>\n",
       "      <td>814297.7</td>\n",
       "      <td>864931.6</td>\n",
       "      <td>920046.6</td>\n",
       "      <td>1002224.1</td>\n",
       "      <td>1043939.9</td>\n",
       "      <td>...</td>\n",
       "      <td>1226791.2</td>\n",
       "      <td>1281913.5</td>\n",
       "      <td>1348524.6</td>\n",
       "      <td>1411127.6</td>\n",
       "      <td>1504364.7</td>\n",
       "      <td>1611199.1</td>\n",
       "      <td>1793075.0</td>\n",
       "      <td>1965820.0</td>\n",
       "      <td>1950950.3</td>\n",
       "      <td>2074344.9</td>\n",
       "    </tr>\n",
       "    <tr>\n",
       "      <th>499</th>\n",
       "      <td>643</td>\n",
       "      <td>Russian Federation</td>\n",
       "      <td>2081840.2</td>\n",
       "      <td>2081840.2</td>\n",
       "      <td>2081840.2</td>\n",
       "      <td>1941203.5</td>\n",
       "      <td>1701132.3</td>\n",
       "      <td>1634312.2</td>\n",
       "      <td>1615804.9</td>\n",
       "      <td>1528849.3</td>\n",
       "      <td>...</td>\n",
       "      <td>1557660.9</td>\n",
       "      <td>1604968.9</td>\n",
       "      <td>1602955.7</td>\n",
       "      <td>1615687.5</td>\n",
       "      <td>1669618.1</td>\n",
       "      <td>1667597.6</td>\n",
       "      <td>1715639.0</td>\n",
       "      <td>1574367.8</td>\n",
       "      <td>1742540.1</td>\n",
       "      <td>1808073.0</td>\n",
       "    </tr>\n",
       "    <tr>\n",
       "      <th>562</th>\n",
       "      <td>710</td>\n",
       "      <td>South Africa</td>\n",
       "      <td>319795.4</td>\n",
       "      <td>332618.9</td>\n",
       "      <td>307822.6</td>\n",
       "      <td>321104.5</td>\n",
       "      <td>337576.7</td>\n",
       "      <td>353458.5</td>\n",
       "      <td>358639.9</td>\n",
       "      <td>371327.8</td>\n",
       "      <td>...</td>\n",
       "      <td>347686.6</td>\n",
       "      <td>380810.6</td>\n",
       "      <td>424774.3</td>\n",
       "      <td>391819.0</td>\n",
       "      <td>422445.7</td>\n",
       "      <td>440989.8</td>\n",
       "      <td>469090.0</td>\n",
       "      <td>477806.4</td>\n",
       "      <td>454950.0</td>\n",
       "      <td>477241.7</td>\n",
       "    </tr>\n",
       "  </tbody>\n",
       "</table>\n",
       "<p>5 rows × 24 columns</p>\n",
       "</div>"
      ],
      "text/plain": [
       "    CountryCode             Country       1990       1991       1992  \\\n",
       "82           76              Brazil   208887.0   219330.6   220705.7   \n",
       "124         156               China  2460744.0  2584538.3  2695982.1   \n",
       "277         356               India   690576.8   737851.7   783634.2   \n",
       "499         643  Russian Federation  2081840.2  2081840.2  2081840.2   \n",
       "562         710        South Africa   319795.4   332618.9   307822.6   \n",
       "\n",
       "          1993       1994       1995       1996       1997  ...       2002  \\\n",
       "82    230738.6   242154.0   258347.5   284782.9   300547.3  ...   332266.9   \n",
       "124  2878694.0  3058241.3  3320285.2  3463089.1  3469510.0  ...  3694242.1   \n",
       "277   814297.7   864931.6   920046.6  1002224.1  1043939.9  ...  1226791.2   \n",
       "499  1941203.5  1701132.3  1634312.2  1615804.9  1528849.3  ...  1557660.9   \n",
       "562   321104.5   337576.7   353458.5   358639.9   371327.8  ...   347686.6   \n",
       "\n",
       "          2003       2004       2005       2006       2007       2008  \\\n",
       "82    321621.6   337826.0   347308.9   347668.3   363212.7   387675.2   \n",
       "124  4525177.0  5288166.0  5790017.0  6414463.1  6791804.7  7035443.9   \n",
       "277  1281913.5  1348524.6  1411127.6  1504364.7  1611199.1  1793075.0   \n",
       "499  1604968.9  1602955.7  1615687.5  1669618.1  1667597.6  1715639.0   \n",
       "562   380810.6   424774.3   391819.0   422445.7   440989.8   469090.0   \n",
       "\n",
       "          2009       2010       2011  \n",
       "82    367147.4   419754.2   439412.9  \n",
       "124  7692210.9  8256969.2  9019518.2  \n",
       "277  1965820.0  1950950.3  2074344.9  \n",
       "499  1574367.8  1742540.1  1808073.0  \n",
       "562   477806.4   454950.0   477241.7  \n",
       "\n",
       "[5 rows x 24 columns]"
      ]
     },
     "execution_count": 40,
     "metadata": {},
     "output_type": "execute_result"
    }
   ],
   "source": [
    "irrelevant_columns = [\"MDG\", \"Series\", \"SeriesCode\"]\n",
    "brics_usa_countries = brics_usa_countries.drop(columns=irrelevant_columns)\n",
    "brics_usa_countries.head()"
   ]
  },
  {
   "attachments": {},
   "cell_type": "markdown",
   "metadata": {},
   "source": [
    "<strong>Formatting the data frame to create a table that will make visualization easier. </strong>"
   ]
  },
  {
   "cell_type": "code",
   "execution_count": 41,
   "metadata": {},
   "outputs": [],
   "source": [
    "brics_usa_countries.set_index([\"CountryCode\", \"Country\"], inplace=True)"
   ]
  },
  {
   "cell_type": "code",
   "execution_count": 42,
   "metadata": {},
   "outputs": [],
   "source": [
    "brics_usa_countries = brics_usa_countries.stack().reset_index()\n",
    "brics_usa_countries.columns = [\n",
    "    \"CountryCode\",\n",
    "    \"Country\",\n",
    "    \"Year\",\n",
    "    \"CO2_emissions (metric tons)\",\n",
    "]"
   ]
  },
  {
   "cell_type": "code",
   "execution_count": 43,
   "metadata": {},
   "outputs": [
    {
     "data": {
      "text/html": [
       "<div>\n",
       "<style scoped>\n",
       "    .dataframe tbody tr th:only-of-type {\n",
       "        vertical-align: middle;\n",
       "    }\n",
       "\n",
       "    .dataframe tbody tr th {\n",
       "        vertical-align: top;\n",
       "    }\n",
       "\n",
       "    .dataframe thead th {\n",
       "        text-align: right;\n",
       "    }\n",
       "</style>\n",
       "<table border=\"1\" class=\"dataframe\">\n",
       "  <thead>\n",
       "    <tr style=\"text-align: right;\">\n",
       "      <th></th>\n",
       "      <th>CountryCode</th>\n",
       "      <th>Country</th>\n",
       "      <th>Year</th>\n",
       "      <th>CO2_emissions (metric tons)</th>\n",
       "    </tr>\n",
       "  </thead>\n",
       "  <tbody>\n",
       "    <tr>\n",
       "      <th>0</th>\n",
       "      <td>76</td>\n",
       "      <td>Brazil</td>\n",
       "      <td>1990</td>\n",
       "      <td>208887.0</td>\n",
       "    </tr>\n",
       "    <tr>\n",
       "      <th>1</th>\n",
       "      <td>76</td>\n",
       "      <td>Brazil</td>\n",
       "      <td>1991</td>\n",
       "      <td>219330.6</td>\n",
       "    </tr>\n",
       "    <tr>\n",
       "      <th>2</th>\n",
       "      <td>76</td>\n",
       "      <td>Brazil</td>\n",
       "      <td>1992</td>\n",
       "      <td>220705.7</td>\n",
       "    </tr>\n",
       "    <tr>\n",
       "      <th>3</th>\n",
       "      <td>76</td>\n",
       "      <td>Brazil</td>\n",
       "      <td>1993</td>\n",
       "      <td>230738.6</td>\n",
       "    </tr>\n",
       "    <tr>\n",
       "      <th>4</th>\n",
       "      <td>76</td>\n",
       "      <td>Brazil</td>\n",
       "      <td>1994</td>\n",
       "      <td>242154.0</td>\n",
       "    </tr>\n",
       "    <tr>\n",
       "      <th>...</th>\n",
       "      <td>...</td>\n",
       "      <td>...</td>\n",
       "      <td>...</td>\n",
       "      <td>...</td>\n",
       "    </tr>\n",
       "    <tr>\n",
       "      <th>127</th>\n",
       "      <td>840</td>\n",
       "      <td>United States</td>\n",
       "      <td>2007</td>\n",
       "      <td>5794923.4</td>\n",
       "    </tr>\n",
       "    <tr>\n",
       "      <th>128</th>\n",
       "      <td>840</td>\n",
       "      <td>United States</td>\n",
       "      <td>2008</td>\n",
       "      <td>5622464.4</td>\n",
       "    </tr>\n",
       "    <tr>\n",
       "      <th>129</th>\n",
       "      <td>840</td>\n",
       "      <td>United States</td>\n",
       "      <td>2009</td>\n",
       "      <td>5274132.4</td>\n",
       "    </tr>\n",
       "    <tr>\n",
       "      <th>130</th>\n",
       "      <td>840</td>\n",
       "      <td>United States</td>\n",
       "      <td>2010</td>\n",
       "      <td>5408869.0</td>\n",
       "    </tr>\n",
       "    <tr>\n",
       "      <th>131</th>\n",
       "      <td>840</td>\n",
       "      <td>United States</td>\n",
       "      <td>2011</td>\n",
       "      <td>5305569.6</td>\n",
       "    </tr>\n",
       "  </tbody>\n",
       "</table>\n",
       "<p>132 rows × 4 columns</p>\n",
       "</div>"
      ],
      "text/plain": [
       "     CountryCode        Country  Year CO2_emissions (metric tons)\n",
       "0             76         Brazil  1990                    208887.0\n",
       "1             76         Brazil  1991                    219330.6\n",
       "2             76         Brazil  1992                    220705.7\n",
       "3             76         Brazil  1993                    230738.6\n",
       "4             76         Brazil  1994                    242154.0\n",
       "..           ...            ...   ...                         ...\n",
       "127          840  United States  2007                   5794923.4\n",
       "128          840  United States  2008                   5622464.4\n",
       "129          840  United States  2009                   5274132.4\n",
       "130          840  United States  2010                   5408869.0\n",
       "131          840  United States  2011                   5305569.6\n",
       "\n",
       "[132 rows x 4 columns]"
      ]
     },
     "execution_count": 43,
     "metadata": {},
     "output_type": "execute_result"
    }
   ],
   "source": [
    "brics_usa_countries"
   ]
  },
  {
   "attachments": {},
   "cell_type": "markdown",
   "metadata": {},
   "source": [
    "<strong>Line graph of the BRICS coutries, with the United States, and their metric tons of carbon emissions.</strong>"
   ]
  },
  {
   "cell_type": "code",
   "execution_count": 44,
   "metadata": {},
   "outputs": [
    {
     "data": {
      "application/vnd.plotly.v1+json": {
       "config": {
        "plotlyServerURL": "https://plot.ly"
       },
       "data": [
        {
         "hovertemplate": "Country=Brazil<br>Year=%{x}<br>CO2_emissions (metric tons)=%{y}<extra></extra>",
         "legendgroup": "Brazil",
         "line": {
          "color": "#636efa",
          "dash": "solid"
         },
         "marker": {
          "symbol": "circle"
         },
         "mode": "lines",
         "name": "Brazil",
         "orientation": "v",
         "showlegend": true,
         "type": "scatter",
         "x": [
          "1990",
          "1991",
          "1992",
          "1993",
          "1994",
          "1995",
          "1996",
          "1997",
          "1998",
          "1999",
          "2000",
          "2001",
          "2002",
          "2003",
          "2004",
          "2005",
          "2006",
          "2007",
          "2008",
          "2009",
          "2010",
          "2011"
         ],
         "xaxis": "x",
         "y": [
          208887,
          219330.6,
          220705.7,
          230738.6,
          242154,
          258347.5,
          284782.9,
          300547.3,
          312289.1,
          320173.1,
          327983.8,
          337433.7,
          332266.9,
          321621.6,
          337826,
          347308.9,
          347668.3,
          363212.7,
          387675.2,
          367147.4,
          419754.2,
          439412.9
         ],
         "yaxis": "y"
        },
        {
         "hovertemplate": "Country=China<br>Year=%{x}<br>CO2_emissions (metric tons)=%{y}<extra></extra>",
         "legendgroup": "China",
         "line": {
          "color": "#EF553B",
          "dash": "solid"
         },
         "marker": {
          "symbol": "circle"
         },
         "mode": "lines",
         "name": "China",
         "orientation": "v",
         "showlegend": true,
         "type": "scatter",
         "x": [
          "1990",
          "1991",
          "1992",
          "1993",
          "1994",
          "1995",
          "1996",
          "1997",
          "1998",
          "1999",
          "2000",
          "2001",
          "2002",
          "2003",
          "2004",
          "2005",
          "2006",
          "2007",
          "2008",
          "2009",
          "2010",
          "2011"
         ],
         "xaxis": "x",
         "y": [
          2460744,
          2584538.3,
          2695982.1,
          2878694,
          3058241.3,
          3320285.2,
          3463089.1,
          3469510,
          3324344.5,
          3318055.6,
          3405179.9,
          3487566.4,
          3694242.1,
          4525177,
          5288166,
          5790017,
          6414463.1,
          6791804.7,
          7035443.9,
          7692210.9,
          8256969.2,
          9019518.2
         ],
         "yaxis": "y"
        },
        {
         "hovertemplate": "Country=India<br>Year=%{x}<br>CO2_emissions (metric tons)=%{y}<extra></extra>",
         "legendgroup": "India",
         "line": {
          "color": "#00cc96",
          "dash": "solid"
         },
         "marker": {
          "symbol": "circle"
         },
         "mode": "lines",
         "name": "India",
         "orientation": "v",
         "showlegend": true,
         "type": "scatter",
         "x": [
          "1990",
          "1991",
          "1992",
          "1993",
          "1994",
          "1995",
          "1996",
          "1997",
          "1998",
          "1999",
          "2000",
          "2001",
          "2002",
          "2003",
          "2004",
          "2005",
          "2006",
          "2007",
          "2008",
          "2009",
          "2010",
          "2011"
         ],
         "xaxis": "x",
         "y": [
          690576.8,
          737851.7,
          783634.2,
          814297.7,
          864931.6,
          920046.6,
          1002224.1,
          1043939.9,
          1071911.8,
          1144390,
          1186663.2,
          1203843.1,
          1226791.2,
          1281913.5,
          1348524.6,
          1411127.6,
          1504364.7,
          1611199.1,
          1793075,
          1965820,
          1950950.3,
          2074344.9
         ],
         "yaxis": "y"
        },
        {
         "hovertemplate": "Country=Russian Federation<br>Year=%{x}<br>CO2_emissions (metric tons)=%{y}<extra></extra>",
         "legendgroup": "Russian Federation",
         "line": {
          "color": "#ab63fa",
          "dash": "solid"
         },
         "marker": {
          "symbol": "circle"
         },
         "mode": "lines",
         "name": "Russian Federation",
         "orientation": "v",
         "showlegend": true,
         "type": "scatter",
         "x": [
          "1990",
          "1991",
          "1992",
          "1993",
          "1994",
          "1995",
          "1996",
          "1997",
          "1998",
          "1999",
          "2000",
          "2001",
          "2002",
          "2003",
          "2004",
          "2005",
          "2006",
          "2007",
          "2008",
          "2009",
          "2010",
          "2011"
         ],
         "xaxis": "x",
         "y": [
          2081840.2,
          2081840.2,
          2081840.2,
          1941203.5,
          1701132.3,
          1634312.2,
          1615804.9,
          1528849.3,
          1498343.5,
          1533968.4,
          1558112,
          1558002,
          1557660.9,
          1604968.9,
          1602955.7,
          1615687.5,
          1669618.1,
          1667597.6,
          1715639,
          1574367.8,
          1742540.1,
          1808073
         ],
         "yaxis": "y"
        },
        {
         "hovertemplate": "Country=South Africa<br>Year=%{x}<br>CO2_emissions (metric tons)=%{y}<extra></extra>",
         "legendgroup": "South Africa",
         "line": {
          "color": "#FFA15A",
          "dash": "solid"
         },
         "marker": {
          "symbol": "circle"
         },
         "mode": "lines",
         "name": "South Africa",
         "orientation": "v",
         "showlegend": true,
         "type": "scatter",
         "x": [
          "1990",
          "1991",
          "1992",
          "1993",
          "1994",
          "1995",
          "1996",
          "1997",
          "1998",
          "1999",
          "2000",
          "2001",
          "2002",
          "2003",
          "2004",
          "2005",
          "2006",
          "2007",
          "2008",
          "2009",
          "2010",
          "2011"
         ],
         "xaxis": "x",
         "y": [
          319795.4,
          332618.9,
          307822.6,
          321104.5,
          337576.7,
          353458.5,
          358639.9,
          371327.8,
          372218.8,
          371034.4,
          368610.5,
          362743.3,
          347686.6,
          380810.6,
          424774.3,
          391819,
          422445.7,
          440989.8,
          469090,
          477806.4,
          454950,
          477241.7
         ],
         "yaxis": "y"
        },
        {
         "hovertemplate": "Country=United States<br>Year=%{x}<br>CO2_emissions (metric tons)=%{y}<extra></extra>",
         "legendgroup": "United States",
         "line": {
          "color": "#19d3f3",
          "dash": "solid"
         },
         "marker": {
          "symbol": "circle"
         },
         "mode": "lines",
         "name": "United States",
         "orientation": "v",
         "showlegend": true,
         "type": "scatter",
         "x": [
          "1990",
          "1991",
          "1992",
          "1993",
          "1994",
          "1995",
          "1996",
          "1997",
          "1998",
          "1999",
          "2000",
          "2001",
          "2002",
          "2003",
          "2004",
          "2005",
          "2006",
          "2007",
          "2008",
          "2009",
          "2010",
          "2011"
         ],
         "xaxis": "x",
         "y": [
          4823557.1,
          4822383.7,
          4911103.1,
          5032931.8,
          5098475.8,
          5138009.7,
          5260696.5,
          5375235.3,
          5410918.9,
          5510430.2,
          5701829.3,
          5601404.8,
          5648727.5,
          5679222.2,
          5763456.9,
          5795161.8,
          5703871.8,
          5794923.4,
          5622464.4,
          5274132.4,
          5408869,
          5305569.6
         ],
         "yaxis": "y"
        }
       ],
       "layout": {
        "font": {
         "family": "Arial Black"
        },
        "legend": {
         "title": {
          "text": "Country"
         },
         "tracegroupgap": 0
        },
        "template": {
         "data": {
          "bar": [
           {
            "error_x": {
             "color": "#2a3f5f"
            },
            "error_y": {
             "color": "#2a3f5f"
            },
            "marker": {
             "line": {
              "color": "#E5ECF6",
              "width": 0.5
             },
             "pattern": {
              "fillmode": "overlay",
              "size": 10,
              "solidity": 0.2
             }
            },
            "type": "bar"
           }
          ],
          "barpolar": [
           {
            "marker": {
             "line": {
              "color": "#E5ECF6",
              "width": 0.5
             },
             "pattern": {
              "fillmode": "overlay",
              "size": 10,
              "solidity": 0.2
             }
            },
            "type": "barpolar"
           }
          ],
          "carpet": [
           {
            "aaxis": {
             "endlinecolor": "#2a3f5f",
             "gridcolor": "white",
             "linecolor": "white",
             "minorgridcolor": "white",
             "startlinecolor": "#2a3f5f"
            },
            "baxis": {
             "endlinecolor": "#2a3f5f",
             "gridcolor": "white",
             "linecolor": "white",
             "minorgridcolor": "white",
             "startlinecolor": "#2a3f5f"
            },
            "type": "carpet"
           }
          ],
          "choropleth": [
           {
            "colorbar": {
             "outlinewidth": 0,
             "ticks": ""
            },
            "type": "choropleth"
           }
          ],
          "contour": [
           {
            "colorbar": {
             "outlinewidth": 0,
             "ticks": ""
            },
            "colorscale": [
             [
              0,
              "#0d0887"
             ],
             [
              0.1111111111111111,
              "#46039f"
             ],
             [
              0.2222222222222222,
              "#7201a8"
             ],
             [
              0.3333333333333333,
              "#9c179e"
             ],
             [
              0.4444444444444444,
              "#bd3786"
             ],
             [
              0.5555555555555556,
              "#d8576b"
             ],
             [
              0.6666666666666666,
              "#ed7953"
             ],
             [
              0.7777777777777778,
              "#fb9f3a"
             ],
             [
              0.8888888888888888,
              "#fdca26"
             ],
             [
              1,
              "#f0f921"
             ]
            ],
            "type": "contour"
           }
          ],
          "contourcarpet": [
           {
            "colorbar": {
             "outlinewidth": 0,
             "ticks": ""
            },
            "type": "contourcarpet"
           }
          ],
          "heatmap": [
           {
            "colorbar": {
             "outlinewidth": 0,
             "ticks": ""
            },
            "colorscale": [
             [
              0,
              "#0d0887"
             ],
             [
              0.1111111111111111,
              "#46039f"
             ],
             [
              0.2222222222222222,
              "#7201a8"
             ],
             [
              0.3333333333333333,
              "#9c179e"
             ],
             [
              0.4444444444444444,
              "#bd3786"
             ],
             [
              0.5555555555555556,
              "#d8576b"
             ],
             [
              0.6666666666666666,
              "#ed7953"
             ],
             [
              0.7777777777777778,
              "#fb9f3a"
             ],
             [
              0.8888888888888888,
              "#fdca26"
             ],
             [
              1,
              "#f0f921"
             ]
            ],
            "type": "heatmap"
           }
          ],
          "histogram": [
           {
            "marker": {
             "pattern": {
              "fillmode": "overlay",
              "size": 10,
              "solidity": 0.2
             }
            },
            "type": "histogram"
           }
          ],
          "histogram2d": [
           {
            "colorbar": {
             "outlinewidth": 0,
             "ticks": ""
            },
            "colorscale": [
             [
              0,
              "#0d0887"
             ],
             [
              0.1111111111111111,
              "#46039f"
             ],
             [
              0.2222222222222222,
              "#7201a8"
             ],
             [
              0.3333333333333333,
              "#9c179e"
             ],
             [
              0.4444444444444444,
              "#bd3786"
             ],
             [
              0.5555555555555556,
              "#d8576b"
             ],
             [
              0.6666666666666666,
              "#ed7953"
             ],
             [
              0.7777777777777778,
              "#fb9f3a"
             ],
             [
              0.8888888888888888,
              "#fdca26"
             ],
             [
              1,
              "#f0f921"
             ]
            ],
            "type": "histogram2d"
           }
          ],
          "histogram2dcontour": [
           {
            "colorbar": {
             "outlinewidth": 0,
             "ticks": ""
            },
            "colorscale": [
             [
              0,
              "#0d0887"
             ],
             [
              0.1111111111111111,
              "#46039f"
             ],
             [
              0.2222222222222222,
              "#7201a8"
             ],
             [
              0.3333333333333333,
              "#9c179e"
             ],
             [
              0.4444444444444444,
              "#bd3786"
             ],
             [
              0.5555555555555556,
              "#d8576b"
             ],
             [
              0.6666666666666666,
              "#ed7953"
             ],
             [
              0.7777777777777778,
              "#fb9f3a"
             ],
             [
              0.8888888888888888,
              "#fdca26"
             ],
             [
              1,
              "#f0f921"
             ]
            ],
            "type": "histogram2dcontour"
           }
          ],
          "mesh3d": [
           {
            "colorbar": {
             "outlinewidth": 0,
             "ticks": ""
            },
            "type": "mesh3d"
           }
          ],
          "parcoords": [
           {
            "line": {
             "colorbar": {
              "outlinewidth": 0,
              "ticks": ""
             }
            },
            "type": "parcoords"
           }
          ],
          "pie": [
           {
            "automargin": true,
            "type": "pie"
           }
          ],
          "scatter": [
           {
            "fillpattern": {
             "fillmode": "overlay",
             "size": 10,
             "solidity": 0.2
            },
            "type": "scatter"
           }
          ],
          "scatter3d": [
           {
            "line": {
             "colorbar": {
              "outlinewidth": 0,
              "ticks": ""
             }
            },
            "marker": {
             "colorbar": {
              "outlinewidth": 0,
              "ticks": ""
             }
            },
            "type": "scatter3d"
           }
          ],
          "scattercarpet": [
           {
            "marker": {
             "colorbar": {
              "outlinewidth": 0,
              "ticks": ""
             }
            },
            "type": "scattercarpet"
           }
          ],
          "scattergeo": [
           {
            "marker": {
             "colorbar": {
              "outlinewidth": 0,
              "ticks": ""
             }
            },
            "type": "scattergeo"
           }
          ],
          "scattergl": [
           {
            "marker": {
             "colorbar": {
              "outlinewidth": 0,
              "ticks": ""
             }
            },
            "type": "scattergl"
           }
          ],
          "scattermap": [
           {
            "marker": {
             "colorbar": {
              "outlinewidth": 0,
              "ticks": ""
             }
            },
            "type": "scattermap"
           }
          ],
          "scattermapbox": [
           {
            "marker": {
             "colorbar": {
              "outlinewidth": 0,
              "ticks": ""
             }
            },
            "type": "scattermapbox"
           }
          ],
          "scatterpolar": [
           {
            "marker": {
             "colorbar": {
              "outlinewidth": 0,
              "ticks": ""
             }
            },
            "type": "scatterpolar"
           }
          ],
          "scatterpolargl": [
           {
            "marker": {
             "colorbar": {
              "outlinewidth": 0,
              "ticks": ""
             }
            },
            "type": "scatterpolargl"
           }
          ],
          "scatterternary": [
           {
            "marker": {
             "colorbar": {
              "outlinewidth": 0,
              "ticks": ""
             }
            },
            "type": "scatterternary"
           }
          ],
          "surface": [
           {
            "colorbar": {
             "outlinewidth": 0,
             "ticks": ""
            },
            "colorscale": [
             [
              0,
              "#0d0887"
             ],
             [
              0.1111111111111111,
              "#46039f"
             ],
             [
              0.2222222222222222,
              "#7201a8"
             ],
             [
              0.3333333333333333,
              "#9c179e"
             ],
             [
              0.4444444444444444,
              "#bd3786"
             ],
             [
              0.5555555555555556,
              "#d8576b"
             ],
             [
              0.6666666666666666,
              "#ed7953"
             ],
             [
              0.7777777777777778,
              "#fb9f3a"
             ],
             [
              0.8888888888888888,
              "#fdca26"
             ],
             [
              1,
              "#f0f921"
             ]
            ],
            "type": "surface"
           }
          ],
          "table": [
           {
            "cells": {
             "fill": {
              "color": "#EBF0F8"
             },
             "line": {
              "color": "white"
             }
            },
            "header": {
             "fill": {
              "color": "#C8D4E3"
             },
             "line": {
              "color": "white"
             }
            },
            "type": "table"
           }
          ]
         },
         "layout": {
          "annotationdefaults": {
           "arrowcolor": "#2a3f5f",
           "arrowhead": 0,
           "arrowwidth": 1
          },
          "autotypenumbers": "strict",
          "coloraxis": {
           "colorbar": {
            "outlinewidth": 0,
            "ticks": ""
           }
          },
          "colorscale": {
           "diverging": [
            [
             0,
             "#8e0152"
            ],
            [
             0.1,
             "#c51b7d"
            ],
            [
             0.2,
             "#de77ae"
            ],
            [
             0.3,
             "#f1b6da"
            ],
            [
             0.4,
             "#fde0ef"
            ],
            [
             0.5,
             "#f7f7f7"
            ],
            [
             0.6,
             "#e6f5d0"
            ],
            [
             0.7,
             "#b8e186"
            ],
            [
             0.8,
             "#7fbc41"
            ],
            [
             0.9,
             "#4d9221"
            ],
            [
             1,
             "#276419"
            ]
           ],
           "sequential": [
            [
             0,
             "#0d0887"
            ],
            [
             0.1111111111111111,
             "#46039f"
            ],
            [
             0.2222222222222222,
             "#7201a8"
            ],
            [
             0.3333333333333333,
             "#9c179e"
            ],
            [
             0.4444444444444444,
             "#bd3786"
            ],
            [
             0.5555555555555556,
             "#d8576b"
            ],
            [
             0.6666666666666666,
             "#ed7953"
            ],
            [
             0.7777777777777778,
             "#fb9f3a"
            ],
            [
             0.8888888888888888,
             "#fdca26"
            ],
            [
             1,
             "#f0f921"
            ]
           ],
           "sequentialminus": [
            [
             0,
             "#0d0887"
            ],
            [
             0.1111111111111111,
             "#46039f"
            ],
            [
             0.2222222222222222,
             "#7201a8"
            ],
            [
             0.3333333333333333,
             "#9c179e"
            ],
            [
             0.4444444444444444,
             "#bd3786"
            ],
            [
             0.5555555555555556,
             "#d8576b"
            ],
            [
             0.6666666666666666,
             "#ed7953"
            ],
            [
             0.7777777777777778,
             "#fb9f3a"
            ],
            [
             0.8888888888888888,
             "#fdca26"
            ],
            [
             1,
             "#f0f921"
            ]
           ]
          },
          "colorway": [
           "#636efa",
           "#EF553B",
           "#00cc96",
           "#ab63fa",
           "#FFA15A",
           "#19d3f3",
           "#FF6692",
           "#B6E880",
           "#FF97FF",
           "#FECB52"
          ],
          "font": {
           "color": "#2a3f5f"
          },
          "geo": {
           "bgcolor": "white",
           "lakecolor": "white",
           "landcolor": "#E5ECF6",
           "showlakes": true,
           "showland": true,
           "subunitcolor": "white"
          },
          "hoverlabel": {
           "align": "left"
          },
          "hovermode": "closest",
          "mapbox": {
           "style": "light"
          },
          "paper_bgcolor": "white",
          "plot_bgcolor": "#E5ECF6",
          "polar": {
           "angularaxis": {
            "gridcolor": "white",
            "linecolor": "white",
            "ticks": ""
           },
           "bgcolor": "#E5ECF6",
           "radialaxis": {
            "gridcolor": "white",
            "linecolor": "white",
            "ticks": ""
           }
          },
          "scene": {
           "xaxis": {
            "backgroundcolor": "#E5ECF6",
            "gridcolor": "white",
            "gridwidth": 2,
            "linecolor": "white",
            "showbackground": true,
            "ticks": "",
            "zerolinecolor": "white"
           },
           "yaxis": {
            "backgroundcolor": "#E5ECF6",
            "gridcolor": "white",
            "gridwidth": 2,
            "linecolor": "white",
            "showbackground": true,
            "ticks": "",
            "zerolinecolor": "white"
           },
           "zaxis": {
            "backgroundcolor": "#E5ECF6",
            "gridcolor": "white",
            "gridwidth": 2,
            "linecolor": "white",
            "showbackground": true,
            "ticks": "",
            "zerolinecolor": "white"
           }
          },
          "shapedefaults": {
           "line": {
            "color": "#2a3f5f"
           }
          },
          "ternary": {
           "aaxis": {
            "gridcolor": "white",
            "linecolor": "white",
            "ticks": ""
           },
           "baxis": {
            "gridcolor": "white",
            "linecolor": "white",
            "ticks": ""
           },
           "bgcolor": "#E5ECF6",
           "caxis": {
            "gridcolor": "white",
            "linecolor": "white",
            "ticks": ""
           }
          },
          "title": {
           "x": 0.05
          },
          "xaxis": {
           "automargin": true,
           "gridcolor": "white",
           "linecolor": "white",
           "ticks": "",
           "title": {
            "standoff": 15
           },
           "zerolinecolor": "white",
           "zerolinewidth": 2
          },
          "yaxis": {
           "automargin": true,
           "gridcolor": "white",
           "linecolor": "white",
           "ticks": "",
           "title": {
            "standoff": 15
           },
           "zerolinecolor": "white",
           "zerolinewidth": 2
          }
         }
        },
        "title": {
         "text": "<b>Carbon Emissions of different countries from 1990 to 2011</b>"
        },
        "xaxis": {
         "anchor": "y",
         "domain": [
          0,
          1
         ],
         "title": {
          "text": "Year"
         }
        },
        "yaxis": {
         "anchor": "x",
         "domain": [
          0,
          1
         ],
         "title": {
          "text": "CO2_emissions (metric tons)"
         }
        }
       }
      }
     },
     "metadata": {},
     "output_type": "display_data"
    }
   ],
   "source": [
    "fig = px.line(\n",
    "    brics_usa_countries,\n",
    "    x=\"Year\",\n",
    "    y=\"CO2_emissions (metric tons)\",\n",
    "    color=\"Country\",\n",
    "    title=\"<b>Carbon Emissions of different countries from 1990 to 2011</b>\",\n",
    ")\n",
    "fig.update_layout(font_family=\"Arial Black\")\n",
    "fig.show()"
   ]
  },
  {
   "attachments": {},
   "cell_type": "markdown",
   "metadata": {},
   "source": [
    "The <i>Carbon Emissions of different countries from 1990 to 2011</i> graph consists of the BRICS countries and the United States, showing the patterns of the carbon emissions from 1990 to 2011.\n",
    "\n",
    "The amount of CO2 emissions from China at 1990 was approximately 2.4 million thousand metric tons, then gradually increased until 2002. From 2002, there was a rapid increase in CO2 emissions, almost linear. The peak of this increase occurred in 2011, when it reached over 9 million thousand metric tons. This is the highest amount of emissions by any country.\n",
    "\n",
    "In 1990 and 1991, the Russian Federation had CO2 emissions of about 3000 thousand metric tons. Between 1991 and 1992, there was a spike in growth, reaching approximately 2 million thousand metric tons of CO2 emissions. This was the country's highest amount through out the years. After 1992, there was a gradual decrease, and by 2011 they had reached about 1.8 million thousand metric tons of CO2 emissions.\n",
    "\n",
    "In 1990 and 1991, the Russian Federation had CO2 emissions of about 3,000 thousand metric tons. Between 1991 and 1992, there was a spike in growth, reaching approximately 2 million thousand metric tons of CO2 emissions. This was the country's highest amount through out the years. After 1992, there was a gradual decrease, and by 2011 they had reached about 1.8 million thousand metric tons of CO2 emissions.\n",
    "India started off with approximately 690,000 thousand metric tons of CO2 emissions in 1990. This was followed by a gradual increase throughout the years, until it reached the peak of approximately 2 million thousand metric tons of CO2 emissions in 2011.\n",
    "\n",
    "South Africa and Brazil had a similar CO2 emissions pattern. These two countries maintained an almost constant pattern, with an increase of approximately 100,000 thousand metric tons each by 2011. In 1990, they started off at approximately 319,000 and 208,000 thousand metric tons, respectively, and by 2011 both countries had CO2 emissions in the 400,000 range.\n",
    "\n",
    "In 1990, the US generated the highest amount of CO2 emissions of the selected countries, at approximately 4.8 million thousand metric tons of CO2 emissions. The growth of CO2 emissions in this country was gradual, reaching a peak in 2005, at approximately 5.8 million thousand metric tons. From 2005, there was a gradual decline, but still above 5 million. Throughout the years, the US CO2 emissions remained below 6 million thousand metric tons."
   ]
  },
  {
   "attachments": {},
   "cell_type": "markdown",
   "metadata": {},
   "source": [
    "#### Findings from forest-covered land and protected land"
   ]
  },
  {
   "attachments": {},
   "cell_type": "markdown",
   "metadata": {},
   "source": [
    "<strong> Land covered by forest </strong>"
   ]
  },
  {
   "cell_type": "code",
   "execution_count": 45,
   "metadata": {},
   "outputs": [
    {
     "data": {
      "text/html": [
       "<div>\n",
       "<style scoped>\n",
       "    .dataframe tbody tr th:only-of-type {\n",
       "        vertical-align: middle;\n",
       "    }\n",
       "\n",
       "    .dataframe tbody tr th {\n",
       "        vertical-align: top;\n",
       "    }\n",
       "\n",
       "    .dataframe thead th {\n",
       "        text-align: right;\n",
       "    }\n",
       "</style>\n",
       "<table border=\"1\" class=\"dataframe\">\n",
       "  <thead>\n",
       "    <tr style=\"text-align: right;\">\n",
       "      <th></th>\n",
       "      <th>CountryCode</th>\n",
       "      <th>Country</th>\n",
       "      <th>SeriesCode</th>\n",
       "      <th>MDG</th>\n",
       "      <th>Series</th>\n",
       "      <th>1990</th>\n",
       "      <th>1991</th>\n",
       "      <th>1992</th>\n",
       "      <th>1993</th>\n",
       "      <th>1994</th>\n",
       "      <th>...</th>\n",
       "      <th>2003</th>\n",
       "      <th>2004</th>\n",
       "      <th>2005</th>\n",
       "      <th>2006</th>\n",
       "      <th>2007</th>\n",
       "      <th>2008</th>\n",
       "      <th>2009</th>\n",
       "      <th>2010</th>\n",
       "      <th>2011</th>\n",
       "      <th>2014</th>\n",
       "    </tr>\n",
       "  </thead>\n",
       "  <tbody>\n",
       "    <tr>\n",
       "      <th>0</th>\n",
       "      <td>4</td>\n",
       "      <td>Afghanistan</td>\n",
       "      <td>567</td>\n",
       "      <td>Y</td>\n",
       "      <td>Proportion of land area covered by forest, per...</td>\n",
       "      <td>2.1</td>\n",
       "      <td>NaN</td>\n",
       "      <td>NaN</td>\n",
       "      <td>NaN</td>\n",
       "      <td>NaN</td>\n",
       "      <td>...</td>\n",
       "      <td>NaN</td>\n",
       "      <td>NaN</td>\n",
       "      <td>2.1</td>\n",
       "      <td>NaN</td>\n",
       "      <td>NaN</td>\n",
       "      <td>NaN</td>\n",
       "      <td>NaN</td>\n",
       "      <td>2.1</td>\n",
       "      <td>NaN</td>\n",
       "      <td>NaN</td>\n",
       "    </tr>\n",
       "    <tr>\n",
       "      <th>3</th>\n",
       "      <td>8</td>\n",
       "      <td>Albania</td>\n",
       "      <td>567</td>\n",
       "      <td>Y</td>\n",
       "      <td>Proportion of land area covered by forest, per...</td>\n",
       "      <td>28.8</td>\n",
       "      <td>NaN</td>\n",
       "      <td>NaN</td>\n",
       "      <td>NaN</td>\n",
       "      <td>NaN</td>\n",
       "      <td>...</td>\n",
       "      <td>NaN</td>\n",
       "      <td>NaN</td>\n",
       "      <td>28.5</td>\n",
       "      <td>NaN</td>\n",
       "      <td>NaN</td>\n",
       "      <td>NaN</td>\n",
       "      <td>NaN</td>\n",
       "      <td>28.3</td>\n",
       "      <td>NaN</td>\n",
       "      <td>NaN</td>\n",
       "    </tr>\n",
       "    <tr>\n",
       "      <th>6</th>\n",
       "      <td>12</td>\n",
       "      <td>Algeria</td>\n",
       "      <td>567</td>\n",
       "      <td>Y</td>\n",
       "      <td>Proportion of land area covered by forest, per...</td>\n",
       "      <td>0.7</td>\n",
       "      <td>NaN</td>\n",
       "      <td>NaN</td>\n",
       "      <td>NaN</td>\n",
       "      <td>NaN</td>\n",
       "      <td>...</td>\n",
       "      <td>NaN</td>\n",
       "      <td>NaN</td>\n",
       "      <td>0.6</td>\n",
       "      <td>NaN</td>\n",
       "      <td>NaN</td>\n",
       "      <td>NaN</td>\n",
       "      <td>NaN</td>\n",
       "      <td>0.6</td>\n",
       "      <td>NaN</td>\n",
       "      <td>NaN</td>\n",
       "    </tr>\n",
       "  </tbody>\n",
       "</table>\n",
       "<p>3 rows × 28 columns</p>\n",
       "</div>"
      ],
      "text/plain": [
       "   CountryCode      Country  SeriesCode MDG  \\\n",
       "0            4  Afghanistan         567   Y   \n",
       "3            8      Albania         567   Y   \n",
       "6           12      Algeria         567   Y   \n",
       "\n",
       "                                              Series  1990  1991  1992  1993  \\\n",
       "0  Proportion of land area covered by forest, per...   2.1   NaN   NaN   NaN   \n",
       "3  Proportion of land area covered by forest, per...  28.8   NaN   NaN   NaN   \n",
       "6  Proportion of land area covered by forest, per...   0.7   NaN   NaN   NaN   \n",
       "\n",
       "   1994  ...  2003  2004  2005  2006  2007  2008  2009  2010  2011  2014  \n",
       "0   NaN  ...   NaN   NaN   2.1   NaN   NaN   NaN   NaN   2.1   NaN   NaN  \n",
       "3   NaN  ...   NaN   NaN  28.5   NaN   NaN   NaN   NaN  28.3   NaN   NaN  \n",
       "6   NaN  ...   NaN   NaN   0.6   NaN   NaN   NaN   NaN   0.6   NaN   NaN  \n",
       "\n",
       "[3 rows x 28 columns]"
      ]
     },
     "execution_count": 45,
     "metadata": {},
     "output_type": "execute_result"
    }
   ],
   "source": [
    "forest_covered_land_df = data_frame.loc[\n",
    "    data_frame[\"Series\"] == \"Proportion of land area covered by forest, percentage\"\n",
    "]\n",
    "forest_covered_land_df.head(3)"
   ]
  },
  {
   "attachments": {},
   "cell_type": "markdown",
   "metadata": {},
   "source": [
    "<strong> Terrestrial and marine areas protected to total territorial area </strong>"
   ]
  },
  {
   "cell_type": "code",
   "execution_count": 46,
   "metadata": {},
   "outputs": [
    {
     "data": {
      "text/html": [
       "<div>\n",
       "<style scoped>\n",
       "    .dataframe tbody tr th:only-of-type {\n",
       "        vertical-align: middle;\n",
       "    }\n",
       "\n",
       "    .dataframe tbody tr th {\n",
       "        vertical-align: top;\n",
       "    }\n",
       "\n",
       "    .dataframe thead th {\n",
       "        text-align: right;\n",
       "    }\n",
       "</style>\n",
       "<table border=\"1\" class=\"dataframe\">\n",
       "  <thead>\n",
       "    <tr style=\"text-align: right;\">\n",
       "      <th></th>\n",
       "      <th>CountryCode</th>\n",
       "      <th>Country</th>\n",
       "      <th>SeriesCode</th>\n",
       "      <th>MDG</th>\n",
       "      <th>Series</th>\n",
       "      <th>1990</th>\n",
       "      <th>1991</th>\n",
       "      <th>1992</th>\n",
       "      <th>1993</th>\n",
       "      <th>1994</th>\n",
       "      <th>...</th>\n",
       "      <th>2003</th>\n",
       "      <th>2004</th>\n",
       "      <th>2005</th>\n",
       "      <th>2006</th>\n",
       "      <th>2007</th>\n",
       "      <th>2008</th>\n",
       "      <th>2009</th>\n",
       "      <th>2010</th>\n",
       "      <th>2011</th>\n",
       "      <th>2014</th>\n",
       "    </tr>\n",
       "  </thead>\n",
       "  <tbody>\n",
       "    <tr>\n",
       "      <th>2</th>\n",
       "      <td>4</td>\n",
       "      <td>Afghanistan</td>\n",
       "      <td>616</td>\n",
       "      <td>Y</td>\n",
       "      <td>Terrestrial and marine areas protected to tota...</td>\n",
       "      <td>0.36</td>\n",
       "      <td>NaN</td>\n",
       "      <td>NaN</td>\n",
       "      <td>NaN</td>\n",
       "      <td>NaN</td>\n",
       "      <td>...</td>\n",
       "      <td>NaN</td>\n",
       "      <td>NaN</td>\n",
       "      <td>NaN</td>\n",
       "      <td>NaN</td>\n",
       "      <td>NaN</td>\n",
       "      <td>NaN</td>\n",
       "      <td>NaN</td>\n",
       "      <td>NaN</td>\n",
       "      <td>NaN</td>\n",
       "      <td>0.46</td>\n",
       "    </tr>\n",
       "    <tr>\n",
       "      <th>5</th>\n",
       "      <td>8</td>\n",
       "      <td>Albania</td>\n",
       "      <td>616</td>\n",
       "      <td>Y</td>\n",
       "      <td>Terrestrial and marine areas protected to tota...</td>\n",
       "      <td>0.15</td>\n",
       "      <td>NaN</td>\n",
       "      <td>NaN</td>\n",
       "      <td>NaN</td>\n",
       "      <td>NaN</td>\n",
       "      <td>...</td>\n",
       "      <td>NaN</td>\n",
       "      <td>NaN</td>\n",
       "      <td>NaN</td>\n",
       "      <td>NaN</td>\n",
       "      <td>NaN</td>\n",
       "      <td>NaN</td>\n",
       "      <td>NaN</td>\n",
       "      <td>NaN</td>\n",
       "      <td>NaN</td>\n",
       "      <td>1.91</td>\n",
       "    </tr>\n",
       "    <tr>\n",
       "      <th>8</th>\n",
       "      <td>12</td>\n",
       "      <td>Algeria</td>\n",
       "      <td>616</td>\n",
       "      <td>Y</td>\n",
       "      <td>Terrestrial and marine areas protected to tota...</td>\n",
       "      <td>5.97</td>\n",
       "      <td>NaN</td>\n",
       "      <td>NaN</td>\n",
       "      <td>NaN</td>\n",
       "      <td>NaN</td>\n",
       "      <td>...</td>\n",
       "      <td>NaN</td>\n",
       "      <td>NaN</td>\n",
       "      <td>NaN</td>\n",
       "      <td>NaN</td>\n",
       "      <td>NaN</td>\n",
       "      <td>NaN</td>\n",
       "      <td>NaN</td>\n",
       "      <td>NaN</td>\n",
       "      <td>NaN</td>\n",
       "      <td>7.46</td>\n",
       "    </tr>\n",
       "    <tr>\n",
       "      <th>11</th>\n",
       "      <td>16</td>\n",
       "      <td>American Samoa</td>\n",
       "      <td>616</td>\n",
       "      <td>Y</td>\n",
       "      <td>Terrestrial and marine areas protected to tota...</td>\n",
       "      <td>0.06</td>\n",
       "      <td>NaN</td>\n",
       "      <td>NaN</td>\n",
       "      <td>NaN</td>\n",
       "      <td>NaN</td>\n",
       "      <td>...</td>\n",
       "      <td>NaN</td>\n",
       "      <td>NaN</td>\n",
       "      <td>NaN</td>\n",
       "      <td>NaN</td>\n",
       "      <td>NaN</td>\n",
       "      <td>NaN</td>\n",
       "      <td>NaN</td>\n",
       "      <td>NaN</td>\n",
       "      <td>NaN</td>\n",
       "      <td>8.62</td>\n",
       "    </tr>\n",
       "    <tr>\n",
       "      <th>14</th>\n",
       "      <td>20</td>\n",
       "      <td>Andorra</td>\n",
       "      <td>616</td>\n",
       "      <td>Y</td>\n",
       "      <td>Terrestrial and marine areas protected to tota...</td>\n",
       "      <td>5.53</td>\n",
       "      <td>NaN</td>\n",
       "      <td>NaN</td>\n",
       "      <td>NaN</td>\n",
       "      <td>NaN</td>\n",
       "      <td>...</td>\n",
       "      <td>NaN</td>\n",
       "      <td>NaN</td>\n",
       "      <td>NaN</td>\n",
       "      <td>NaN</td>\n",
       "      <td>NaN</td>\n",
       "      <td>NaN</td>\n",
       "      <td>NaN</td>\n",
       "      <td>NaN</td>\n",
       "      <td>NaN</td>\n",
       "      <td>19.50</td>\n",
       "    </tr>\n",
       "  </tbody>\n",
       "</table>\n",
       "<p>5 rows × 28 columns</p>\n",
       "</div>"
      ],
      "text/plain": [
       "    CountryCode         Country  SeriesCode MDG  \\\n",
       "2             4     Afghanistan         616   Y   \n",
       "5             8         Albania         616   Y   \n",
       "8            12         Algeria         616   Y   \n",
       "11           16  American Samoa         616   Y   \n",
       "14           20         Andorra         616   Y   \n",
       "\n",
       "                                               Series  1990  1991  1992  1993  \\\n",
       "2   Terrestrial and marine areas protected to tota...  0.36   NaN   NaN   NaN   \n",
       "5   Terrestrial and marine areas protected to tota...  0.15   NaN   NaN   NaN   \n",
       "8   Terrestrial and marine areas protected to tota...  5.97   NaN   NaN   NaN   \n",
       "11  Terrestrial and marine areas protected to tota...  0.06   NaN   NaN   NaN   \n",
       "14  Terrestrial and marine areas protected to tota...  5.53   NaN   NaN   NaN   \n",
       "\n",
       "    1994  ...  2003  2004  2005  2006  2007  2008  2009  2010  2011   2014  \n",
       "2    NaN  ...   NaN   NaN   NaN   NaN   NaN   NaN   NaN   NaN   NaN   0.46  \n",
       "5    NaN  ...   NaN   NaN   NaN   NaN   NaN   NaN   NaN   NaN   NaN   1.91  \n",
       "8    NaN  ...   NaN   NaN   NaN   NaN   NaN   NaN   NaN   NaN   NaN   7.46  \n",
       "11   NaN  ...   NaN   NaN   NaN   NaN   NaN   NaN   NaN   NaN   NaN   8.62  \n",
       "14   NaN  ...   NaN   NaN   NaN   NaN   NaN   NaN   NaN   NaN   NaN  19.50  \n",
       "\n",
       "[5 rows x 28 columns]"
      ]
     },
     "execution_count": 46,
     "metadata": {},
     "output_type": "execute_result"
    }
   ],
   "source": [
    "protected_area_df = data_frame.loc[\n",
    "    data_frame[\"Series\"]\n",
    "    == \"Terrestrial and marine areas protected to total territorial area, percentage\"\n",
    "]\n",
    "protected_area_df.head()"
   ]
  },
  {
   "attachments": {},
   "cell_type": "markdown",
   "metadata": {},
   "source": [
    "<strong>Checking the state of the subsets</strong>"
   ]
  },
  {
   "cell_type": "code",
   "execution_count": 47,
   "metadata": {},
   "outputs": [
    {
     "name": "stdout",
     "output_type": "stream",
     "text": [
      "<class 'pandas.core.frame.DataFrame'>\n",
      "Index: 230 entries, 0 to 687\n",
      "Data columns (total 28 columns):\n",
      " #   Column       Non-Null Count  Dtype  \n",
      "---  ------       --------------  -----  \n",
      " 0   CountryCode  230 non-null    int64  \n",
      " 1   Country      230 non-null    object \n",
      " 2   SeriesCode   230 non-null    int64  \n",
      " 3   MDG          230 non-null    object \n",
      " 4   Series       230 non-null    object \n",
      " 5   1990         223 non-null    float64\n",
      " 6   1991         0 non-null      float64\n",
      " 7   1992         0 non-null      float64\n",
      " 8   1993         0 non-null      float64\n",
      " 9   1994         0 non-null      float64\n",
      " 10  1995         0 non-null      float64\n",
      " 11  1996         0 non-null      float64\n",
      " 12  1997         0 non-null      float64\n",
      " 13  1998         0 non-null      float64\n",
      " 14  1999         0 non-null      float64\n",
      " 15  2000         223 non-null    float64\n",
      " 16  2001         0 non-null      float64\n",
      " 17  2002         0 non-null      float64\n",
      " 18  2003         0 non-null      float64\n",
      " 19  2004         0 non-null      float64\n",
      " 20  2005         223 non-null    float64\n",
      " 21  2006         0 non-null      float64\n",
      " 22  2007         0 non-null      float64\n",
      " 23  2008         0 non-null      float64\n",
      " 24  2009         0 non-null      float64\n",
      " 25  2010         223 non-null    float64\n",
      " 26  2011         0 non-null      float64\n",
      " 27  2014         0 non-null      float64\n",
      "dtypes: float64(23), int64(2), object(3)\n",
      "memory usage: 52.1+ KB\n"
     ]
    }
   ],
   "source": [
    "forest_covered_land_df.info()"
   ]
  },
  {
   "cell_type": "code",
   "execution_count": 48,
   "metadata": {},
   "outputs": [
    {
     "name": "stdout",
     "output_type": "stream",
     "text": [
      "<class 'pandas.core.frame.DataFrame'>\n",
      "Index: 230 entries, 2 to 689\n",
      "Data columns (total 28 columns):\n",
      " #   Column       Non-Null Count  Dtype  \n",
      "---  ------       --------------  -----  \n",
      " 0   CountryCode  230 non-null    int64  \n",
      " 1   Country      230 non-null    object \n",
      " 2   SeriesCode   230 non-null    int64  \n",
      " 3   MDG          230 non-null    object \n",
      " 4   Series       230 non-null    object \n",
      " 5   1990         223 non-null    float64\n",
      " 6   1991         0 non-null      float64\n",
      " 7   1992         0 non-null      float64\n",
      " 8   1993         0 non-null      float64\n",
      " 9   1994         0 non-null      float64\n",
      " 10  1995         0 non-null      float64\n",
      " 11  1996         0 non-null      float64\n",
      " 12  1997         0 non-null      float64\n",
      " 13  1998         0 non-null      float64\n",
      " 14  1999         0 non-null      float64\n",
      " 15  2000         223 non-null    float64\n",
      " 16  2001         0 non-null      float64\n",
      " 17  2002         0 non-null      float64\n",
      " 18  2003         0 non-null      float64\n",
      " 19  2004         0 non-null      float64\n",
      " 20  2005         0 non-null      float64\n",
      " 21  2006         0 non-null      float64\n",
      " 22  2007         0 non-null      float64\n",
      " 23  2008         0 non-null      float64\n",
      " 24  2009         0 non-null      float64\n",
      " 25  2010         0 non-null      float64\n",
      " 26  2011         0 non-null      float64\n",
      " 27  2014         223 non-null    float64\n",
      "dtypes: float64(23), int64(2), object(3)\n",
      "memory usage: 52.1+ KB\n"
     ]
    }
   ],
   "source": [
    "protected_area_df.info()"
   ]
  },
  {
   "attachments": {},
   "cell_type": "markdown",
   "metadata": {},
   "source": [
    "<strong>Dropping missing values</strong>"
   ]
  },
  {
   "attachments": {},
   "cell_type": "markdown",
   "metadata": {},
   "source": [
    "The info() shows that data for both subsets were not recorded yearly, so the periods without data will be dropped."
   ]
  },
  {
   "attachments": {},
   "cell_type": "markdown",
   "metadata": {},
   "source": [
    "Thresh=6 means that a row must have at least 6 columns that do not have nan values to not be dropped.  CountryCode, Country, Seriescode, MDG, and Series columns do not have any missing values, the sixth column will be one of the year columns. There has to be at least one data point to be able to successfully make calculations."
   ]
  },
  {
   "cell_type": "code",
   "execution_count": 49,
   "metadata": {},
   "outputs": [],
   "source": [
    "forest_covered_land_df = forest_covered_land_df.dropna(axis=1, how=\"all\")\n",
    "forest_covered_land_df = forest_covered_land_df.dropna(axis=0, thresh=6)"
   ]
  },
  {
   "cell_type": "code",
   "execution_count": 50,
   "metadata": {},
   "outputs": [],
   "source": [
    "protected_area_df = protected_area_df.dropna(axis=1, how=\"all\")\n",
    "protected_area_df = protected_area_df.dropna(axis=0, thresh=6)"
   ]
  },
  {
   "attachments": {},
   "cell_type": "markdown",
   "metadata": {},
   "source": [
    "<strong>Checking nan values </strong>"
   ]
  },
  {
   "cell_type": "code",
   "execution_count": 51,
   "metadata": {},
   "outputs": [
    {
     "data": {
      "text/plain": [
       "0"
      ]
     },
     "execution_count": 51,
     "metadata": {},
     "output_type": "execute_result"
    }
   ],
   "source": [
    "forest_covered_land_df.isna().sum().sum()"
   ]
  },
  {
   "cell_type": "code",
   "execution_count": 52,
   "metadata": {},
   "outputs": [
    {
     "data": {
      "text/plain": [
       "0"
      ]
     },
     "execution_count": 52,
     "metadata": {},
     "output_type": "execute_result"
    }
   ],
   "source": [
    "protected_area_df.isna().sum().sum()"
   ]
  },
  {
   "attachments": {},
   "cell_type": "markdown",
   "metadata": {},
   "source": [
    "There are no missing values in both the forestry and protected area data sets. "
   ]
  },
  {
   "attachments": {},
   "cell_type": "markdown",
   "metadata": {},
   "source": [
    "<strong>Checking the descriptive statistics </strong>"
   ]
  },
  {
   "cell_type": "code",
   "execution_count": 53,
   "metadata": {},
   "outputs": [
    {
     "data": {
      "text/html": [
       "<div>\n",
       "<style scoped>\n",
       "    .dataframe tbody tr th:only-of-type {\n",
       "        vertical-align: middle;\n",
       "    }\n",
       "\n",
       "    .dataframe tbody tr th {\n",
       "        vertical-align: top;\n",
       "    }\n",
       "\n",
       "    .dataframe thead th {\n",
       "        text-align: right;\n",
       "    }\n",
       "</style>\n",
       "<table border=\"1\" class=\"dataframe\">\n",
       "  <thead>\n",
       "    <tr style=\"text-align: right;\">\n",
       "      <th></th>\n",
       "      <th>CountryCode</th>\n",
       "      <th>SeriesCode</th>\n",
       "      <th>1990</th>\n",
       "      <th>2000</th>\n",
       "      <th>2014</th>\n",
       "    </tr>\n",
       "  </thead>\n",
       "  <tbody>\n",
       "    <tr>\n",
       "      <th>count</th>\n",
       "      <td>223.000000</td>\n",
       "      <td>223.0</td>\n",
       "      <td>223.000000</td>\n",
       "      <td>223.000000</td>\n",
       "      <td>223.000000</td>\n",
       "    </tr>\n",
       "    <tr>\n",
       "      <th>mean</th>\n",
       "      <td>430.816143</td>\n",
       "      <td>616.0</td>\n",
       "      <td>4.742332</td>\n",
       "      <td>6.704126</td>\n",
       "      <td>11.288251</td>\n",
       "    </tr>\n",
       "    <tr>\n",
       "      <th>std</th>\n",
       "      <td>251.233367</td>\n",
       "      <td>0.0</td>\n",
       "      <td>6.726211</td>\n",
       "      <td>8.355043</td>\n",
       "      <td>13.919459</td>\n",
       "    </tr>\n",
       "    <tr>\n",
       "      <th>min</th>\n",
       "      <td>4.000000</td>\n",
       "      <td>616.0</td>\n",
       "      <td>0.000000</td>\n",
       "      <td>0.000000</td>\n",
       "      <td>0.000000</td>\n",
       "    </tr>\n",
       "    <tr>\n",
       "      <th>25%</th>\n",
       "      <td>216.000000</td>\n",
       "      <td>616.0</td>\n",
       "      <td>0.230000</td>\n",
       "      <td>0.540000</td>\n",
       "      <td>1.530000</td>\n",
       "    </tr>\n",
       "    <tr>\n",
       "      <th>50%</th>\n",
       "      <td>430.000000</td>\n",
       "      <td>616.0</td>\n",
       "      <td>2.230000</td>\n",
       "      <td>3.550000</td>\n",
       "      <td>6.690000</td>\n",
       "    </tr>\n",
       "    <tr>\n",
       "      <th>75%</th>\n",
       "      <td>642.500000</td>\n",
       "      <td>616.0</td>\n",
       "      <td>6.830000</td>\n",
       "      <td>10.110000</td>\n",
       "      <td>17.695000</td>\n",
       "    </tr>\n",
       "    <tr>\n",
       "      <th>max</th>\n",
       "      <td>894.000000</td>\n",
       "      <td>616.0</td>\n",
       "      <td>41.130000</td>\n",
       "      <td>43.820000</td>\n",
       "      <td>99.720000</td>\n",
       "    </tr>\n",
       "  </tbody>\n",
       "</table>\n",
       "</div>"
      ],
      "text/plain": [
       "       CountryCode  SeriesCode        1990        2000        2014\n",
       "count   223.000000       223.0  223.000000  223.000000  223.000000\n",
       "mean    430.816143       616.0    4.742332    6.704126   11.288251\n",
       "std     251.233367         0.0    6.726211    8.355043   13.919459\n",
       "min       4.000000       616.0    0.000000    0.000000    0.000000\n",
       "25%     216.000000       616.0    0.230000    0.540000    1.530000\n",
       "50%     430.000000       616.0    2.230000    3.550000    6.690000\n",
       "75%     642.500000       616.0    6.830000   10.110000   17.695000\n",
       "max     894.000000       616.0   41.130000   43.820000   99.720000"
      ]
     },
     "execution_count": 53,
     "metadata": {},
     "output_type": "execute_result"
    }
   ],
   "source": [
    "protected_area_df.describe()"
   ]
  },
  {
   "cell_type": "code",
   "execution_count": 54,
   "metadata": {},
   "outputs": [
    {
     "data": {
      "text/html": [
       "<div>\n",
       "<style scoped>\n",
       "    .dataframe tbody tr th:only-of-type {\n",
       "        vertical-align: middle;\n",
       "    }\n",
       "\n",
       "    .dataframe tbody tr th {\n",
       "        vertical-align: top;\n",
       "    }\n",
       "\n",
       "    .dataframe thead th {\n",
       "        text-align: right;\n",
       "    }\n",
       "</style>\n",
       "<table border=\"1\" class=\"dataframe\">\n",
       "  <thead>\n",
       "    <tr style=\"text-align: right;\">\n",
       "      <th></th>\n",
       "      <th>CountryCode</th>\n",
       "      <th>SeriesCode</th>\n",
       "      <th>1990</th>\n",
       "      <th>2000</th>\n",
       "      <th>2005</th>\n",
       "      <th>2010</th>\n",
       "    </tr>\n",
       "  </thead>\n",
       "  <tbody>\n",
       "    <tr>\n",
       "      <th>count</th>\n",
       "      <td>223.000000</td>\n",
       "      <td>223.0</td>\n",
       "      <td>223.000000</td>\n",
       "      <td>223.000000</td>\n",
       "      <td>223.000000</td>\n",
       "      <td>223.000000</td>\n",
       "    </tr>\n",
       "    <tr>\n",
       "      <th>mean</th>\n",
       "      <td>432.991031</td>\n",
       "      <td>567.0</td>\n",
       "      <td>32.977130</td>\n",
       "      <td>32.431390</td>\n",
       "      <td>32.147085</td>\n",
       "      <td>31.911211</td>\n",
       "    </tr>\n",
       "    <tr>\n",
       "      <th>std</th>\n",
       "      <td>253.250597</td>\n",
       "      <td>0.0</td>\n",
       "      <td>25.497512</td>\n",
       "      <td>24.873862</td>\n",
       "      <td>24.593779</td>\n",
       "      <td>24.406771</td>\n",
       "    </tr>\n",
       "    <tr>\n",
       "      <th>min</th>\n",
       "      <td>4.000000</td>\n",
       "      <td>567.0</td>\n",
       "      <td>0.000000</td>\n",
       "      <td>0.000000</td>\n",
       "      <td>0.000000</td>\n",
       "      <td>0.000000</td>\n",
       "    </tr>\n",
       "    <tr>\n",
       "      <th>25%</th>\n",
       "      <td>216.000000</td>\n",
       "      <td>567.0</td>\n",
       "      <td>11.050000</td>\n",
       "      <td>10.700000</td>\n",
       "      <td>10.700000</td>\n",
       "      <td>10.450000</td>\n",
       "    </tr>\n",
       "    <tr>\n",
       "      <th>50%</th>\n",
       "      <td>430.000000</td>\n",
       "      <td>567.0</td>\n",
       "      <td>30.200000</td>\n",
       "      <td>30.500000</td>\n",
       "      <td>31.000000</td>\n",
       "      <td>31.100000</td>\n",
       "    </tr>\n",
       "    <tr>\n",
       "      <th>75%</th>\n",
       "      <td>650.000000</td>\n",
       "      <td>567.0</td>\n",
       "      <td>50.550000</td>\n",
       "      <td>49.100000</td>\n",
       "      <td>49.100000</td>\n",
       "      <td>47.650000</td>\n",
       "    </tr>\n",
       "    <tr>\n",
       "      <th>max</th>\n",
       "      <td>894.000000</td>\n",
       "      <td>567.0</td>\n",
       "      <td>99.200000</td>\n",
       "      <td>98.800000</td>\n",
       "      <td>98.500000</td>\n",
       "      <td>98.300000</td>\n",
       "    </tr>\n",
       "  </tbody>\n",
       "</table>\n",
       "</div>"
      ],
      "text/plain": [
       "       CountryCode  SeriesCode        1990        2000        2005        2010\n",
       "count   223.000000       223.0  223.000000  223.000000  223.000000  223.000000\n",
       "mean    432.991031       567.0   32.977130   32.431390   32.147085   31.911211\n",
       "std     253.250597         0.0   25.497512   24.873862   24.593779   24.406771\n",
       "min       4.000000       567.0    0.000000    0.000000    0.000000    0.000000\n",
       "25%     216.000000       567.0   11.050000   10.700000   10.700000   10.450000\n",
       "50%     430.000000       567.0   30.200000   30.500000   31.000000   31.100000\n",
       "75%     650.000000       567.0   50.550000   49.100000   49.100000   47.650000\n",
       "max     894.000000       567.0   99.200000   98.800000   98.500000   98.300000"
      ]
     },
     "execution_count": 54,
     "metadata": {},
     "output_type": "execute_result"
    }
   ],
   "source": [
    "forest_covered_land_df.describe()"
   ]
  },
  {
   "attachments": {},
   "cell_type": "markdown",
   "metadata": {},
   "source": [
    "Nothing seems amiss with both data sets - the minimum and maximum values are within the correct bounds, 0-100, as they are percentages. There are 223 countries in both data sets."
   ]
  },
  {
   "attachments": {},
   "cell_type": "markdown",
   "metadata": {},
   "source": [
    "<strong>The standard deviation and mean of land covered by forest in 1990: </strong>"
   ]
  },
  {
   "attachments": {},
   "cell_type": "markdown",
   "metadata": {},
   "source": [
    "From the basic descriptive statistics table, the standard deviation is 25.5 percent and the mean is 32.98 percent. The standard deviation is large because of the wide variation of the data. "
   ]
  },
  {
   "cell_type": "code",
   "execution_count": 55,
   "metadata": {},
   "outputs": [
    {
     "data": {
      "image/png": "[encoded data removed]",
      "text/plain": [
       "<Figure size 1000x500 with 1 Axes>"
      ]
     },
     "metadata": {},
     "output_type": "display_data"
    }
   ],
   "source": [
    "forest_covered_land_df[\"1990\"].plot.density()\n",
    "plt.xlim([0, max(forest_covered_land_df[\"1990\"])])\n",
    "plt.title(\"Density plot for forestry in 1990\")\n",
    "plt.xlabel('forest-covered land')\n",
    "plt.show()"
   ]
  },
  {
   "attachments": {},
   "cell_type": "markdown",
   "metadata": {},
   "source": [
    "The density plot of forest-covered land shows a slightly right skewed distribution, and the wide variation of the distribution.\n",
    "\n",
    "The x-axis starts from a negative number even though a forest-covered land cannot be negative because the used distribution will cover both sides of the average value equally."
   ]
  },
  {
   "attachments": {},
   "cell_type": "markdown",
   "metadata": {},
   "source": [
    "<strong>A histogram of the land covered by forest in 1990 to determine the distribution of that year.</strong>"
   ]
  },
  {
   "cell_type": "code",
   "execution_count": 56,
   "metadata": {},
   "outputs": [
    {
     "data": {
      "image/png": "[encoded data removed]",
      "text/plain": [
       "<Figure size 1000x500 with 1 Axes>"
      ]
     },
     "metadata": {},
     "output_type": "display_data"
    }
   ],
   "source": [
    "plt.hist(forest_covered_land_df[\"1990\"])\n",
    "plt.title(\"Distribution of land covered by forest in 1990\")\n",
    "plt.xlabel(\"forest covered land  (in percentage)\")\n",
    "plt.ylabel(\"count of countries\")\n",
    "plt.show()"
   ]
  },
  {
   "attachments": {},
   "cell_type": "markdown",
   "metadata": {},
   "source": [
    "The peak of the graph is towards the left and the tail to the right, hence the graph is right-tailed (right skewed)"
   ]
  },
  {
   "attachments": {},
   "cell_type": "markdown",
   "metadata": {},
   "source": [
    "<strong> Asserting if the two data sets are equal </strong>"
   ]
  },
  {
   "cell_type": "code",
   "execution_count": 57,
   "metadata": {},
   "outputs": [],
   "source": [
    "assert len(protected_area_df) == len(forest_covered_land_df)"
   ]
  },
  {
   "attachments": {},
   "cell_type": "markdown",
   "metadata": {},
   "source": [
    "<strong>Check if both data sets have the same countries</strong>"
   ]
  },
  {
   "cell_type": "code",
   "execution_count": 58,
   "metadata": {},
   "outputs": [
    {
     "data": {
      "text/plain": [
       "128    China, Hong Kong Special Administrative Region\n",
       "131        China, Macao Special Administrative Region\n",
       "395                                            Monaco\n",
       "566                                       South Sudan\n",
       "578                                             Sudan\n",
       "234                                         Gibraltar\n",
       "504                                      Saint Helena\n",
       "513                         Saint Pierre and Miquelon\n",
       "579                                    Sudan (former)\n",
       "672                         Wallis and Futuna Islands\n",
       "Name: Country, dtype: object"
      ]
     },
     "execution_count": 58,
     "metadata": {},
     "output_type": "execute_result"
    }
   ],
   "source": [
    "pd.concat(\n",
    "    [protected_area_df[\"Country\"], forest_covered_land_df[\"Country\"]]\n",
    ").drop_duplicates(keep=False)"
   ]
  },
  {
   "attachments": {},
   "cell_type": "markdown",
   "metadata": {},
   "source": [
    "The presence of countries that are not in both data sets isn't ideal since there will be correlation calculations to determine their relationship, and for correlation to be accurate, the countries must be the same. These countries will therefore be dropped from their respective data sets."
   ]
  },
  {
   "cell_type": "code",
   "execution_count": 59,
   "metadata": {},
   "outputs": [],
   "source": [
    "countries_not_in_forestry = [\"China, Hong Kong Special Administrative Region\", \"China, Macao Special Administrative Region\", \n",
    "                                   \"Monaco\", \"South Sudan\", \"Sudan\"]\n",
    "protected_area_df = protected_area_df.apply(lambda row: row[~protected_area_df['Country'].isin(countries_not_in_forestry)])"
   ]
  },
  {
   "cell_type": "code",
   "execution_count": 60,
   "metadata": {},
   "outputs": [],
   "source": [
    "countries_not_in_protected = [\"Gibraltar\", \"Saint Helena\", \"Saint Pierre and Miquelon\", \"Sudan (former)\", \"Wallis and Futuna Islands\"]\n",
    "forest_covered_land_df.drop(forest_covered_land_df[forest_covered_land_df['Country'].isin(countries_not_in_protected)].index, axis = 0, inplace = True)"
   ]
  },
  {
   "attachments": {},
   "cell_type": "markdown",
   "metadata": {},
   "source": [
    "<strong>Check if both data sets still have the same countries</strong>"
   ]
  },
  {
   "cell_type": "code",
   "execution_count": 61,
   "metadata": {},
   "outputs": [
    {
     "data": {
      "text/plain": [
       "Series([], Name: Country, dtype: object)"
      ]
     },
     "execution_count": 61,
     "metadata": {},
     "output_type": "execute_result"
    }
   ],
   "source": [
    "pd.concat(\n",
    "    [protected_area_df[\"Country\"], forest_covered_land_df[\"Country\"]]\n",
    ").drop_duplicates(keep=False)"
   ]
  },
  {
   "attachments": {},
   "cell_type": "markdown",
   "metadata": {},
   "source": [
    "The data sets now have the same countries"
   ]
  },
  {
   "attachments": {},
   "cell_type": "markdown",
   "metadata": {},
   "source": [
    "<strong> Asserting if the two data sets are still equal </strong>"
   ]
  },
  {
   "cell_type": "code",
   "execution_count": 62,
   "metadata": {},
   "outputs": [],
   "source": [
    "assert len(protected_area_df) == len(forest_covered_land_df)"
   ]
  },
  {
   "attachments": {},
   "cell_type": "markdown",
   "metadata": {},
   "source": [
    "<strong> Investigating relationship between the forest-covered land and the protected areas </strong>"
   ]
  },
  {
   "cell_type": "code",
   "execution_count": 63,
   "metadata": {},
   "outputs": [
    {
     "data": {
      "image/png": "[encoded data removed]",
      "text/plain": [
       "<Figure size 1000x500 with 1 Axes>"
      ]
     },
     "metadata": {},
     "output_type": "display_data"
    }
   ],
   "source": [
    "regression_plot = sns.regplot(\n",
    "    x=protected_area_df[\"2000\"], y=forest_covered_land_df[\"2000\"], data=data_frame\n",
    ")\n",
    "plt.xlabel(\"protected land (in percentage)\")\n",
    "plt.ylabel(\"forest covered land (in percentage)\")\n",
    "plt.title(\n",
    "    \"Relationship between forest-covered land and protected land in the year 2000\"\n",
    ")\n",
    "\n",
    "slope, intercept, r, p, sterr = sp.linregress(\n",
    "    x=regression_plot.get_lines()[0].get_xdata(),\n",
    "    y=regression_plot.get_lines()[0].get_ydata(),\n",
    ")\n",
    "plt.text(20, 95, f\"y = {str(round(intercept, 3))} + {str(round(slope, 3))}x\")\n",
    "plt.show()"
   ]
  },
  {
   "attachments": {},
   "cell_type": "markdown",
   "metadata": {},
   "source": [
    "From the lack of a clear graph pattern, it seems that there is no relationship between forest-covered land and protected areas. According to the regression line, the slope is 0.396, indicating that although the pattern shows no relationship, there may be a weak correlation.\n",
    "There are data points that have zero percentage of protected land, and increase in a vertical linear manner. There are unusual values - outliers. In this case, these are the data points that are separated from one another by a significant amount.\n"
   ]
  },
  {
   "attachments": {},
   "cell_type": "markdown",
   "metadata": {},
   "source": [
    "<strong>Finding the outliers using the protected area data set</strong>"
   ]
  },
  {
   "cell_type": "code",
   "execution_count": 64,
   "metadata": {},
   "outputs": [
    {
     "name": "stdout",
     "output_type": "stream",
     "text": [
      "lower bound = -13.457499999999998\n",
      "upper bound = 23.902499999999996\n"
     ]
    }
   ],
   "source": [
    "q3, q1 = np.nanquantile(protected_area_df[\"2000\"], [0.75, 0.25])\n",
    "iqr = q3 - q1\n",
    "lower_bound = q1 -(1.5 * iqr) \n",
    "upper_bound = q3 +(1.5 * iqr) \n",
    "print(\"lower bound =\", lower_bound)\n",
    "print(\"upper bound =\", upper_bound)"
   ]
  },
  {
   "attachments": {},
   "cell_type": "markdown",
   "metadata": {},
   "source": [
    "Because the protected area and forest-covered land are recorded in percentages, the outliers should be between zero and a hundred. The lower bound is out of question because it's negative. The countries that have percentages of over 23.9 will be classified as outliers. "
   ]
  },
  {
   "cell_type": "code",
   "execution_count": 65,
   "metadata": {},
   "outputs": [
    {
     "data": {
      "text/plain": [
       "38               Austria\n",
       "71                Bhutan\n",
       "80              Botswana\n",
       "89     Brunei Darussalam\n",
       "230              Germany\n",
       "347        Liechtenstein\n",
       "353           Luxembourg\n",
       "530         Saudi Arabia\n",
       "668            Venezuela\n",
       "686               Zambia\n",
       "Name: Country, dtype: object"
      ]
     },
     "execution_count": 65,
     "metadata": {},
     "output_type": "execute_result"
    }
   ],
   "source": [
    "protected_area_df.loc[protected_area_df['2000'] > upper_bound, 'Country']"
   ]
  },
  {
   "attachments": {},
   "cell_type": "markdown",
   "metadata": {},
   "source": [
    "These countries have unusually higher percentages of protected areas compared to the other countries in the world. There isn't really a clear pattern of why that is - they are from different continents and differ in wealth."
   ]
  },
  {
   "attachments": {},
   "cell_type": "markdown",
   "metadata": {},
   "source": [
    "<strong>Log transforming protected land and land covered by forest, focusing on the year 2000. This is done to skewed data to conform it to normality</strong>"
   ]
  },
  {
   "attachments": {},
   "cell_type": "markdown",
   "metadata": {},
   "source": [
    "The natural log returns error if the value is zero, this is why 0.00001 is added to every data point. It is small to not make a significant difference but greater than zero."
   ]
  },
  {
   "cell_type": "code",
   "execution_count": 66,
   "metadata": {},
   "outputs": [],
   "source": [
    "transformed_protected_area = np.log10(protected_area_df[\"2000\"] + 0.00001)"
   ]
  },
  {
   "cell_type": "code",
   "execution_count": 67,
   "metadata": {},
   "outputs": [],
   "source": [
    "transformed_forest_covered_land = np.log10(forest_covered_land_df[\"2000\"] + 0.00001)"
   ]
  },
  {
   "attachments": {},
   "cell_type": "markdown",
   "metadata": {},
   "source": [
    "<strong>A histogram of the transformed protected_area_df</strong>"
   ]
  },
  {
   "cell_type": "code",
   "execution_count": 68,
   "metadata": {},
   "outputs": [
    {
     "data": {
      "image/png": "[encoded data removed]",
      "text/plain": [
       "<Figure size 1000x500 with 1 Axes>"
      ]
     },
     "metadata": {},
     "output_type": "display_data"
    }
   ],
   "source": [
    "plt.hist(transformed_protected_area)\n",
    "plt.title(\"Distribution of protected areas in 2000\")\n",
    "plt.ylabel(\"count of countries\")\n",
    "plt.xlabel(\"transformed percentage of protected area\")\n",
    "plt.show()"
   ]
  },
  {
   "attachments": {},
   "cell_type": "markdown",
   "metadata": {},
   "source": [
    "The distribution has a peak on the right side of the data, with the tail trailing to the left - this distribution is therefore skewed to the left."
   ]
  },
  {
   "attachments": {},
   "cell_type": "markdown",
   "metadata": {},
   "source": [
    "<strong>A histogram of the transformed forest_covered_land_df</strong>"
   ]
  },
  {
   "cell_type": "code",
   "execution_count": 69,
   "metadata": {},
   "outputs": [
    {
     "data": {
      "image/png": "[encoded data removed]",
      "text/plain": [
       "<Figure size 1000x500 with 1 Axes>"
      ]
     },
     "metadata": {},
     "output_type": "display_data"
    }
   ],
   "source": [
    "plt.hist(transformed_forest_covered_land)\n",
    "plt.title(\"Distribution of land covered by forest in 2000\")\n",
    "plt.ylabel(\"count of countries\")\n",
    "plt.xlabel(\"transformed percentage of forest-covered land\")\n",
    "plt.show()"
   ]
  },
  {
   "attachments": {},
   "cell_type": "markdown",
   "metadata": {},
   "source": [
    "The distribution is skewed to the left"
   ]
  },
  {
   "attachments": {},
   "cell_type": "markdown",
   "metadata": {},
   "source": [
    "<strong>Log transforming protected_area_df and forest_covered_land_df, focusing on the year 1990 and finding the correlation between these two variables, with their p-value. </strong>"
   ]
  },
  {
   "cell_type": "code",
   "execution_count": 70,
   "metadata": {},
   "outputs": [],
   "source": [
    "transformed_protected_land_1990 = np.log10(protected_area_df[\"1990\"] + 0.00001)"
   ]
  },
  {
   "cell_type": "code",
   "execution_count": 71,
   "metadata": {},
   "outputs": [],
   "source": [
    "transformed_forest_covered_land_1990 = np.log10(\n",
    "    forest_covered_land_df[\"1990\"] + 0.00001\n",
    ")"
   ]
  },
  {
   "attachments": {},
   "cell_type": "markdown",
   "metadata": {},
   "source": [
    "<strong> Pearson Correlation Coefficient </strong>"
   ]
  },
  {
   "attachments": {},
   "cell_type": "markdown",
   "metadata": {},
   "source": [
    "The Pearson Correlation Coefficient is a test statistics that investigate the correlation of two relationships. A significance level (alpha) is chosen as a criterion to reject the hypothesis or not. The standard significance level is 0.05."
   ]
  },
  {
   "attachments": {},
   "cell_type": "markdown",
   "metadata": {},
   "source": [
    "<strong>H<sub>0</sub></strong> : The two variables do not have a linear relationship. <br>\n",
    "<strong>H<sub>1</sub></strong>: The two variables have a linear relationship"
   ]
  },
  {
   "cell_type": "code",
   "execution_count": 72,
   "metadata": {},
   "outputs": [
    {
     "data": {
      "text/plain": [
       "PearsonRResult(statistic=0.24794542036893757, pvalue=0.00021753521425392435)"
      ]
     },
     "execution_count": 72,
     "metadata": {},
     "output_type": "execute_result"
    }
   ],
   "source": [
    "sp.pearsonr(transformed_protected_land_1990, transformed_forest_covered_land_1990)"
   ]
  },
  {
   "attachments": {},
   "cell_type": "markdown",
   "metadata": {},
   "source": [
    "The correlation coefficient indicates that there is a weak relationship between the two variables, and the one variable increases with the other. The p-value is less than the alpha, we therefore reject the null hypothesis (H<sub>0</sub>)."
   ]
  },
  {
   "attachments": {},
   "cell_type": "markdown",
   "metadata": {},
   "source": [
    "<strong> Spearman Rank-Order Correlation Coefficient </strong>"
   ]
  },
  {
   "attachments": {},
   "cell_type": "markdown",
   "metadata": {},
   "source": [
    "The Spearman Rank Correlation is used to measure the correlation between two ranked variables. A significance level (alpha) is chosen as a criterion to reject the hypothesis or not. The standard significance level is 0.05."
   ]
  },
  {
   "attachments": {},
   "cell_type": "markdown",
   "metadata": {},
   "source": [
    "<strong>H<sub>0</sub></strong> : The two variables do not have a monotonic relationship <br>\n",
    "<strong>H<sub>1</sub></strong>: The two variables have a monotonic relationship"
   ]
  },
  {
   "cell_type": "code",
   "execution_count": 73,
   "metadata": {},
   "outputs": [
    {
     "data": {
      "text/plain": [
       "SignificanceResult(statistic=0.09929087294679183, pvalue=0.14396137671319045)"
      ]
     },
     "execution_count": 73,
     "metadata": {},
     "output_type": "execute_result"
    }
   ],
   "source": [
    "sp.spearmanr(transformed_protected_land_1990, transformed_forest_covered_land_1990)"
   ]
  },
  {
   "attachments": {},
   "cell_type": "markdown",
   "metadata": {},
   "source": [
    "The Spearman Rank-Order Correlation indicates that there is a weak relationship between the two variables, and the one variable increases with the other. The p-value is greater than the alpha, we therefore fail to reject the null hypothesis (H<sub>0</sub>)."
   ]
  },
  {
   "attachments": {},
   "cell_type": "markdown",
   "metadata": {},
   "source": [
    "<strong> Why the different results between the Spearman Rank Correlation Coefficient and the Pearson Correlation Coefficient? </strong><br>\n",
    "\n",
    "* The two correlation tests investigates two different types of relationships - linear and monotonic (the hypotheses above test for each relationship). The two variables, protected land and forest-covered land do not have a linear relationship but they have a monotonic relationship, and that is why the correlation coefficients are different."
   ]
  },
  {
   "attachments": {},
   "cell_type": "markdown",
   "metadata": {},
   "source": [
    "# Conclusion"
   ]
  },
  {
   "attachments": {},
   "cell_type": "markdown",
   "metadata": {},
   "source": [
    "This notebook sought to determine whether one of the UN's Millennium Development Goals, ensuring environmental sustainability, had been met. Starting with carbon dioxide emissions, evidence suggests that, despite an increase in carbon emissions from 1990 to 2011, this was due to countries such as China, which had doubled its emissions by 2011. Some countries, such as the United States, have made efforts to reduce their emissions, while others, such as Brazil and South Africa, have made efforts to maintain their low levels of emissions.\n",
    "The amount of land covered by forests and protected lands have had little to no change. Some countries have had an increase and some a  decrease of about a percent. "
   ]
  }
 ],
 "metadata": {
  "kernelspec": {
   "display_name": "Python 3",
   "language": "python",
   "name": "python3"
  },
  "language_info": {
   "codemirror_mode": {
    "name": "ipython",
    "version": 3
   },
   "file_extension": ".py",
   "mimetype": "text/x-python",
   "name": "python",
   "nbconvert_exporter": "python",
   "pygments_lexer": "ipython3",
   "version": "3.11.9"
  },
  "orig_nbformat": 4,
  "vscode": {
   "interpreter": {
    "hash": "2f13ea2af4ed76a542cb2c7972daeca06d4236331153bfe5fa56fe30f8b5c326"
   }
  }
 },
 "nbformat": 4,
 "nbformat_minor": 2
}
